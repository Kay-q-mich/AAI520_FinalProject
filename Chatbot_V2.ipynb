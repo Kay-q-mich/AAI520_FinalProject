{
  "cells": [
    {
      "cell_type": "markdown",
      "source": [
        "Downloading and re-arranging the dataset was difficult, and I found it online from Cornell directly all cleaned and viable. Using the link to the [Main Site](https://www.cs.cornell.edu/~cristian/Cornell_Movie-Dialogs_Corpus.html) which then takes you to the [library download](https://convokit.cornell.edu/documentation/movie.html)"
      ],
      "metadata": {
        "id": "E2S37fayu1no"
      }
    },
    {
      "cell_type": "code",
      "source": [
        "pip install convokit"
      ],
      "metadata": {
        "colab": {
          "base_uri": "https://localhost:8080/"
        },
        "collapsed": true,
        "id": "Ufha9N8oux-X",
        "outputId": "2f06466a-2278-4947-9dd9-b7712198af60"
      },
      "execution_count": 1,
      "outputs": [
        {
          "output_type": "stream",
          "name": "stdout",
          "text": [
            "Collecting convokit\n",
            "  Downloading convokit-3.0.0.tar.gz (183 kB)\n",
            "\u001b[2K     \u001b[90m━━━━━━━━━━━━━━━━━━━━━━━━━━━━━━━━━━━━━━━━\u001b[0m \u001b[32m183.2/183.2 kB\u001b[0m \u001b[31m1.4 MB/s\u001b[0m eta \u001b[36m0:00:00\u001b[0m\n",
            "\u001b[?25h  Installing build dependencies ... \u001b[?25l\u001b[?25hdone\n",
            "  Getting requirements to build wheel ... \u001b[?25l\u001b[?25hdone\n",
            "  Preparing metadata (pyproject.toml) ... \u001b[?25l\u001b[?25hdone\n",
            "Requirement already satisfied: matplotlib>=3.0.0 in /usr/local/lib/python3.10/dist-packages (from convokit) (3.7.1)\n",
            "Requirement already satisfied: pandas>=0.23.4 in /usr/local/lib/python3.10/dist-packages (from convokit) (2.2.2)\n",
            "Collecting msgpack-numpy>=0.4.3.2 (from convokit)\n",
            "  Downloading msgpack_numpy-0.4.8-py2.py3-none-any.whl.metadata (5.0 kB)\n",
            "Requirement already satisfied: spacy>=2.3.5 in /usr/local/lib/python3.10/dist-packages (from convokit) (3.7.5)\n",
            "Requirement already satisfied: scipy>=1.1.0 in /usr/local/lib/python3.10/dist-packages (from convokit) (1.13.1)\n",
            "Requirement already satisfied: scikit-learn>=0.20.0 in /usr/local/lib/python3.10/dist-packages (from convokit) (1.5.2)\n",
            "Requirement already satisfied: nltk>=3.4 in /usr/local/lib/python3.10/dist-packages (from convokit) (3.8.1)\n",
            "Collecting dill>=0.2.9 (from convokit)\n",
            "  Downloading dill-0.3.9-py3-none-any.whl.metadata (10 kB)\n",
            "Requirement already satisfied: joblib>=0.13.2 in /usr/local/lib/python3.10/dist-packages (from convokit) (1.4.2)\n",
            "Collecting clean-text>=0.6.0 (from convokit)\n",
            "  Downloading clean_text-0.6.0-py3-none-any.whl.metadata (6.6 kB)\n",
            "Collecting unidecode>=1.1.1 (from convokit)\n",
            "  Downloading Unidecode-1.3.8-py3-none-any.whl.metadata (13 kB)\n",
            "Requirement already satisfied: tqdm>=4.64.0 in /usr/local/lib/python3.10/dist-packages (from convokit) (4.66.5)\n",
            "Collecting pymongo>=4.0 (from convokit)\n",
            "  Downloading pymongo-4.10.1-cp310-cp310-manylinux_2_17_x86_64.manylinux2014_x86_64.whl.metadata (22 kB)\n",
            "Requirement already satisfied: pyyaml>=5.4.1 in /usr/local/lib/python3.10/dist-packages (from convokit) (6.0.2)\n",
            "Collecting dnspython>=1.16.0 (from convokit)\n",
            "  Downloading dnspython-2.7.0-py3-none-any.whl.metadata (5.8 kB)\n",
            "Collecting emoji<2.0.0,>=1.0.0 (from clean-text>=0.6.0->convokit)\n",
            "  Downloading emoji-1.7.0.tar.gz (175 kB)\n",
            "\u001b[2K     \u001b[90m━━━━━━━━━━━━━━━━━━━━━━━━━━━━━━━━━━━━━━━━\u001b[0m \u001b[32m175.4/175.4 kB\u001b[0m \u001b[31m7.9 MB/s\u001b[0m eta \u001b[36m0:00:00\u001b[0m\n",
            "\u001b[?25h  Preparing metadata (setup.py) ... \u001b[?25l\u001b[?25hdone\n",
            "Collecting ftfy<7.0,>=6.0 (from clean-text>=0.6.0->convokit)\n",
            "  Downloading ftfy-6.2.3-py3-none-any.whl.metadata (7.8 kB)\n",
            "Requirement already satisfied: contourpy>=1.0.1 in /usr/local/lib/python3.10/dist-packages (from matplotlib>=3.0.0->convokit) (1.3.0)\n",
            "Requirement already satisfied: cycler>=0.10 in /usr/local/lib/python3.10/dist-packages (from matplotlib>=3.0.0->convokit) (0.12.1)\n",
            "Requirement already satisfied: fonttools>=4.22.0 in /usr/local/lib/python3.10/dist-packages (from matplotlib>=3.0.0->convokit) (4.54.1)\n",
            "Requirement already satisfied: kiwisolver>=1.0.1 in /usr/local/lib/python3.10/dist-packages (from matplotlib>=3.0.0->convokit) (1.4.7)\n",
            "Requirement already satisfied: numpy>=1.20 in /usr/local/lib/python3.10/dist-packages (from matplotlib>=3.0.0->convokit) (1.26.4)\n",
            "Requirement already satisfied: packaging>=20.0 in /usr/local/lib/python3.10/dist-packages (from matplotlib>=3.0.0->convokit) (24.1)\n",
            "Requirement already satisfied: pillow>=6.2.0 in /usr/local/lib/python3.10/dist-packages (from matplotlib>=3.0.0->convokit) (10.4.0)\n",
            "Requirement already satisfied: pyparsing>=2.3.1 in /usr/local/lib/python3.10/dist-packages (from matplotlib>=3.0.0->convokit) (3.1.4)\n",
            "Requirement already satisfied: python-dateutil>=2.7 in /usr/local/lib/python3.10/dist-packages (from matplotlib>=3.0.0->convokit) (2.8.2)\n",
            "Requirement already satisfied: msgpack>=0.5.2 in /usr/local/lib/python3.10/dist-packages (from msgpack-numpy>=0.4.3.2->convokit) (1.0.8)\n",
            "Requirement already satisfied: click in /usr/local/lib/python3.10/dist-packages (from nltk>=3.4->convokit) (8.1.7)\n",
            "Requirement already satisfied: regex>=2021.8.3 in /usr/local/lib/python3.10/dist-packages (from nltk>=3.4->convokit) (2024.9.11)\n",
            "Requirement already satisfied: pytz>=2020.1 in /usr/local/lib/python3.10/dist-packages (from pandas>=0.23.4->convokit) (2024.2)\n",
            "Requirement already satisfied: tzdata>=2022.7 in /usr/local/lib/python3.10/dist-packages (from pandas>=0.23.4->convokit) (2024.2)\n",
            "Requirement already satisfied: threadpoolctl>=3.1.0 in /usr/local/lib/python3.10/dist-packages (from scikit-learn>=0.20.0->convokit) (3.5.0)\n",
            "Requirement already satisfied: spacy-legacy<3.1.0,>=3.0.11 in /usr/local/lib/python3.10/dist-packages (from spacy>=2.3.5->convokit) (3.0.12)\n",
            "Requirement already satisfied: spacy-loggers<2.0.0,>=1.0.0 in /usr/local/lib/python3.10/dist-packages (from spacy>=2.3.5->convokit) (1.0.5)\n",
            "Requirement already satisfied: murmurhash<1.1.0,>=0.28.0 in /usr/local/lib/python3.10/dist-packages (from spacy>=2.3.5->convokit) (1.0.10)\n",
            "Requirement already satisfied: cymem<2.1.0,>=2.0.2 in /usr/local/lib/python3.10/dist-packages (from spacy>=2.3.5->convokit) (2.0.8)\n",
            "Requirement already satisfied: preshed<3.1.0,>=3.0.2 in /usr/local/lib/python3.10/dist-packages (from spacy>=2.3.5->convokit) (3.0.9)\n",
            "Requirement already satisfied: thinc<8.3.0,>=8.2.2 in /usr/local/lib/python3.10/dist-packages (from spacy>=2.3.5->convokit) (8.2.5)\n",
            "Requirement already satisfied: wasabi<1.2.0,>=0.9.1 in /usr/local/lib/python3.10/dist-packages (from spacy>=2.3.5->convokit) (1.1.3)\n",
            "Requirement already satisfied: srsly<3.0.0,>=2.4.3 in /usr/local/lib/python3.10/dist-packages (from spacy>=2.3.5->convokit) (2.4.8)\n",
            "Requirement already satisfied: catalogue<2.1.0,>=2.0.6 in /usr/local/lib/python3.10/dist-packages (from spacy>=2.3.5->convokit) (2.0.10)\n",
            "Requirement already satisfied: weasel<0.5.0,>=0.1.0 in /usr/local/lib/python3.10/dist-packages (from spacy>=2.3.5->convokit) (0.4.1)\n",
            "Requirement already satisfied: typer<1.0.0,>=0.3.0 in /usr/local/lib/python3.10/dist-packages (from spacy>=2.3.5->convokit) (0.12.5)\n",
            "Requirement already satisfied: requests<3.0.0,>=2.13.0 in /usr/local/lib/python3.10/dist-packages (from spacy>=2.3.5->convokit) (2.32.3)\n",
            "Requirement already satisfied: pydantic!=1.8,!=1.8.1,<3.0.0,>=1.7.4 in /usr/local/lib/python3.10/dist-packages (from spacy>=2.3.5->convokit) (2.9.2)\n",
            "Requirement already satisfied: jinja2 in /usr/local/lib/python3.10/dist-packages (from spacy>=2.3.5->convokit) (3.1.4)\n",
            "Requirement already satisfied: setuptools in /usr/local/lib/python3.10/dist-packages (from spacy>=2.3.5->convokit) (71.0.4)\n",
            "Requirement already satisfied: langcodes<4.0.0,>=3.2.0 in /usr/local/lib/python3.10/dist-packages (from spacy>=2.3.5->convokit) (3.4.1)\n",
            "Requirement already satisfied: wcwidth<0.3.0,>=0.2.12 in /usr/local/lib/python3.10/dist-packages (from ftfy<7.0,>=6.0->clean-text>=0.6.0->convokit) (0.2.13)\n",
            "Requirement already satisfied: language-data>=1.2 in /usr/local/lib/python3.10/dist-packages (from langcodes<4.0.0,>=3.2.0->spacy>=2.3.5->convokit) (1.2.0)\n",
            "Requirement already satisfied: annotated-types>=0.6.0 in /usr/local/lib/python3.10/dist-packages (from pydantic!=1.8,!=1.8.1,<3.0.0,>=1.7.4->spacy>=2.3.5->convokit) (0.7.0)\n",
            "Requirement already satisfied: pydantic-core==2.23.4 in /usr/local/lib/python3.10/dist-packages (from pydantic!=1.8,!=1.8.1,<3.0.0,>=1.7.4->spacy>=2.3.5->convokit) (2.23.4)\n",
            "Requirement already satisfied: typing-extensions>=4.6.1 in /usr/local/lib/python3.10/dist-packages (from pydantic!=1.8,!=1.8.1,<3.0.0,>=1.7.4->spacy>=2.3.5->convokit) (4.12.2)\n",
            "Requirement already satisfied: six>=1.5 in /usr/local/lib/python3.10/dist-packages (from python-dateutil>=2.7->matplotlib>=3.0.0->convokit) (1.16.0)\n",
            "Requirement already satisfied: charset-normalizer<4,>=2 in /usr/local/lib/python3.10/dist-packages (from requests<3.0.0,>=2.13.0->spacy>=2.3.5->convokit) (3.3.2)\n",
            "Requirement already satisfied: idna<4,>=2.5 in /usr/local/lib/python3.10/dist-packages (from requests<3.0.0,>=2.13.0->spacy>=2.3.5->convokit) (3.10)\n",
            "Requirement already satisfied: urllib3<3,>=1.21.1 in /usr/local/lib/python3.10/dist-packages (from requests<3.0.0,>=2.13.0->spacy>=2.3.5->convokit) (2.2.3)\n",
            "Requirement already satisfied: certifi>=2017.4.17 in /usr/local/lib/python3.10/dist-packages (from requests<3.0.0,>=2.13.0->spacy>=2.3.5->convokit) (2024.8.30)\n",
            "Requirement already satisfied: blis<0.8.0,>=0.7.8 in /usr/local/lib/python3.10/dist-packages (from thinc<8.3.0,>=8.2.2->spacy>=2.3.5->convokit) (0.7.11)\n",
            "Requirement already satisfied: confection<1.0.0,>=0.0.1 in /usr/local/lib/python3.10/dist-packages (from thinc<8.3.0,>=8.2.2->spacy>=2.3.5->convokit) (0.1.5)\n",
            "Requirement already satisfied: shellingham>=1.3.0 in /usr/local/lib/python3.10/dist-packages (from typer<1.0.0,>=0.3.0->spacy>=2.3.5->convokit) (1.5.4)\n",
            "Requirement already satisfied: rich>=10.11.0 in /usr/local/lib/python3.10/dist-packages (from typer<1.0.0,>=0.3.0->spacy>=2.3.5->convokit) (13.8.1)\n",
            "Requirement already satisfied: cloudpathlib<1.0.0,>=0.7.0 in /usr/local/lib/python3.10/dist-packages (from weasel<0.5.0,>=0.1.0->spacy>=2.3.5->convokit) (0.19.0)\n",
            "Requirement already satisfied: smart-open<8.0.0,>=5.2.1 in /usr/local/lib/python3.10/dist-packages (from weasel<0.5.0,>=0.1.0->spacy>=2.3.5->convokit) (7.0.4)\n",
            "Requirement already satisfied: MarkupSafe>=2.0 in /usr/local/lib/python3.10/dist-packages (from jinja2->spacy>=2.3.5->convokit) (2.1.5)\n",
            "Requirement already satisfied: marisa-trie>=0.7.7 in /usr/local/lib/python3.10/dist-packages (from language-data>=1.2->langcodes<4.0.0,>=3.2.0->spacy>=2.3.5->convokit) (1.2.0)\n",
            "Requirement already satisfied: markdown-it-py>=2.2.0 in /usr/local/lib/python3.10/dist-packages (from rich>=10.11.0->typer<1.0.0,>=0.3.0->spacy>=2.3.5->convokit) (3.0.0)\n",
            "Requirement already satisfied: pygments<3.0.0,>=2.13.0 in /usr/local/lib/python3.10/dist-packages (from rich>=10.11.0->typer<1.0.0,>=0.3.0->spacy>=2.3.5->convokit) (2.18.0)\n",
            "Requirement already satisfied: wrapt in /usr/local/lib/python3.10/dist-packages (from smart-open<8.0.0,>=5.2.1->weasel<0.5.0,>=0.1.0->spacy>=2.3.5->convokit) (1.16.0)\n",
            "Requirement already satisfied: mdurl~=0.1 in /usr/local/lib/python3.10/dist-packages (from markdown-it-py>=2.2.0->rich>=10.11.0->typer<1.0.0,>=0.3.0->spacy>=2.3.5->convokit) (0.1.2)\n",
            "Downloading clean_text-0.6.0-py3-none-any.whl (11 kB)\n",
            "Downloading dill-0.3.9-py3-none-any.whl (119 kB)\n",
            "\u001b[2K   \u001b[90m━━━━━━━━━━━━━━━━━━━━━━━━━━━━━━━━━━━━━━━━\u001b[0m \u001b[32m119.4/119.4 kB\u001b[0m \u001b[31m9.3 MB/s\u001b[0m eta \u001b[36m0:00:00\u001b[0m\n",
            "\u001b[?25hDownloading dnspython-2.7.0-py3-none-any.whl (313 kB)\n",
            "\u001b[2K   \u001b[90m━━━━━━━━━━━━━━━━━━━━━━━━━━━━━━━━━━━━━━━━\u001b[0m \u001b[32m313.6/313.6 kB\u001b[0m \u001b[31m12.6 MB/s\u001b[0m eta \u001b[36m0:00:00\u001b[0m\n",
            "\u001b[?25hDownloading msgpack_numpy-0.4.8-py2.py3-none-any.whl (6.9 kB)\n",
            "Downloading pymongo-4.10.1-cp310-cp310-manylinux_2_17_x86_64.manylinux2014_x86_64.whl (1.4 MB)\n",
            "\u001b[2K   \u001b[90m━━━━━━━━━━━━━━━━━━━━━━━━━━━━━━━━━━━━━━━━\u001b[0m \u001b[32m1.4/1.4 MB\u001b[0m \u001b[31m21.9 MB/s\u001b[0m eta \u001b[36m0:00:00\u001b[0m\n",
            "\u001b[?25hDownloading Unidecode-1.3.8-py3-none-any.whl (235 kB)\n",
            "\u001b[2K   \u001b[90m━━━━━━━━━━━━━━━━━━━━━━━━━━━━━━━━━━━━━━━━\u001b[0m \u001b[32m235.5/235.5 kB\u001b[0m \u001b[31m20.3 MB/s\u001b[0m eta \u001b[36m0:00:00\u001b[0m\n",
            "\u001b[?25hDownloading ftfy-6.2.3-py3-none-any.whl (43 kB)\n",
            "\u001b[2K   \u001b[90m━━━━━━━━━━━━━━━━━━━━━━━━━━━━━━━━━━━━━━━━\u001b[0m \u001b[32m43.0/43.0 kB\u001b[0m \u001b[31m3.5 MB/s\u001b[0m eta \u001b[36m0:00:00\u001b[0m\n",
            "\u001b[?25hBuilding wheels for collected packages: convokit, emoji\n",
            "  Building wheel for convokit (pyproject.toml) ... \u001b[?25l\u001b[?25hdone\n",
            "  Created wheel for convokit: filename=convokit-3.0.0-py3-none-any.whl size=216707 sha256=06e9e28562e1f8bfb5f60e0fa239a2fb938e217f0ce78d6d54dfa44095b9d8dd\n",
            "  Stored in directory: /root/.cache/pip/wheels/c4/89/8c/2677fdb888588b6f93cb6ac86bdfb020f1f1c33e0d5525b231\n",
            "  Building wheel for emoji (setup.py) ... \u001b[?25l\u001b[?25hdone\n",
            "  Created wheel for emoji: filename=emoji-1.7.0-py3-none-any.whl size=171031 sha256=09b3e4c5605c57906c23c6809703aa969b6b727023645dccaa8f9e37ec70d97f\n",
            "  Stored in directory: /root/.cache/pip/wheels/31/8a/8c/315c9e5d7773f74b33d5ed33f075b49c6eaeb7cedbb86e2cf8\n",
            "Successfully built convokit emoji\n",
            "Installing collected packages: emoji, unidecode, msgpack-numpy, ftfy, dnspython, dill, pymongo, clean-text, convokit\n",
            "Successfully installed clean-text-0.6.0 convokit-3.0.0 dill-0.3.9 dnspython-2.7.0 emoji-1.7.0 ftfy-6.2.3 msgpack-numpy-0.4.8 pymongo-4.10.1 unidecode-1.3.8\n"
          ]
        }
      ]
    },
    {
      "cell_type": "code",
      "source": [
        "!pip install tabulate"
      ],
      "metadata": {
        "colab": {
          "base_uri": "https://localhost:8080/"
        },
        "id": "uXYZxb7h56IR",
        "outputId": "bea5b64c-a9a8-43ac-d02c-edeecfd4fc5b"
      },
      "execution_count": 2,
      "outputs": [
        {
          "output_type": "stream",
          "name": "stdout",
          "text": [
            "Requirement already satisfied: tabulate in /usr/local/lib/python3.10/dist-packages (0.9.0)\n"
          ]
        }
      ]
    },
    {
      "cell_type": "code",
      "source": [
        "pip install optuna"
      ],
      "metadata": {
        "colab": {
          "base_uri": "https://localhost:8080/"
        },
        "id": "1KFVDFeoBaLL",
        "outputId": "e0e59558-9583-42d4-caf1-ca4aebf5deed"
      },
      "execution_count": 3,
      "outputs": [
        {
          "output_type": "stream",
          "name": "stdout",
          "text": [
            "Collecting optuna\n",
            "  Downloading optuna-4.0.0-py3-none-any.whl.metadata (16 kB)\n",
            "Collecting alembic>=1.5.0 (from optuna)\n",
            "  Downloading alembic-1.13.3-py3-none-any.whl.metadata (7.4 kB)\n",
            "Collecting colorlog (from optuna)\n",
            "  Downloading colorlog-6.8.2-py3-none-any.whl.metadata (10 kB)\n",
            "Requirement already satisfied: numpy in /usr/local/lib/python3.10/dist-packages (from optuna) (1.26.4)\n",
            "Requirement already satisfied: packaging>=20.0 in /usr/local/lib/python3.10/dist-packages (from optuna) (24.1)\n",
            "Requirement already satisfied: sqlalchemy>=1.3.0 in /usr/local/lib/python3.10/dist-packages (from optuna) (2.0.35)\n",
            "Requirement already satisfied: tqdm in /usr/local/lib/python3.10/dist-packages (from optuna) (4.66.5)\n",
            "Requirement already satisfied: PyYAML in /usr/local/lib/python3.10/dist-packages (from optuna) (6.0.2)\n",
            "Collecting Mako (from alembic>=1.5.0->optuna)\n",
            "  Downloading Mako-1.3.5-py3-none-any.whl.metadata (2.9 kB)\n",
            "Requirement already satisfied: typing-extensions>=4 in /usr/local/lib/python3.10/dist-packages (from alembic>=1.5.0->optuna) (4.12.2)\n",
            "Requirement already satisfied: greenlet!=0.4.17 in /usr/local/lib/python3.10/dist-packages (from sqlalchemy>=1.3.0->optuna) (3.1.1)\n",
            "Requirement already satisfied: MarkupSafe>=0.9.2 in /usr/local/lib/python3.10/dist-packages (from Mako->alembic>=1.5.0->optuna) (2.1.5)\n",
            "Downloading optuna-4.0.0-py3-none-any.whl (362 kB)\n",
            "\u001b[2K   \u001b[90m━━━━━━━━━━━━━━━━━━━━━━━━━━━━━━━━━━━━━━━━\u001b[0m \u001b[32m362.8/362.8 kB\u001b[0m \u001b[31m2.9 MB/s\u001b[0m eta \u001b[36m0:00:00\u001b[0m\n",
            "\u001b[?25hDownloading alembic-1.13.3-py3-none-any.whl (233 kB)\n",
            "\u001b[2K   \u001b[90m━━━━━━━━━━━━━━━━━━━━━━━━━━━━━━━━━━━━━━━━\u001b[0m \u001b[32m233.2/233.2 kB\u001b[0m \u001b[31m13.3 MB/s\u001b[0m eta \u001b[36m0:00:00\u001b[0m\n",
            "\u001b[?25hDownloading colorlog-6.8.2-py3-none-any.whl (11 kB)\n",
            "Downloading Mako-1.3.5-py3-none-any.whl (78 kB)\n",
            "\u001b[2K   \u001b[90m━━━━━━━━━━━━━━━━━━━━━━━━━━━━━━━━━━━━━━━━\u001b[0m \u001b[32m78.6/78.6 kB\u001b[0m \u001b[31m7.1 MB/s\u001b[0m eta \u001b[36m0:00:00\u001b[0m\n",
            "\u001b[?25hInstalling collected packages: Mako, colorlog, alembic, optuna\n",
            "Successfully installed Mako-1.3.5 alembic-1.13.3 colorlog-6.8.2 optuna-4.0.0\n"
          ]
        }
      ]
    },
    {
      "cell_type": "code",
      "source": [
        "pip install uvicorn"
      ],
      "metadata": {
        "colab": {
          "base_uri": "https://localhost:8080/"
        },
        "id": "OdRXgVwHBdkz",
        "outputId": "965b1cb4-0096-496c-d4a2-baf38b1741cc"
      },
      "execution_count": 4,
      "outputs": [
        {
          "output_type": "stream",
          "name": "stdout",
          "text": [
            "Collecting uvicorn\n",
            "  Downloading uvicorn-0.31.0-py3-none-any.whl.metadata (6.6 kB)\n",
            "Requirement already satisfied: click>=7.0 in /usr/local/lib/python3.10/dist-packages (from uvicorn) (8.1.7)\n",
            "Collecting h11>=0.8 (from uvicorn)\n",
            "  Downloading h11-0.14.0-py3-none-any.whl.metadata (8.2 kB)\n",
            "Requirement already satisfied: typing-extensions>=4.0 in /usr/local/lib/python3.10/dist-packages (from uvicorn) (4.12.2)\n",
            "Downloading uvicorn-0.31.0-py3-none-any.whl (63 kB)\n",
            "\u001b[2K   \u001b[90m━━━━━━━━━━━━━━━━━━━━━━━━━━━━━━━━━━━━━━━━\u001b[0m \u001b[32m63.7/63.7 kB\u001b[0m \u001b[31m1.1 MB/s\u001b[0m eta \u001b[36m0:00:00\u001b[0m\n",
            "\u001b[?25hDownloading h11-0.14.0-py3-none-any.whl (58 kB)\n",
            "\u001b[2K   \u001b[90m━━━━━━━━━━━━━━━━━━━━━━━━━━━━━━━━━━━━━━━━\u001b[0m \u001b[32m58.3/58.3 kB\u001b[0m \u001b[31m2.6 MB/s\u001b[0m eta \u001b[36m0:00:00\u001b[0m\n",
            "\u001b[?25hInstalling collected packages: h11, uvicorn\n",
            "Successfully installed h11-0.14.0 uvicorn-0.31.0\n"
          ]
        }
      ]
    },
    {
      "cell_type": "code",
      "source": [
        "pip install fastapi"
      ],
      "metadata": {
        "colab": {
          "base_uri": "https://localhost:8080/"
        },
        "id": "uPS1hMBbBiXT",
        "outputId": "96b13b91-cca4-4119-974a-52fdcb3ec388"
      },
      "execution_count": 5,
      "outputs": [
        {
          "output_type": "stream",
          "name": "stdout",
          "text": [
            "Collecting fastapi\n",
            "  Downloading fastapi-0.115.0-py3-none-any.whl.metadata (27 kB)\n",
            "Collecting starlette<0.39.0,>=0.37.2 (from fastapi)\n",
            "  Downloading starlette-0.38.6-py3-none-any.whl.metadata (6.0 kB)\n",
            "Requirement already satisfied: pydantic!=1.8,!=1.8.1,!=2.0.0,!=2.0.1,!=2.1.0,<3.0.0,>=1.7.4 in /usr/local/lib/python3.10/dist-packages (from fastapi) (2.9.2)\n",
            "Requirement already satisfied: typing-extensions>=4.8.0 in /usr/local/lib/python3.10/dist-packages (from fastapi) (4.12.2)\n",
            "Requirement already satisfied: annotated-types>=0.6.0 in /usr/local/lib/python3.10/dist-packages (from pydantic!=1.8,!=1.8.1,!=2.0.0,!=2.0.1,!=2.1.0,<3.0.0,>=1.7.4->fastapi) (0.7.0)\n",
            "Requirement already satisfied: pydantic-core==2.23.4 in /usr/local/lib/python3.10/dist-packages (from pydantic!=1.8,!=1.8.1,!=2.0.0,!=2.0.1,!=2.1.0,<3.0.0,>=1.7.4->fastapi) (2.23.4)\n",
            "Requirement already satisfied: anyio<5,>=3.4.0 in /usr/local/lib/python3.10/dist-packages (from starlette<0.39.0,>=0.37.2->fastapi) (3.7.1)\n",
            "Requirement already satisfied: idna>=2.8 in /usr/local/lib/python3.10/dist-packages (from anyio<5,>=3.4.0->starlette<0.39.0,>=0.37.2->fastapi) (3.10)\n",
            "Requirement already satisfied: sniffio>=1.1 in /usr/local/lib/python3.10/dist-packages (from anyio<5,>=3.4.0->starlette<0.39.0,>=0.37.2->fastapi) (1.3.1)\n",
            "Requirement already satisfied: exceptiongroup in /usr/local/lib/python3.10/dist-packages (from anyio<5,>=3.4.0->starlette<0.39.0,>=0.37.2->fastapi) (1.2.2)\n",
            "Downloading fastapi-0.115.0-py3-none-any.whl (94 kB)\n",
            "\u001b[2K   \u001b[90m━━━━━━━━━━━━━━━━━━━━━━━━━━━━━━━━━━━━━━━━\u001b[0m \u001b[32m94.6/94.6 kB\u001b[0m \u001b[31m1.5 MB/s\u001b[0m eta \u001b[36m0:00:00\u001b[0m\n",
            "\u001b[?25hDownloading starlette-0.38.6-py3-none-any.whl (71 kB)\n",
            "\u001b[2K   \u001b[90m━━━━━━━━━━━━━━━━━━━━━━━━━━━━━━━━━━━━━━━━\u001b[0m \u001b[32m71.5/71.5 kB\u001b[0m \u001b[31m4.0 MB/s\u001b[0m eta \u001b[36m0:00:00\u001b[0m\n",
            "\u001b[?25hInstalling collected packages: starlette, fastapi\n",
            "Successfully installed fastapi-0.115.0 starlette-0.38.6\n"
          ]
        }
      ]
    },
    {
      "cell_type": "code",
      "source": [
        "#Libraries\n",
        "import pandas as pd\n",
        "import numpy as np\n",
        "import matplotlib.pyplot as plt\n",
        "import re\n",
        "import torch\n",
        "import uvicorn\n",
        "import math\n",
        "import optuna\n",
        "from sklearn.model_selection import train_test_split\n",
        "from tabulate import tabulate\n",
        "from transformers import GPT2Tokenizer, GPT2LMHeadModel, Trainer, TrainingArguments, EarlyStoppingCallback\n",
        "from torch.utils.data import Dataset, DataLoader\n",
        "from multiprocessing import Pool, cpu_count\n",
        "from sklearn.metrics import accuracy_score, recall_score, f1_score\n",
        "from nltk.corpus import wordnet\n",
        "from fastapi import FastAPI\n",
        "from google.colab import files"
      ],
      "metadata": {
        "id": "JN4zhOZ6BpZY"
      },
      "execution_count": 6,
      "outputs": []
    },
    {
      "cell_type": "markdown",
      "source": [
        " - Using the corpus import from convokit as part of Cornell's libraries, we first download the data"
      ],
      "metadata": {
        "id": "dn7DjWcgCh1U"
      }
    },
    {
      "cell_type": "code",
      "source": [
        "from convokit import Corpus, download\n",
        "corpus = Corpus(filename=download(\"movie-corpus\"))"
      ],
      "metadata": {
        "colab": {
          "base_uri": "https://localhost:8080/"
        },
        "id": "djj1lcN0uqx0",
        "outputId": "21fbad42-c89e-4b24-9460-b9622c51d0a9"
      },
      "execution_count": 7,
      "outputs": [
        {
          "output_type": "stream",
          "name": "stdout",
          "text": [
            "Downloading movie-corpus to /root/.convokit/downloads/movie-corpus\n",
            "Downloading movie-corpus from http://zissou.infosci.cornell.edu/convokit/datasets/movie-corpus/movie-corpus.zip (40.9MB)... Done\n",
            "No configuration file found at /root/.convokit/config.yml; writing with contents: \n",
            "# Default Backend Parameters\n",
            "db_host: localhost:27017\n",
            "data_directory: ~/.convokit/saved-corpora\n",
            "default_backend: mem\n"
          ]
        }
      ]
    },
    {
      "cell_type": "code",
      "source": [
        "corpus.print_summary_stats()"
      ],
      "metadata": {
        "colab": {
          "base_uri": "https://localhost:8080/"
        },
        "id": "i-Oy5_pjwmor",
        "outputId": "4a06eaa2-09dd-4940-82f5-bfcfe33f8328"
      },
      "execution_count": 8,
      "outputs": [
        {
          "output_type": "stream",
          "name": "stdout",
          "text": [
            "Number of Speakers: 9035\n",
            "Number of Utterances: 304713\n",
            "Number of Conversations: 83097\n"
          ]
        }
      ]
    },
    {
      "cell_type": "markdown",
      "source": [
        " - Check metadata"
      ],
      "metadata": {
        "id": "--pnbFf8Cp7n"
      }
    },
    {
      "cell_type": "code",
      "source": [
        "print(corpus.meta)"
      ],
      "metadata": {
        "colab": {
          "base_uri": "https://localhost:8080/"
        },
        "id": "9-vwdH4_vZmH",
        "outputId": "58467851-acf1-4410-975a-322e34c92484"
      },
      "execution_count": 9,
      "outputs": [
        {
          "output_type": "stream",
          "name": "stdout",
          "text": [
            "ConvoKitMeta({'url': {'m0': 'http://www.dailyscript.com/scripts/10Things.html', 'm1': 'http://www.hundland.org/scripts/1492-ConquestOfParadise.txt', 'm2': 'http://www.dailyscript.com/scripts/15minutes.html', 'm3': 'http://www.scifiscripts.com/scripts/2001.txt', 'm4': 'http://www.awesomefilm.com/script/48hours.txt', 'm5': 'http://www.scifiscripts.com/scripts/5thelement.txt', 'm6': 'http://www.dailyscript.com/scripts/eight-millimeter.html', 'm7': 'http://www.hundland.org/scripts/A-Nightmare-on-Elm-Street-4.txt', 'm8': 'http://www.hundland.org/scripts/A-Nightmare-on-Elm-Street-5.txt', 'm9': 'http://leonscripts.tripod.com/scripts/ATOMICSUB.htm', 'm10': 'http://www.dailyscript.com/scripts/Affliction.txt', 'm11': 'http://www.dailyscript.com/scripts/AirForceOne_TXT.html', 'm12': 'http://www.dailyscript.com/scripts/Airplane2_script.htm', 'm13': 'http://www.dailyscript.com/scripts/Airplane_script.htm', 'm14': 'http://www.dailyscript.com/scripts/Alien_Nation_Bannon_Cameron_October_1987.html', 'm15': 'http://www.horrorlair.com/scripts/aliens.html', 'm16': 'http://www.dailyscript.com/scripts/Amadeus.txt', 'm17': 'http://www.dailyscript.com/scripts/American%20Werewolf%20In%20London,%20An.txt', 'm18': 'http://www.dailyscript.com/scripts/American_Madness.html', 'm19': 'http://www.dailyscript.com/scripts/American_Outlaws.html', 'm20': 'http://www.dailyscript.com/scripts/american_psycho_unproduced.html', 'm21': 'http://www.dailyscript.com/scripts/Antitrust.txt', 'm22': 'http://www.dailyscript.com/scripts/Austin%20Powers%20-%20International%20Man%20Of%20Mystery.txt', 'm23': 'http://www.dailyscript.com/scripts/Avengers.html', 'm24': 'http://www.dailyscript.com/scripts/Bachelor%20Party.txt', 'm25': 'http://www.dailyscript.com/scripts/Backdraft%20(1991).txt', 'm26': 'http://www.dailyscript.com/scripts/Bad%20Lieutenant.txt', 'm27': 'http://www.awesomefilm.com/script/Bamboozled.txt', 'm28': 'http://www.dailyscript.com/scripts/BarryLyndon.html', 'm29': 'http://www.dailyscript.com/scripts/Basic.txt', 'm30': 'http://www.dailyscript.com/scripts/Big+Fish.txt', 'm31': 'http://www.dailyscript.com/scripts/Birthday+Girl.txt', 'm32': 'http://www.dailyscript.com/scripts/Black%20Snake%20Moan.txt', 'm33': 'http://www.angelfire.com/movies/ridleyscott/script/BlackRain.txt', 'm34': 'http://www.dailyscript.com/scripts/blade-runner_shooting.html', 'm35': 'http://www.hundland.org/scripts/Blast-from-the-Past.htm', 'm36': 'http://www.dailyscript.com/scripts/Blue+Velvet.txt', 'm37': 'http://www.dailyscript.com/scripts/Boondock%20Saints,%20The.txt', 'm38': 'http://www.dailyscript.com/scripts/Bottle+Rocket.txt', 'm39': 'http://www.dailyscript.com/scripts/Bourne+Supremacy,+The.txt', 'm40': 'http://www.dailyscript.com/scripts/Braveheart.txt', 'm41': 'http://www.dailyscript.com/scripts/Butterfly+Effect,+The.txt', 'm42': 'http://www.dailyscript.com/scripts/Casablanca.txt', 'm43': 'http://www.hundland.org/scripts/CastAway.txt', 'm44': 'http://www.dailyscript.com/scripts/Cider%20House%20Rules,%20The.txt', 'm45': 'http://www.dailyscript.com/scripts/Confidence.txt', 'm46': 'http://www.dailyscript.com/scripts/Croupier.txt', 'm47': 'http://www.dailyscript.com/scripts/Dark+Star.txt', 'm48': 'http://www.hundland.org/scripts/DarkAngel.txt', 'm49': 'http://www.dailyscript.com/scripts/Detroit+Rock+City.txt', 'm50': 'http://www.dailyscript.com/scripts/Donnie+Darko.txt', 'm51': 'http://www.dailyscript.com/scripts/Drop+Dead+Gorgeous.txt', 'm52': 'http://www.dailyscript.com/scripts/Duck%20Soup.txt', 'm53': 'http://www.dailyscript.com/scripts/Elephant+Man,+The.txt', 'm54': 'http://www.dailyscript.com/scripts/Erik+The+Viking.txt', 'm55': 'http://www.dailyscript.com/scripts/Eternal+Sunshine+Of+The+Spotless+Mind.txt', 'm56': 'http://www.dailyscript.com/scripts/Even%20Cowgirls%20Get%20The%20Blues.txt', 'm57': 'http://www.dailyscript.com/scripts/Event%20Horizon.txt', 'm58': 'http://www.dailyscript.com/scripts/Fantastic+Four.txt', 'm59': 'http://www.dailyscript.com/scripts/Fast+Times+At+Ridgemont+High.txt', 'm60': 'http://www.dailyscript.com/scripts/Fear+&+Loathing+In+Las+Vegas.txt', 'm61': 'http://www.dailyscript.com/scripts/Feast%20-%20Revised%20Draft.txt', 'm62': 'http://www.dailyscript.com/scripts/Frances.txt', 'm63': 'http://www.dailyscript.com/scripts/Frankenstein+(1994).txt', 'm64': 'http://www.dailyscript.com/scripts/Friday%20The%2013th.txt', 'm65': 'http://www.dailyscript.com/scripts/From%20Dusk%20Till%20Dawn.txt', 'm66': 'http://www.angelfire.com/movies/ridleyscott/script/GIJane.txt', 'm67': 'http://www.scifiscripts.com/scripts/GODZILLAfirst.txt', 'm68': 'http://www.scifiscripts.com/scripts/GalaxyQuest.txt', 'm69': 'http://www.fortunecity.com/tattooine/clarke/38/scripts/GeorgeWashington.txt', 'm70': 'http://www.dailyscript.com/scripts/Get+Shorty.txt', 'm71': 'http://www.whiskeyloosetongue.com/scripts/ghostship.html', 'm72': 'http://www.dailyscript.com/scripts/Ghost%20World.txt', 'm73': 'http://www.dailyscript.com/scripts/Ghost%20And%20The%20Darkness,%20The.txt', 'm74': 'http://www.scifiscripts.com/scripts/Ghostbusters-2.txt', 'm75': 'http://www.scifiscripts.com/scripts/Ghostbusters.txt', 'm76': 'http://www.angelfire.com/movies/ridleyscott/script/gladiator_seconddraft.txt', 'm77': 'http://www.dailyscript.com/scripts/Graduate,+The.txt', 'm78': 'http://www.dailyscript.com/scripts/Grand%20Hotel.txt', 'm79': 'http://www.dailyscript.com/scripts/Grifters_Westlake.html', 'm80': 'http://www.horrorlair.com/scripts/H20.txt', 'm81': 'http://www.dailyscript.com/scripts/Halloween_6_The_Curse_of_Michael_Myers.html', 'm82': 'http://www.dailyscript.com/scripts/Happy_Birthday_Wanda_JUne.html', 'm83': 'http://www.dailyscript.com/scripts/Hardcore.txt', 'm84': 'http://home.online.no/~bhundlan/scripts/Harold-and-Maude.htm', 'm85': 'http://www.dailyscript.com/scripts/Hellbound+-+Hellraiser+II.txt', 'm86': 'http://www.dailyscript.com/scripts/Hellboy.txt', 'm87': 'http://www.dailyscript.com/scripts/Hellraiser.txt', 'm88': 'http://www.dailyscript.com/scripts/High%20Fidelity.txt', 'm89': 'http://www.scifiscripts.com/scripts/Highlander_final.txt', 'm90': 'http://www.dailyscript.com/scripts/His%20Girl%20Friday.txt', 'm91': 'http://www.dailyscript.com/scripts/Hope+And+Glory.txt', 'm92': 'http://www.dailyscript.com/scripts/House%20Of%201000%20Corpses.txt', 'm93': 'http://www.dailyscript.com/scripts/Human+Nature.txt', 'm94': 'http://www.dailyscript.com/scripts/Hustler,+The.txt', 'm95': 'http://www.horrorlair.com/scripts/legend.txt', 'm96': 'http://leonscripts.tripod.com/scripts/INVADERSold.htm', 'm97': 'http://www.dailyscript.com/scripts/Independence+Day.txt', 'm98': 'http://www.dailyscript.com/scripts/Indiana%20Jones%20And%20The%20Last%20Crusade.txt', 'm99': 'http://www.dailyscript.com/scripts/Indiana%20Jones%20And%20The%20Temple%20Of%20Doom.txt', 'm100': 'http://www.scifiscripts.com/scripts/InnerSpace.txt', 'm101': 'http://www.dailyscript.com/scripts/Insider,+The.txt', 'm102': 'http://www.dailyscript.com/scripts/Intolerable%20Cruelty.txt', 'm103': 'http://www.dailyscript.com/scripts/It+Happened+One+Night.txt', 'm104': 'http://www.dailyscript.com/scripts/JFK.txt', 'm105': 'http://www.dailyscript.com/scripts/Jackie+Brown.txt', 'm106': 'http://www.dailyscript.com/scripts/Jacobs+Ladder.txt', 'm107': 'http://www.dailyscript.com/scripts/Jason+X.txt', 'm108': 'http://www.dailyscript.com/scripts/Jaws.txt', 'm109': 'http://www.dailyscript.com/scripts/Juno.txt', 'm110': 'http://www.dailyscript.com/scripts/Kalifornia.txt', 'm111': 'http://www.dailyscript.com/scripts/Kids.txt', 'm112': 'http://www.scifiscripts.com/msol/Knight_m.txt', 'm113': 'http://www.dailyscript.com/scripts/Krull.html', 'm114': 'http://www.scifiscripts.com/msol/LEON.txt', 'm115': 'http://www.fortunecity.com/tattooine/clarke/38/scripts/LaborOfLove.txt', 'm116': 'http://www.dailyscript.com/scripts/Leaving+Las+Vegas.txt', 'm117': 'http://www.dailyscript.com/scripts/Legally%20Blonde.txt', 'm118': 'http://www.angelfire.com/movies/ridleyscott/script/LegendOfDarkness.txt', 'm119': 'http://www.dailyscript.com/scripts/LifeAsAHouse.html', 'm120': 'http://www.dailyscript.com/scripts/Life.txt', 'm121': 'http://www.dailyscript.com/scripts/Little+Nicky.txt', 'm122': 'http://www.dailyscript.com/scripts/Logans+Run.txt', 'm123': 'http://www.dailyscript.com/scripts/Lost+Highway.txt', 'm124': 'http://www.dailyscript.com/scripts/Lost_Horizon.html', 'm125': 'http://www.dailyscript.com/scripts/Men+In+Black.txt', 'm126': 'http://www.dailyscript.com/scripts/Minority%20Report.txt', 'm127': 'http://www.dailyscript.com/scripts/Made.txt', 'm128': 'http://www.dailyscript.com/scripts/Malcolm+X.txt', 'm129': 'http://www.dailyscript.com/scripts/Man+On+Fire.txt', 'm130': 'http://www.dailyscript.com/scripts/Marty.txt', 'm131': 'http://www.dailyscript.com/scripts/MASH.txt', 'm132': 'http://www.dailyscript.com/scripts/Meet_John_Doe.html', 'm133': 'http://www.dailyscript.com/scripts/Metro.txt', 'm134': 'http://www.angelfire.com/movies/ridleyscott/script/Metropolis.txt', 'm135': 'http://www.hundland.org/scripts/MightyMorphinPowerRangers.txt', 'm136': 'http://www.dailyscript.com/scripts/Mobsters.txt', 'm137': 'http://www.dailyscript.com/scripts/MonkeyBone_script.htm', 'm138': 'http://www.moviemalls.com/papers/MotherDreamsFD.txt', 'm139': 'http://www.dailyscript.com/scripts/Mr%20Smith%20Goes%20To%20Washington.txt', 'm140': 'http://www.dailyscript.com/scripts/Mr._Deeds_Goes_to_Town.html', 'm141': 'http://www.dailyscript.com/scripts/Mumford.txt', 'm142': 'http://www.dailyscript.com/scripts/Mummy,+The.txt', 'm143': 'http://www.dailyscript.com/scripts/Mystery+Men.txt', 'm144': 'http://web.archive.org/web/20010625040837/www.interlink.es/cookies/guion/Napoleon.txt', 'm145': 'http://www.dailyscript.com/scripts/Next_Friday.html', 'm146': 'http://www.dailyscript.com/scripts/Nick-Of-Time-script.html', 'm147': 'http://www.dailyscript.com/scripts/Night+Of+The+Hunter,+The.txt', 'm148': 'http://www.dailyscript.com/scripts/Nightmare+On+Elm+Street,+A.txt', 'm149': 'http://www.dailyscript.com/scripts/Ninotchka.txt', 'm150': 'http://home.online.no/~bhundlan/scripts/Nixon.txt', 'm151': 'http://www.dailyscript.com/scripts/No%20Country%20For%20Old%20Men%20(Shooting).txt', 'm152': 'http://www.dailyscript.com/scripts/Nurse%20Betty.txt', 'm153': 'http://www.dailyscript.com/scripts/O%20Brother%20Where%20Art%20Thou.txt', 'm154': 'http://www.dailyscript.com/scripts/Officer+And+A+Gentleman,+An.txt', 'm155': 'http://www.dailyscript.com/scripts/Panic_Room_Koepp.html', 'm156': 'http://www.dailyscript.com/scripts/Panther.txt', 'm157': 'http://www.dailyscript.com/scripts/Patriot_1999.html', 'm158': 'http://www.dailyscript.com/scripts/Pet-Sematary.html', 'm159': 'http://www.wordplayer.com/archives/PIRATES.cover.html', 'm160': 'http://www.scifiscripts.com/scripts/PlasticMan.txt', 'm161': 'http://www.dailyscript.com/scripts/Platinum_Blonde.html', 'm162': 'http://www.hundland.org/scripts/Pleasantville.htm', 'm163': 'http://www.dailyscript.com/scripts/Punch-Drunk_Love.html', 'm164': 'http://www.dailyscript.com/scripts/Quills.txt', 'm165': 'http://www.dailyscript.com/scripts/RKO218.html', 'm166': 'http://www.dailyscript.com/scripts/Raging+Bull.txt', 'm167': 'http://www.dailyscript.com/scripts/Rear+Window.txt', 'm168': 'http://www.dailyscript.com/scripts/Rebel_Without_A_Cause.html', 'm169': 'http://www.dailyscript.com/scripts/Reindeer+Games.txt', 'm170': 'http://www.dailyscript.com/scripts/Reservoir+Dogs.txt', 'm171': 'http://www.dailyscript.com/scripts/Roughshod.txt', 'm172': 'http://www.dailyscript.com/scripts/Scary+Movie+2.txt', 'm173': 'http://www.dailyscript.com/scripts/Serial+Mom.txt', 'm174': 'http://www.dailyscript.com/scripts/SeventhVictim.htm', 'm175': 'http://www.dailyscript.com/scripts/Sex+Lies+And+Videotape.txt', 'm176': 'http://www.dailyscript.com/scripts/Shivers.txt', 'm177': 'http://www.horrorlair.com/scripts/ShockTreatmentShootingScript.txt', 'm178': 'http://www.dailyscript.com/scripts/Sideways.txt', 'm179': 'http://www.dailyscript.com/scripts/Signs.txt', 'm180': 'http://www.dailyscript.com/scripts/Silverado.txt', 'm181': 'http://www.dailyscript.com/scripts/Simone_Andrew_Niccol.html', 'm182': 'http://www.dailyscript.com/scripts/Sixth%20Sense,%20The.txt', 'm183': 'http://www.dailyscript.com/scripts/Slash.txt', 'm184': 'http://www.dailyscript.com/scripts/SliTHER.html', 'm185': 'http://www.dailyscript.com/scripts/Smokey%20And%20The%20Bandit.txt', 'm186': \"http://www.dailyscript.com/scripts/Smokin'+Aces.txt\", 'm187': 'http://www.dailyscript.com/scripts/Solaris.txt', 'm188': 'http://www.angelfire.com/movies/ridleyscott/script/SomeoneToWatchOverMe.txt', 'm189': 'http://www.dailyscript.com/scripts/Spider-Man%20(Unproduced).txt', 'm190': 'http://www.dailyscript.com/scripts/Stalag%2017.txt', 'm191': 'http://www.scifiscripts.com/scripts/StarTrekGenerations.txt', 'm192': 'http://www.scifiscripts.com/scripts/Trek/Star_Trek_III.htm', 'm193': 'http://www.scifiscripts.com/scripts/startrek2_wrathofkhan.txt', 'm194': 'http://www.scifiscripts.com/scripts/Trek/Star_Trek_IV.htm', 'm195': 'http://www.scifiscripts.com/scripts/Trek/Star_Trek_IX.htm', 'm196': 'http://www.scifiscripts.com/scripts/Trek/Star_Trek_VIII.htm', 'm197': 'http://www.scifiscripts.com/scripts/StarTrek6-TheUndiscoveredCountry.txt', 'm198': 'http://www.scifiscripts.com/scripts/Trek/Star_Trek_X.htm', 'm199': 'http://www.dailyscript.com/scripts/Starman.txt', 'm200': 'http://www.scifiscripts.com/scripts/StrangeDays.txt', 'm201': 'http://www.dailyscript.com/scripts/Suspect%20Zero%20(Unproduced).txt', 'm202': 'http://www.dailyscript.com/scripts/Swingers.txt', 'm203': 'http://www.dailyscript.com/scripts/Godfather,%20The.txt', 'm204': 'http://www.dailyscript.com/scripts/Talented%20Mr%20Ripley,%20The.txt', 'm205': 'http://www.dailyscript.com/scripts/Taxi%20Driver.txt', 'm206': 'http://www.awesomefilm.com/script/The-Rock.txt', 'm207': 'http://www.dailyscript.com/scripts/Majestic,+The.txt', 'm208': 'http://www.dailyscript.com/scripts/Birds,%20The.txt', 'm209': 'http://www.dailyscript.com/scripts/TheBodySnatcher.htm', 'm210': 'http://www.hundland.org/scripts/TheCrowSalvation.htm', 'm211': 'http://www.dailyscript.com/scripts/Day%20The%20Earth%20Stood%20Still,%20The.txt', 'm212': 'http://home.online.no/~bhundlan/scripts/TheLostBoys.htm', 'm213': 'http://www.dailyscript.com/scripts/Thing,+The.txt', 'm214': 'http://www.dailyscript.com/scripts/TheTimeMachine_1959.html', 'm215': 'http://www.dailyscript.com/scripts/The_Jacket.html', 'm216': 'http://www.dailyscript.com/scripts/Thelma%20And%20Louise.txt', 'm217': \"http://www.dailyscript.com/scripts/There's+Something+About+Mary.txt\", 'm218': 'http://www.dailyscript.com/scripts/Thirteen+Days.txt', 'm219': 'http://www.dailyscript.com/scripts/Thunderheart.txt', 'm220': 'http://www.dailyscript.com/scripts/TopGun.html', 'm221': 'http://www.scifiscripts.com/scripts/totalrecall_5th_draft.txt', 'm222': 'http://home.online.no/~bhundlan/scripts/Tremors.htm', 'm223': 'http://www.dailyscript.com/scripts/True%20Believer.txt', 'm224': 'http://www.dailyscript.com/scripts/Twin+Peaks+-+Fire+Walk+With+Me.txt', 'm225': 'http://www.dailyscript.com/scripts/Verdict,+The.txt', 'm226': 'http://www.scifiscripts.com/scripts/WARWORLDS.txt', 'm227': 'http://www.hundland.org/scripts/WesCravensNewNightmare.txt', 'm228': 'http://www.angelfire.com/movies/ridleyscott/script/WhiteSquall.txt', 'm229': 'http://www.dailyscript.com/scripts/Wild+At+Heart.txt', 'm230': 'http://www.dailyscript.com/scripts/Wonder+Boys.txt', 'm231': 'http://www.dailyscript.com/scripts/Woodsman,+The.txt', 'm232': 'http://www.dailyscript.com/scripts/abyss.html', 'm233': 'http://www.aellea.com/script/adventure.txt', 'm234': 'http://www.awesomefilm.com/script/agnesofgod.txt', 'm235': \"http://www.dailyscript.com/scripts/Hard+Day's+Night,+A.txt\", 'm236': 'http://www.horrorlair.com/scripts/alien.html', 'm237': 'http://www.scifiscripts.com/scripts/aliens_vs_predator.txt', 'm238': 'http://www.dailyscript.com/scripts/All%20About%20Eve.txt', 'm239': \"http://www.dailyscript.com/scripts/All%20The%20President's%20Men.txt\", 'm240': 'http://www.dailyscript.com/scripts/american-pie_production.html', 'm241': 'http://www.scifiscripts.com/scripts/american_werewolf_paris.txt', 'm242': 'http://www.moviescriptsandscreenplays.com/johncusack/scripts/anastasia.txt', 'm243': 'http://www.dailyscript.com/scripts/Annie%20Hall.txt', 'm244': 'http://www.dailyscript.com/scripts/anniversaryparty.html', 'm245': 'http://www.dailyscript.com/scripts/antz.html', 'm246': 'http://www.dailyscript.com/scripts/apartment.html', 'm247': 'http://www.dailyscript.com/scripts/apocalypsenowredux.html', 'm248': 'http://www.awesomefilm.com/script/arcticblue.txt', 'm249': 'http://www.dailyscript.com/scripts/As+Good+As+It+Gets.txt', 'm250': 'http://www.dailyscript.com/scripts/assassins_shooting.html', 'm251': 'http://www.awesomefilm.com/script/asylum.txt', 'm252': 'http://www.dailyscript.com/scripts/awalktoremember.html', 'm253': 'http://www.scifiscripts.com/scripts/backtothefuture_early.txt', 'm254': 'http://www.dailyscript.com/scripts/Badlands.txt', 'm255': 'http://www.scifiscripts.com/scripts/banzai_script.txt', 'm256': 'http://www.dailyscript.com/scripts/Barton%20Fink.txt', 'm257': 'http://www.dailyscript.com/scripts/basic_instinct.html', 'm258': 'http://www.awesomefilm.com/script/basquiat.txt', 'm259': 'http://www.dailyscript.com/scripts/batman-returns_shooting.html', 'm260': 'http://www.scifiscripts.com/scripts/batmanandrobin.txt', 'm261': 'http://www.scifiscripts.com/scripts/batmanforever.txt', 'm262': 'http://www.scifiscripts.com/scripts/batmanscript1.txt', 'm263': 'http://www.awesomefilm.com/script/bean.html', 'm264': 'http://www.dailyscript.com/scripts/beavis_and_butthead_do_america.html', 'm265': 'http://www.dailyscript.com/scripts/beetlejuice_skaaren_final.html', 'm266': 'http://www.dailyscript.com/scripts/Being+There.txt', 'm267': 'http://www.dailyscript.com/scripts/beingjohnmalkovich.html', 'm268': 'http://www.dailyscript.com/scripts/beloved_lagravenese.html', 'm269': 'http://www.dailyscript.com/scripts/Big%20Lebowski,%20The.txt', 'm270': 'http://www.dailyscript.com/scripts/black-dahlia_early.html', 'm271': 'http://www.horrorlair.com/scripts/blade2.html', 'm272': 'http://www.horrorlair.com/scripts/blade.html', 'm273': 'http://www.dailyscript.com/scripts/blair-witch-2.html', 'm274': 'http://www.dailyscript.com/scripts/Blood%20Simple.txt', 'm275': 'http://www.horrorlair.com/scripts/bloodmoon.html', 'm276': 'http://www.dailyscript.com/scripts/blow.html', 'm277': 'http://www.dailyscript.com/scripts/boa.html', 'm278': 'http://www.awesomefilm.com/script/bodyofevidence.txt', 'm279': 'http://www.awesomefilm.com/script/bomc.txt', 'm280': 'http://www.horrorlair.com/HorrorWorld/newyork/bones.html', 'm281': 'http://www.hundland.org/scripts/Bound_FirstDraft.txt', 'm282': 'http://www.dailyscript.com/scripts/Bourne+Identity,+The.txt', 'm283': 'http://www.scifiscripts.com/scripts/brazil.txt', 'm284': 'http://www.dailyscript.com/scripts/Bringing+Out+The+Dead.txt', 'm285': 'http://www.dailyscript.com/scripts/broadc_news.html', 'm286': 'http://www.scifiscripts.com/msol/bucket_of_blood.txt', 'm287': 'http://www.dailyscript.com/scripts/buffy_the_vampire_slayer.html', 'm288': 'http://www.dailyscript.com/scripts/Bull+Durham.txt', 'm289': 'http://www.dailyscript.com/scripts/Casino.txt', 'm290': 'http://www.scifiscripts.com/scripts/catwoman.txt', 'm291': 'http://www.dailyscript.com/scripts/cellular_cohen.html', 'm292': 'http://www.dailyscript.com/scripts/Crying%20Game,%20The.txt', 'm293': 'http://www.dailyscript.com/scripts/Charade.txt', 'm294': 'http://www.scifiscripts.com/msol/cherryfalls.txt', 'm295': 'http://www.awesomefilm.com/script/chillfactor.html', 'm296': 'http://www.dailyscript.com/scripts/Chinatown.txt', 'm297': 'http://www.dailyscript.com/scripts/cinema_paradiso.html', 'm298': 'http://www.aellea.com/script/citizenkane_script.txt', 'm299': 'http://www.dailyscript.com/scripts/Clerks.txt', 'm300': 'http://www.dailyscript.com/scripts/cliffhanger_stallone.html', 'm301': 'http://www.scifiscripts.com/scripts/clockwork.txt', 'm302': 'http://www.dailyscript.com/scripts/collateral_darabont.html', 'm303': 'http://www.dailyscript.com/scripts/conspiracy-theory.html', 'm304': 'http://www.scifiscripts.com/scripts/contact.txt', 'm305': 'http://www.aellea.com/script/cool_hand_luke.html', 'm306': 'http://www.dailyscript.com/scripts/copycat.html', 'm307': 'http://www.dailyscript.com/scripts/Crash+(1996).txt', 'm308': 'http://www.dailyscript.com/scripts/crazy_love.html', 'm309': 'http://www.dailyscript.com/scripts/crimespree.html', 'm310': 'http://www.awesomefilm.com/script/crouchingtiger.txt', 'm311': 'http://www.horrorlair.com/scripts/crow.txt', 'm312': 'http://www.dailyscript.com/scripts/cruel-intentions.html', 'm313': 'http://www.dailyscript.com/scripts/cursecat.htm', 'm314': 'http://www.horrorlair.com/scripts/cursethe.txt', 'm315': 'http://www.dailyscript.com/scripts/dark-city_early-rewrite.html', 'm316': 'http://www.scifiscripts.com/msol/dave.txt', 'm317': 'http://www.horrorlair.com/scripts/dayofthedead.txt', 'm318': 'http://www.dailyscript.com/scripts/Dead%20Poets%20Society.txt', 'm319': 'http://www.horrorlair.com/scripts/deeprising.txt', 'm320': 'http://www.dailyscript.com/scripts/deer_hunter.html', 'm321': 'http://www.dailyscript.com/scripts/demolition-man_production.html', 'm322': 'http://www.aellea.com/script/devilanddanielwebster.txt', 'm323': 'http://www.awesomefilm.com/script/diehard.html', 'm324': 'http://www.awesomefilm.com/script/dog_day_afternoon.txt', 'm325': 'http://www.dailyscript.com/scripts/domino.html', 'm326': 'http://www.awesomefilm.com/script/dotherightthing.txt', 'm327': 'http://web.archive.org/web/20040611014121/www.awesomefilm.com/script/dumbanddumberer.html', 'm328': 'http://www.scifiscripts.com/scripts/dune.txt', 'm329': 'http://www.dailyscript.com/scripts/ed-wood.html', 'm330': 'http://www.dailyscript.com/scripts/edtv.html', 'm331': 'http://www.dailyscript.com/scripts/election.html', 'm332': 'http://www.dailyscript.com/scripts/LA%20Confidential.txt', 'm333': 'http://www.dailyscript.com/scripts/enemyofthestate.html', 'm334': 'http://www.dailyscript.com/scripts/englishpatient.html', 'm335': 'http://www.dailyscript.com/scripts/entrapment_production.html', 'm336': 'http://www.dailyscript.com/scripts/Erin+Brockovich.txt', 'm337': 'http://www.scifiscripts.com/scripts/esb_final.txt', 'm338': 'http://www.scifiscripts.com/scripts/escape_pota.txt', 'm339': 'http://www.scifiscripts.com/scripts/escapela.txt', 'm340': 'http://www.dailyscript.com/scripts/Excalibur.txt', 'm341': 'http://www.horrorlair.com/scripts/exorcist.html', 'm342': 'http://www.dailyscript.com/scripts/Fabulous_Baker_boys_final.html', 'm343': 'http://www.dailyscript.com/scripts/faceoff_production.html', 'm344': 'http://www.dailyscript.com/scripts/familyman.html', 'm345': 'http://www.dailyscript.com/scripts/fantasticfour.html', 'm346': 'http://www.scifiscripts.com/scripts/fantasticvoyager.txt', 'm347': 'http://www.dailyscript.com/scripts/Fargo.txt', 'm348': 'http://www.scifiscripts.com/scripts/fight_club_shoot.txt', 'm349': 'http://www.dailyscript.com/scripts/final_destination2.html', 'm350': 'http://www.horrorlair.com/scripts/finaldestination.txt', 'm351': 'http://www.dailyscript.com/scripts/rambo_first_blood_2.html', 'm352': 'http://www.dailyscript.com/scripts/fisher-king_shooting.html', 'm353': 'http://www.dailyscript.com/scripts/fiveeasypieces.html', 'm354': 'http://www.dailyscript.com/scripts/fivefeetandrising.html', 'm355': 'http://www.dailyscript.com/scripts/Fletch.txt', 'm356': 'http://www.dailyscript.com/scripts/ford-fairlane_early.html', 'm357': 'http://www.dailyscript.com/scripts/frenchconnection.html', 'm358': 'http://www.dailyscript.com/scripts/frequency.html', 'm359': 'http://www.horrorlair.com/scripts/friday13th3.txt', 'm360': 'http://www.horrorlair.com/scripts/friday13th6.txt', 'm361': 'http://www.horrorlair.com/scripts/friday13thjasongoestohell.txt', 'm362': 'http://www.dailyscript.com/scripts/friday_13_8.html', 'm363': 'http://www.dailyscript.com/scripts/game_6.html', 'm364': 'http://www.dailyscript.com/scripts/Gandhi.txt', 'm365': 'http://www.dailyscript.com/scripts/gattaca_early.html', 'm366': 'http://www.dailyscript.com/scripts/getaway.html', 'm367': 'http://www.dailyscript.com/scripts/getcarter.html', 'm368': 'http://www.dailyscript.com/scripts/glengarry.html', 'm369': 'http://www.dailyscript.com/scripts/godfather2.html', 'm370': 'http://www.dailyscript.com/scripts/Gods%20And%20Monsters.txt', 'm371': 'http://www.dailyscript.com/scripts/gone_in_60_seconds.html', 'm372': 'http://www.dailyscript.com/scripts/goodfellas.html', 'm373': 'http://www.moviescriptsandscreenplays.com/BenandMatt/goodwillhunting.txt', 'm374': 'http://www.dailyscript.com/scripts/Grapes%20Of%20Wrath,%20The.txt', 'm375': 'http://www.dailyscript.com/scripts/Grosse%20Pointe%20Blank.txt', 'm376': 'http://www.awesomefilm.com/script/h_whispr.txt', 'm377': 'http://www.scifiscripts.com/scripts/hackers.txt', 'm378': 'http://www.horrorlair.com/scripts/halloween4.txt', 'm379': 'http://www.dailyscript.com/scripts/Halloween.txt', 'm380': 'http://www.dailyscript.com/scripts/Hannah%20And%20Her%20Sisters.txt', 'm381': 'http://www.dailyscript.com/scripts/Hannibal%20-%20Zaillian.txt', 'm382': 'http://www.dailyscript.com/scripts/happy-campers_early.html', 'm383': 'http://www.dailyscript.com/scripts/heathers_shooting.html', 'm384': 'http://www.awesomefilm.com/script/heavenlycreatures.html', 'm385': 'http://www.horrorlair.com/scripts/hellraiser_hellseeker_orig.html', 'm386': 'http://www.dailyscript.com/scripts/hero1.html', 'm387': 'http://www.dailyscript.com/scripts/hider-in-the-house.html', 'm388': 'http://www.scifiscripts.com/scripts/highlander3.txt', 'm389': 'http://home.online.no/~bhundlan/scripts/hostage.htm', 'm390': 'http://www.dailyscript.com/scripts/hotel_rwanda.html', 'm391': 'http://www.dailyscript.com/scripts/house-on-haunted-hill.html', 'm392': 'http://www.horrorlair.com/scripts/houseOfTheDamned.txt', 'm393': 'http://www.cenobite.com/library/hr3-910701.txt', 'm394': 'http://www.dailyscript.com/scripts/hudson-hawk_early.html', 'm395': 'http://www.dailyscript.com/scripts/Hudsucker%20Proxy,%20The.txt', 'm396': 'http://www.dailyscript.com/scripts/i-walked_with_a_zombie.html', 'm397': 'http://www.dailyscript.com/scripts/icestorm.html', 'm398': 'http://www.dailyscript.com/scripts/insomnia.html', 'm399': 'http://www.scifiscripts.com/scripts/interview.txt', 'm400': 'http://www.horrorlair.com/scripts/iskwydls.txt', 'm401': 'http://www.dailyscript.com/scripts/isleofthedead.htm', 'm402': 'http://www.aellea.com/script/itsawonderfullife.txt', 'm403': 'http://www.dailyscript.com/scripts/Jaws%202.txt', 'm404': 'http://www.horrorlair.com/scripts/jaws3_1st_draft.txt', 'm405': 'http://www.horrorlair.com/scripts/jaws_the_revenge.txt', 'm406': 'http://www.aellea.com/script/jazzsinger.txt', 'm407': 'http://www.dailyscript.com/scripts/jennifer-eight-script.html', 'm408': 'http://www.awesomefilm.com/script/jerryMaguire.txt', 'm409': 'http://www.dailyscript.com/scripts/jp3.html', 'm410': 'http://www.horrorlair.com/scripts/jurassic2_thw.txt', 'm411': 'http://www.scifiscripts.com/scripts/JurassicPark_1stDraft.txt', 'm412': 'http://www.horrorlair.com/scripts/jvsf_bm.txt', 'm413': 'http://www.dailyscript.com/scripts/kafka.html', 'm414': 'http://www.scifiscripts.com/scripts/kingkong.txt', 'm415': 'http://www.dailyscript.com/scripts/klute.html', 'm416': 'http://www.dailyscript.com/scripts/Kramer%20vs%20Kramer.txt', 'm417': 'http://www.dailyscript.com/scripts/Kundun.txt', 'm418': 'http://www.dailyscript.com/scripts/lake-placid.html', 'm419': 'http://www.horrorlair.com/scripts/lambsfinal.txt', 'm420': 'http://www.dailyscript.com/scripts/last-of-the-mohicans-script.html', 'm421': 'http://www.dailyscript.com/scripts/leviathan_shooting.html', 'm422': 'http://www.scifiscripts.com/msol/lockstock_screenplay.txt', 'm423': 'http://www.dailyscript.com/scripts/Lone%20Star.txt', 'm424': 'http://www.dailyscript.com/scripts/lordofillusions.html', 'm425': 'http://www.dailyscript.com/scripts/lost-in-translation-script.html', 'm426': 'http://www.horrorlair.com/scripts/lostsouls.txt', 'm427': 'http://www.dailyscript.com/scripts/love_and_basketball.html', 'm428': 'http://www.dailyscript.com/scripts/magnolia.html', 'm429': 'http://www.dailyscript.com/scripts/man_in_iron_mask_95.html', 'm430': 'http://www.awesomefilm.com/script/manhunt.html', 'm431': 'http://www.dailyscript.com/scripts/manhunter.html', 'm432': 'http://www.scifiscripts.com/msol/manonthemoon.txt', 'm433': 'http://www.scifiscripts.com/scripts/matrix_97_draft.txt', 'm434': 'http://www.dailyscript.com/scripts/meanstreet.html', 'm435': 'http://www.awesomefilm.com/script/meetjoeblack.txt', 'm436': 'http://www.dailyscript.com/scripts/memento.html', 'm437': 'http://www.dailyscript.com/scripts/miamivice.html', 'm438': 'http://www.dailyscript.com/scripts/Midnight%20Cowboy.txt', 'm439': 'http://www.dailyscript.com/scripts/midnightexpress.html', 'm440': 'http://www.dailyscript.com/scripts/mimic_production.html', 'm441': 'http://www.dailyscript.com/scripts/Misery.txt', 'm442': 'http://www.dailyscript.com/scripts/mission-impossible-2_shoot.html', 'm443': 'http://www.dailyscript.com/scripts/mission-impossible_shoot.html', 'm444': 'http://www.dailyscript.com/scripts/Moonstruck.txt', 'm445': 'http://www.angelfire.com/movies/closedcaptioned/mp-holy.txt', 'm446': 'http://www.dailyscript.com/scripts/mrs_brown.html', 'm447': 'http://www.awesomefilm.com/script/ms_arcad.txt', 'm448': 'http://www.dailyscript.com/scripts/mulholland_drive.html', 'm449': 'http://www.awesomefilm.com/script/murderland.html', 'm450': 'http://www.scifiscripts.com/msol/my_girl_2.html', 'm451': 'http://www.scifiscripts.com/msol/my_girl.html', 'm452': 'http://www.awesomefilm.com/script/mybestfriendswedding.txt', 'm453': 'http://www.dailyscript.com/scripts/nashville.html', 'm454': 'http://www.dailyscript.com/scripts/natural-born-killers_shoot.html', 'm455': 'http://www.aellea.com/emruf3/nbam.html', 'm456': 'http://www.angelfire.com/movies/moviefreak/negotiator.html', 'm457': 'http://www.scifiscripts.com/scripts/neuromancer.txt', 'm458': 'http://www.dailyscript.com/scripts/neverbeenkissed.html', 'm459': 'http://www.dailyscript.com/scripts/nightmare-b4-xmas_early.html', 'm460': 'http://www.horrorlair.com/scripts/nightmare_on_elm_street2.txt', 'm461': 'http://www.horrorlair.com/scripts/nightmare_on_elm_street3.txt', 'm462': 'http://www.awesomefilm.com/script/nothill.txt', 'm463': \"http://www.dailyscript.com/scripts/One%20Flew%20Over%20The%20Cuckoo's%20Nest.txt\", 'm464': 'http://www.awesomefilm.com/script/onlyyou.html', 'm465': 'http://www.dailyscript.com/scripts/onthewaterfront.html', 'm466': 'http://www.horrorlair.com/HorrorWorld/edwood/orgyofthedead.html', 'm467': 'http://www.dailyscript.com/scripts/Out%20Of%20Sight.txt', 'm468': 'http://www.dailyscript.com/scripts/pearl_harbor_early.html', 'm469': 'http://www.dailyscript.com/scripts/peggysue.html', 'm470': 'http://www.dailyscript.com/scripts/petsemetaryii.html', 'm471': 'http://www.dailyscript.com/scripts/philadelphia.html', 'm472': 'http://www.dailyscript.com/scripts/pitch-black_shooting.html', 'm473': 'http://www.scifiscripts.com/scripts/POTA_Remake.txt', 'm474': 'http://www.dailyscript.com/scripts/Platoon.txt', 'm475': 'http://www.dailyscript.com/scripts/playback.html', 'm476': 'http://www.dailyscript.com/scripts/ploughmans_lunch.html', 'm477': 'http://www.awesomefilm.com/script/pointbreak.html', 'm478': 'http://www.scifiscripts.com/scripts/predator.txt', 'm479': 'http://www.awesomefilm.com/script/prettywoman.html', 'm480': 'http://www.dailyscript.com/scripts/Princess%20Bride,%20The.txt', 'm481': 'http://www.dailyscript.com/scripts/Producers,%20The.txt', 'm482': 'http://www.dailyscript.com/scripts/Psycho.txt', 'm483': 'http://www.aellea.com/script/qMANIAC.htm', 'm484': 'http://www.aellea.com/script/qVAMPYR.htm', 'm485': 'http://www.aellea.com/script/qWAX.htm', 'm486': 'http://www.dailyscript.com/scripts/quantumproject.html', 'm487': 'http://www.dailyscript.com/scripts/ramblingrose.html', 'm488': 'http://www.awesomefilm.com/script/redwhiteblackandblue.html', 'm489': 'http://www.scifiscripts.com/scripts/revengeofthejedi.txt', 'm490': 'http://www.horrorlair.com/scripts/rhps.txt', 'm491': 'http://www.dailyscript.com/scripts/Rocky.txt', 'm492': 'http://www.scifiscripts.com/cartoon/roger-rabbit.htm', 'm493': 'http://www.awesomefilm.com/script/romeo+juliet.txt', 'm494': 'http://www.dailyscript.com/scripts/ronin_early.html', 'm495': 'http://home.earthlink.net/~bhb1/scripts/rt9/route_9.html', 'm496': 'http://www.dailyscript.com/scripts/rush_hour_2.html', 'm497': 'http://www.dailyscript.com/scripts/RushHour.html', 'm498': 'http://www.awesomefilm.com/script/rwbride.html', 'm499': 'http://www.awesomefilm.com/script/s_seatl.html', 'm500': 'http://www.aellea.com/script/salt.txt', 'm501': 'http://www.dailyscript.com/scripts/salton_sea.html', 'm502': 'http://www.moviescriptsandscreenplays.com/BenandMatt/savingprivateryan.txt', 'm503': 'http://www.moviescriptsandscreenplays.com/johncusack/scripts/sayanything.txt', 'm504': 'http://www.awesomefilm.com/script/schindlerslist.txt', 'm505': 'http://www.horrorlair.com/scripts/scream2.txt', 'm506': 'http://www.horrorlair.com/scripts/scream3_early_draft.txt', 'm507': 'http://www.dailyscript.com/scripts/Scream.txt', 'm508': 'http://www.horrorlair.com/scripts/se7en.html', 'm509': 'http://www.dailyscript.com/scripts/Searchers,%20The.txt', 'm510': 'http://www.horrorlair.com/scripts/sevendaystolive_2nd.html', 'm511': 'http://www.dailyscript.com/scripts/Shakespeare%20In%20Love.txt', 'm512': 'http://www.horrorlair.com/scripts/shallow.txt', 'm513': 'http://www.dailyscript.com/scripts/shampoo.html', 'm514': 'http://www.dailyscript.com/scripts/shining.html', 'm515': 'http://www.dailyscript.com/scripts/silverbullet.html', 'm516': 'http://www.scifiscripts.com/msol/sister_act.txt', 'm517': 'http://www.dailyscript.com/scripts/sleepy-hollow_shooting.html', 'm518': 'http://www.dailyscript.com/scripts/Sling%20Blade.txt', 'm519': 'http://www.awesomefilm.com/script/smoke.txt', 'm520': 'http://www.dailyscript.com/scripts/snow-falling_shooting.html', 'm521': 'http://www.dailyscript.com/scripts/soldier.html', 'm522': 'http://www.dailyscript.com/scripts/Some+Like+It+Hot.txt', 'm523': 'http://www.dailyscript.com/scripts/somethingborrowed.html', 'm524': 'http://www.aellea.com/script/sounder.txt', 'm525': 'http://www.dailyscript.com/scripts/south-park.html', 'm526': 'http://www.scifiscripts.com/scripts/spaceJacked.txt', 'm527': 'http://www.dailyscript.com/scripts/spareme.html', 'm528': 'http://www.dailyscript.com/scripts/sphere_shooting.html', 'm529': 'http://www.scifiscripts.com/scripts/star_wars_3rd.txt', 'm530': 'http://www.scifiscripts.com/scripts/starship_troopers.txt', 'm531': 'http://www.dailyscript.com/scripts/startrek01.html', 'm532': 'http://www.dailyscript.com/scripts/State+And+Main.txt', 'm533': 'http://www.dailyscript.com/scripts/stepmom.html', 'm534': 'http://www.dailyscript.com/scripts/storytelling.html', 'm535': 'http://www.horrorlair.com/scripts/strangehold.txt', 'm536': 'http://www.visual-memory.co.uk/amk/doc/0055.html', 'm537': 'http://www.awesomefilm.com/script/suburbia.html', 'm538': 'http://www.dailyscript.com/scripts/sugarandspice.html', 'm539': 'http://www.dailyscript.com/scripts/sunset_bld_3_21_49.html', 'm540': 'http://www.scifiscripts.com/scripts/supergirl.txt', 'm541': 'http://www.scifiscripts.com/scripts/superman3_script.txt', 'm542': 'http://www.scifiscripts.com/scripts/supermanii_scriptment_2_76.txt', 'm543': 'http://www.scifiscripts.com/scripts/superman_IV.txt', 'm544': 'http://www.scifiscripts.com/scripts/superman_original.txt', 'm545': 'http://www.dailyscript.com/scripts/sweethereafter.html', 'm546': 'http://www.dailyscript.com/scripts/sweetsmell.html', 'm547': 'http://www.scifiscripts.com/scripts/t2.txt', 'm548': 'http://www.dailyscript.com/scripts/takingsides.html', 'm549': 'http://www.scifiscripts.com/scripts/terminator_1_4th_draft.txt', 'm550': 'http://www.dailyscript.com/scripts/the-game-early.html', 'm551': 'http://www.dailyscript.com/scripts/the-haunting_production.html', 'm552': 'http://www.dailyscript.com/scripts/the-limey.html', 'm553': \"http://www.dailyscript.com/scripts/Man%20Who%20Wasn't%20There,%20The.txt\", 'm554': 'http://www.dailyscript.com/scripts/the-relic_early.html', 'm555': 'http://www.dailyscript.com/scripts/the-truman-show_shooting.html', 'm556': 'http://www.dailyscript.com/scripts/the-x-files_production.html', 'm557': 'http://www.dailyscript.com/scripts/the_cell.html', 'm558': 'http://www.dailyscript.com/scripts/the_third_man.html', 'm559': 'http://www.scifiscripts.com/msol/beach/script01_15.htm', 'm560': 'http://www.dailyscript.com/scripts/thebeliever.html', 'm561': 'http://www.dailyscript.com/scripts/thebigblue.html', 'm562': 'http://www.dailyscript.com/scripts/thehebrewhammer.html', 'm563': 'http://www.dailyscript.com/scripts/theleopardman.htm', 'm564': 'http://www.alibi-books.com/thelostson/thelostson.htm', 'm565': 'http://www.awesomefilm.com/script/themessenger.txt', 'm566': 'http://www.dailyscript.com/scripts/Pianist,%20The.txt', 'm567': 'http://www.dailyscript.com/scripts/thepianolesson.html', 'm568': 'http://www.dailyscript.com/scripts/Sting,%20The.txt', 'm569': 'http://www.geocities.com/kingrr/thin.html', 'm570': 'http://www.dailyscript.com/scripts/three-kings_unproduced.html', 'm571': 'http://www.scifiscripts.com/scripts/thx1138.txt', 'm572': 'http://www.dailyscript.com/scripts/ticker.html', 'm573': 'http://www.aellea.com/emruf3/tip.html', 'm574': 'http://www.dailyscript.com/scripts/Titanic.txt', 'm575': 'http://www.aellea.com/emruf3/tm.html', 'm576': 'http://www.dailyscript.com/scripts/tomb_stone.html', 'm577': 'http://www.awesomefilm.com/script/tomorrowneverdies.txt', 'm578': 'http://www.dailyscript.com/scripts/tosleepwithanger.html', 'm579': 'http://www.dailyscript.com/scripts/toy_story.html', 'm580': 'http://www.aellea.com/emruf3/toyshop.html', 'm581': 'http://www.dailyscript.com/scripts/Traffic.txt', 'm582': 'http://www.awesomefilm.com/script/trainspotting.html', 'm583': 'http://www.scifiscripts.com/scripts/trek5.txt', 'm584': 'http://www.scifiscripts.com/scripts/tron.txt', 'm585': 'http://www.awesomefilm.com/script/truelies.txt', 'm586': 'http://www.awesomefilm.com/script/trueromance.html', 'm587': 'http://www.horrorlair.com/scripts/twelvemonkeys.html', 'm588': 'http://www.dailyscript.com/scripts/u-turn_early.html', 'm589': 'http://www.dailyscript.com/scripts/u-turn_shooting.html', 'm590': 'http://www.dailyscript.com/scripts/Unbreakable.txt', 'm591': 'http://www.dailyscript.com/scripts/Unforgiven.txt', 'm592': 'http://www.dailyscript.com/scripts/Usual%20Suspects,%20The.txt', 'm593': 'http://www.scifiscripts.com/msol/verdict.txt', 'm594': 'http://www.dailyscript.com/scripts/Vertigo.txt', 'm595': 'http://www.dailyscript.com/scripts/Very+Bad+Things.txt', 'm596': 'http://www.aellea.com/script/viridiana.txt', 'm597': 'http://www.dailyscript.com/scripts/virtuosity.html', 'm598': 'http://www.dailyscript.com/scripts/wag-the-dog_production.html', 'm599': 'http://www.dailyscript.com/scripts/wall_street.html', 'm600': 'http://www.horrorlair.com/scripts/waxwork.txt', 'm601': 'http://www.dailyscript.com/scripts/What+Lies+Beneath.txt', 'm602': 'http://www.awesomefilm.com/script/whatwomenwant.html', 'm603': 'http://www.scifiscripts.com/scripts/whitching_hour.txt', 'm604': 'http://www.horrorlair.com/scripts/whiteang.txt', 'm605': 'http://www.cvisual.com/film-techniques/whos-your-daddy-by-maria-veltre-and-jack-sekowski.txt', 'm606': 'http://www.dailyscript.com/scripts/Wild+Things.txt', 'm607': 'http://www.scifiscripts.com/scripts/wildwest.txt', 'm608': 'http://www.scifiscripts.com/scripts/willow.txt', 'm609': 'http://www.dailyscript.com/scripts/Witness.txt', 'm610': 'http://www.scifiscripts.com/scripts/wizoz.txt', 'm611': 'http://www.awesomefilm.com/script/worldisnotenough.txt', 'm612': 'http://www.scifiscripts.com/scripts/wtchmn.txt', 'm613': 'http://www.dailyscript.com/scripts/xXx.txt', 'm614': 'http://www.scifiscripts.com/scripts/xmenthing.txt', 'm615': 'http://www.horrorlair.com/scripts/young.txt', 'm616': 'http://www.aellea.com/script/zuludawn.txt'}, 'name': 'Cornell Movie-Dialogs Corpus'})\n"
          ]
        }
      ]
    },
    {
      "cell_type": "markdown",
      "source": [
        " - Print out metadata to see all features and categories we can work with"
      ],
      "metadata": {
        "id": "n3aEbuVYCrjj"
      }
    },
    {
      "cell_type": "code",
      "source": [
        "for conversation in list(corpus.iter_conversations())[:5]:\n",
        "    print(f\"Conversation ID: {conversation.id}\")\n",
        "    print(\"Metadata:\", conversation.meta)\n",
        "    print(\"-\" * 50)"
      ],
      "metadata": {
        "colab": {
          "base_uri": "https://localhost:8080/"
        },
        "id": "zDPuAC3A61eN",
        "outputId": "518b321e-71ec-4407-ad33-7f3c705e75ba"
      },
      "execution_count": 10,
      "outputs": [
        {
          "output_type": "stream",
          "name": "stdout",
          "text": [
            "Conversation ID: L1044\n",
            "Metadata: ConvoKitMeta({'movie_idx': 'm0', 'movie_name': '10 things i hate about you', 'release_year': '1999', 'rating': '6.90', 'votes': '62847', 'genre': \"['comedy', 'romance']\"})\n",
            "--------------------------------------------------\n",
            "Conversation ID: L984\n",
            "Metadata: ConvoKitMeta({'movie_idx': 'm0', 'movie_name': '10 things i hate about you', 'release_year': '1999', 'rating': '6.90', 'votes': '62847', 'genre': \"['comedy', 'romance']\"})\n",
            "--------------------------------------------------\n",
            "Conversation ID: L924\n",
            "Metadata: ConvoKitMeta({'movie_idx': 'm0', 'movie_name': '10 things i hate about you', 'release_year': '1999', 'rating': '6.90', 'votes': '62847', 'genre': \"['comedy', 'romance']\"})\n",
            "--------------------------------------------------\n",
            "Conversation ID: L870\n",
            "Metadata: ConvoKitMeta({'movie_idx': 'm0', 'movie_name': '10 things i hate about you', 'release_year': '1999', 'rating': '6.90', 'votes': '62847', 'genre': \"['comedy', 'romance']\"})\n",
            "--------------------------------------------------\n",
            "Conversation ID: L866\n",
            "Metadata: ConvoKitMeta({'movie_idx': 'm0', 'movie_name': '10 things i hate about you', 'release_year': '1999', 'rating': '6.90', 'votes': '62847', 'genre': \"['comedy', 'romance']\"})\n",
            "--------------------------------------------------\n"
          ]
        }
      ]
    },
    {
      "cell_type": "markdown",
      "source": [
        " - From the above, we have all features related to the dataset as presented on kaggle. The issue now is to merge all metadata into a single, unified dataframe for data manipulation and training."
      ],
      "metadata": {
        "id": "Rf8VC0h362er"
      }
    },
    {
      "cell_type": "markdown",
      "source": [
        "##1) Extracting all utterances into a DF"
      ],
      "metadata": {
        "id": "lM5fjqDn4ebt"
      }
    },
    {
      "cell_type": "code",
      "source": [
        "#Take all \"utterences\" from metadata and add to list\n",
        "#Want to maintain utterance_id as a reference point for other features\n",
        "utterances_data = []\n",
        "for utterance in corpus.iter_utterances():\n",
        "    utterances_data.append({\n",
        "        'utterance_id': utterance.id,\n",
        "        'text': utterance.text,\n",
        "        'speaker_id': utterance.speaker.id,\n",
        "        'conversation_id': utterance.conversation_id,\n",
        "        'reply_to': utterance.reply_to\n",
        "    })\n",
        "\n",
        "utterances_df = pd.DataFrame(utterances_data)"
      ],
      "metadata": {
        "id": "TuL76Q794gsK"
      },
      "execution_count": 11,
      "outputs": []
    },
    {
      "cell_type": "code",
      "source": [
        "#Going to drop duplicates and rows with missing texts ince it is most important piece of information\n",
        "utterances_df.drop_duplicates(subset=['utterance_id'], inplace=True)\n",
        "utterances_df.dropna(subset=['text'], inplace=True)\n",
        "utterances_df.sort_values(by=['conversation_id', 'utterance_id'], inplace=True)\n",
        "utterances_df.reset_index(drop=True, inplace=True)"
      ],
      "metadata": {
        "id": "9orQkT6V5L-n"
      },
      "execution_count": 12,
      "outputs": []
    },
    {
      "cell_type": "markdown",
      "source": [
        "##2) Extract Movie Metadata"
      ],
      "metadata": {
        "id": "GWSRu8BC5NyJ"
      }
    },
    {
      "cell_type": "code",
      "source": [
        "#Initialize our lists for some metadata features\n",
        "movie_ids = []\n",
        "release_years = []\n",
        "ratings = []\n",
        "votes = []\n",
        "genres = []\n",
        "\n",
        "#Iterate over the conversations in corpus to get metadata\n",
        "for conversation in corpus.iter_conversations():\n",
        "    movie_ids.append(conversation.id)\n",
        "    release_years.append(conversation.meta.get('release_year', None))\n",
        "    ratings.append(conversation.meta.get('rating', None))\n",
        "    votes.append(conversation.meta.get('votes', None))\n",
        "    genres.append(conversation.meta.get('genre', None))\n",
        "\n",
        "#DataFRame created for metadata storage\n",
        "movie_metadata_df = pd.DataFrame({\n",
        "    'movie_id': movie_ids,\n",
        "    'year': release_years,\n",
        "    'rating': ratings,\n",
        "    'votes': votes,\n",
        "    'genres': genres\n",
        "})"
      ],
      "metadata": {
        "id": "HBxoWzi35P8d"
      },
      "execution_count": 13,
      "outputs": []
    },
    {
      "cell_type": "code",
      "source": [
        "movie_metadata_df.info()"
      ],
      "metadata": {
        "colab": {
          "base_uri": "https://localhost:8080/"
        },
        "id": "oANf6HgEDr1w",
        "outputId": "eae5810f-569e-4eda-c7fe-577602fddb89"
      },
      "execution_count": 14,
      "outputs": [
        {
          "output_type": "stream",
          "name": "stdout",
          "text": [
            "<class 'pandas.core.frame.DataFrame'>\n",
            "RangeIndex: 83097 entries, 0 to 83096\n",
            "Data columns (total 5 columns):\n",
            " #   Column    Non-Null Count  Dtype \n",
            "---  ------    --------------  ----- \n",
            " 0   movie_id  83097 non-null  object\n",
            " 1   year      83097 non-null  object\n",
            " 2   rating    83097 non-null  object\n",
            " 3   votes     83097 non-null  object\n",
            " 4   genres    83097 non-null  object\n",
            "dtypes: object(5)\n",
            "memory usage: 3.2+ MB\n"
          ]
        }
      ]
    },
    {
      "cell_type": "code",
      "source": [
        "#some columns are numerical, going to shift to different type.\n",
        "movie_metadata_df['year'] = pd.to_numeric(movie_metadata_df['year'], errors='coerce')\n",
        "movie_metadata_df['rating'] = pd.to_numeric(movie_metadata_df['rating'], errors='coerce')\n",
        "movie_metadata_df['votes'] = pd.to_numeric(movie_metadata_df['votes'], errors='coerce')\n",
        "\n",
        "#Genre's will be of list type for simplification down the line\n",
        "movie_metadata_df['genres'] = movie_metadata_df['genres'].apply(lambda x: eval(x) if pd.notna(x) else [])\n"
      ],
      "metadata": {
        "id": "kqQRimg48UVG"
      },
      "execution_count": 15,
      "outputs": []
    },
    {
      "cell_type": "markdown",
      "source": [
        "##3) Character Metadata"
      ],
      "metadata": {
        "id": "2XtBU_mo5T4f"
      }
    },
    {
      "cell_type": "code",
      "source": [
        "#More lists for other metadata features\n",
        "speaker_ids = []\n",
        "character_names = []\n",
        "genders = []\n",
        "credit_positions = []\n",
        "\n",
        "#Extract metadata from speakers\n",
        "for speaker in corpus.iter_speakers():\n",
        "    speaker_ids.append(speaker.id)\n",
        "    #Name may be missing, so we will include \"Unknown\" classifier\n",
        "    character_names.append(speaker.meta.get('character_name', \"Unknown\"))\n",
        "    genders.append(speaker.meta.get('gender', None))\n",
        "    credit_positions.append(speaker.meta.get('credit_pos', None))\n",
        "\n",
        "#DataFrame created for metadata storage specific to character data\n",
        "character_metadata_df = pd.DataFrame({\n",
        "    'speaker_id': speaker_ids,\n",
        "    'character_name': character_names,\n",
        "    'gender': genders,\n",
        "    'credit_position': credit_positions\n",
        "})"
      ],
      "metadata": {
        "id": "RJa-heLp5Xae"
      },
      "execution_count": 16,
      "outputs": []
    },
    {
      "cell_type": "code",
      "source": [
        "#Created dictionary to map Speaker ID to character name\n",
        "character_dict = dict(zip(character_metadata_df['speaker_id'], character_metadata_df['character_name']))\n"
      ],
      "metadata": {
        "id": "bd-KtityKrFl"
      },
      "execution_count": 17,
      "outputs": []
    },
    {
      "cell_type": "markdown",
      "source": [
        "##4) Merging Metadata"
      ],
      "metadata": {
        "id": "MknYaiAz5aNt"
      }
    },
    {
      "cell_type": "markdown",
      "source": [
        " - As seen above, we have a few dataframes pulling metadata from the library, now we need to merge into a single dataframe."
      ],
      "metadata": {
        "id": "18iyV5FkEGdP"
      }
    },
    {
      "cell_type": "code",
      "source": [
        "#Merge movie metadata into utterances_df based on 'conversation_id'\n",
        "utterances_with_metadata = pd.merge(utterances_df, movie_metadata_df, left_on='conversation_id', right_on='movie_id', how='left')\n",
        "\n",
        "#Merge character metadata into utterances_df based on 'speaker_id'\n",
        "utterances_with_metadata = pd.merge(utterances_with_metadata, character_metadata_df, on='speaker_id', how='left')\n"
      ],
      "metadata": {
        "id": "c9TLQN1D5ck6"
      },
      "execution_count": 18,
      "outputs": []
    },
    {
      "cell_type": "markdown",
      "source": [
        "##5) Context-Response Pairs by ID"
      ],
      "metadata": {
        "id": "vNviVaUL5eo4"
      }
    },
    {
      "cell_type": "markdown",
      "source": [
        " - Going to create context-response pairs with character names to add context to input/response as it may be a useful feature for our model"
      ],
      "metadata": {
        "id": "nw9pOChZESDa"
      }
    },
    {
      "cell_type": "code",
      "source": [
        "#Initializing lists to store context/response pairs and associated character names\n",
        "contexts = []\n",
        "responses = []\n",
        "context_characters = []\n",
        "response_characters = []\n",
        "pair_ids = []\n",
        "\n",
        "#Dictionary for utterences and speaker ID's\n",
        "utterance_text_dict = dict(zip(utterances_with_metadata['utterance_id'], utterances_with_metadata['text']))\n",
        "utterance_speaker_dict = dict(zip(utterances_with_metadata['utterance_id'], utterances_with_metadata['speaker_id']))\n",
        "\n",
        "#Loop through the utterences, build context/response pairs\n",
        "for index, row in utterances_with_metadata.iterrows():\n",
        "    #Filter in rows with a valid 'reply_to' since this makes up our context\n",
        "    if pd.notna(row['reply_to']):\n",
        "        context_id = row['reply_to']\n",
        "        response_id = row['utterance_id']\n",
        "\n",
        "        #Grab context and response texts\n",
        "        context_text = utterance_text_dict.get(context_id, \"\")\n",
        "        response_text = row['text']\n",
        "\n",
        "        #Grab speaker ID's for context and response\n",
        "        context_speaker_id = utterance_speaker_dict.get(context_id, None)\n",
        "        response_speaker_id = row['speaker_id']\n",
        "\n",
        "        #Grab character names\n",
        "        context_character = character_dict.get(context_speaker_id, \"Unknown\")\n",
        "        response_character = character_dict.get(response_speaker_id, \"Unknown\")\n",
        "\n",
        "        #Append all information to initalized lists\n",
        "        contexts.append(context_text)\n",
        "        responses.append(response_text)\n",
        "        context_characters.append(context_character)\n",
        "        response_characters.append(response_character)\n",
        "        pair_ids.append(response_id)\n",
        "\n",
        "#Create a new DataFrame for context/response pairs including character names\n",
        "dialogue_pairs_with_metadata = pd.DataFrame({\n",
        "    'ID': pair_ids,\n",
        "    'context': contexts,\n",
        "    'context_character': context_characters,\n",
        "    'response': responses,\n",
        "    'response_character': response_characters\n",
        "})\n",
        "\n",
        "#Merge with movie metadata extracted from earlier\n",
        "dialogue_pairs_with_metadata = pd.merge(\n",
        "    dialogue_pairs_with_metadata,\n",
        "    utterances_with_metadata[['utterance_id', 'year', 'rating', 'votes', 'genres', 'gender', 'credit_position']],\n",
        "    left_on='ID',\n",
        "    right_on='utterance_id',\n",
        "    how='left'\n",
        ")"
      ],
      "metadata": {
        "id": "DB1Kl9Z0K-lS"
      },
      "execution_count": 19,
      "outputs": []
    },
    {
      "cell_type": "markdown",
      "source": [
        "##6) Merging Context-Response Pairs with Metadata for complete Df"
      ],
      "metadata": {
        "id": "z-tMKd-g5mpQ"
      }
    },
    {
      "cell_type": "code",
      "source": [
        "#Column selection for parent DataFrame\n",
        "final_columns = ['ID', 'context', 'context_character', 'response', 'response_character',\n",
        "                 'year', 'rating', 'votes', 'genres', 'gender', 'credit_position']\n",
        "dialogue_pairs_with_metadata = dialogue_pairs_with_metadata[final_columns]\n",
        "\n",
        "#Check and ensure that it structured properly\n",
        "print(dialogue_pairs_with_metadata.head())"
      ],
      "metadata": {
        "colab": {
          "base_uri": "https://localhost:8080/"
        },
        "id": "uDf5Ohv4LB18",
        "outputId": "150aa637-b350-4215-c576-fe31823e559d"
      },
      "execution_count": 20,
      "outputs": [
        {
          "output_type": "stream",
          "name": "stdout",
          "text": [
            "        ID                                            context  \\\n",
            "0  L100002  Then why did you go see Mr. Koehler in the fir...   \n",
            "1  L100004                                           Hi, Joe.   \n",
            "2  L100005                  Frank -- what are you doing here?   \n",
            "3  L100006  I need to ask you a question.  What made you g...   \n",
            "4  L100007                  You know I can't talk about that.   \n",
            "\n",
            "  context_character                                           response  \\\n",
            "0           DULANEY                              Because he called me.   \n",
            "1           DULANEY                  Frank -- what are you doing here?   \n",
            "2           KOEHLER  I need to ask you a question.  What made you g...   \n",
            "3           DULANEY                  You know I can't talk about that.   \n",
            "4           KOEHLER  I'm not asking for names or specifics.  I just...   \n",
            "\n",
            "  response_character    year  rating  votes                      genres  \\\n",
            "0             JOANNE  1993.0     4.1   6052  [drama, romance, thriller]   \n",
            "1            KOEHLER  1993.0     4.1   6052  [drama, romance, thriller]   \n",
            "2            DULANEY  1993.0     4.1   6052  [drama, romance, thriller]   \n",
            "3            KOEHLER  1993.0     4.1   6052  [drama, romance, thriller]   \n",
            "4            DULANEY  1993.0     4.1   6052  [drama, romance, thriller]   \n",
            "\n",
            "  gender credit_position  \n",
            "0      f              11  \n",
            "1      ?               ?  \n",
            "2      m              12  \n",
            "3      ?               ?  \n",
            "4      m              12  \n"
          ]
        }
      ]
    },
    {
      "cell_type": "markdown",
      "source": [
        " - Dataframe looks ugly here, going to format display into a table"
      ],
      "metadata": {
        "id": "f6i2dhIoFHpe"
      }
    },
    {
      "cell_type": "code",
      "source": [
        "print(tabulate(dialogue_pairs_with_metadata.head(), headers='keys', tablefmt='psql'))"
      ],
      "metadata": {
        "colab": {
          "base_uri": "https://localhost:8080/"
        },
        "id": "z3bx6XcO55MM",
        "outputId": "77c3c887-edf7-4d82-a3b5-e5a36cc5ad11"
      },
      "execution_count": 21,
      "outputs": [
        {
          "output_type": "stream",
          "name": "stdout",
          "text": [
            "+----+---------+--------------------------------------------------------------------------------+---------------------+-------------------------------------------------------------------------------------------------+----------------------+--------+----------+---------+----------------------------------+----------+-------------------+\n",
            "|    | ID      | context                                                                        | context_character   | response                                                                                        | response_character   |   year |   rating |   votes | genres                           | gender   | credit_position   |\n",
            "|----+---------+--------------------------------------------------------------------------------+---------------------+-------------------------------------------------------------------------------------------------+----------------------+--------+----------+---------+----------------------------------+----------+-------------------|\n",
            "|  0 | L100002 | Then why did you go see Mr. Koehler in the first place?                        | DULANEY             | Because he called me.                                                                           | JOANNE               |   1993 |      4.1 |    6052 | ['drama', 'romance', 'thriller'] | f        | 11                |\n",
            "|  1 | L100004 | Hi, Joe.                                                                       | DULANEY             | Frank -- what are you doing here?                                                               | KOEHLER              |   1993 |      4.1 |    6052 | ['drama', 'romance', 'thriller'] | ?        | ?                 |\n",
            "|  2 | L100005 | Frank -- what are you doing here?                                              | KOEHLER             | I need to ask you a question.  What made you get in touch with Joanne Braslow?                  | DULANEY              |   1993 |      4.1 |    6052 | ['drama', 'romance', 'thriller'] | m        | 12                |\n",
            "|  3 | L100006 | I need to ask you a question.  What made you get in touch with Joanne Braslow? | DULANEY             | You know I can't talk about that.                                                               | KOEHLER              |   1993 |      4.1 |    6052 | ['drama', 'romance', 'thriller'] | ?        | ?                 |\n",
            "|  4 | L100007 | You know I can't talk about that.                                              | KOEHLER             | I'm not asking for names or specifics.  I just want to know what prompted you to make the call? | DULANEY              |   1993 |      4.1 |    6052 | ['drama', 'romance', 'thriller'] | m        | 12                |\n",
            "+----+---------+--------------------------------------------------------------------------------+---------------------+-------------------------------------------------------------------------------------------------+----------------------+--------+----------+---------+----------------------------------+----------+-------------------+\n"
          ]
        }
      ]
    },
    {
      "cell_type": "code",
      "source": [
        "dialogue_pairs_with_metadata.info()"
      ],
      "metadata": {
        "colab": {
          "base_uri": "https://localhost:8080/"
        },
        "id": "nvrqBqMe6OB7",
        "outputId": "a3306b8a-b7fd-46d7-b374-94a49281dc5d"
      },
      "execution_count": 22,
      "outputs": [
        {
          "output_type": "stream",
          "name": "stdout",
          "text": [
            "<class 'pandas.core.frame.DataFrame'>\n",
            "RangeIndex: 221616 entries, 0 to 221615\n",
            "Data columns (total 11 columns):\n",
            " #   Column              Non-Null Count   Dtype  \n",
            "---  ------              --------------   -----  \n",
            " 0   ID                  221616 non-null  object \n",
            " 1   context             221616 non-null  object \n",
            " 2   context_character   221616 non-null  object \n",
            " 3   response            221616 non-null  object \n",
            " 4   response_character  221616 non-null  object \n",
            " 5   year                216702 non-null  float64\n",
            " 6   rating              221616 non-null  float64\n",
            " 7   votes               221616 non-null  int64  \n",
            " 8   genres              221616 non-null  object \n",
            " 9   gender              221616 non-null  object \n",
            " 10  credit_position     221616 non-null  object \n",
            "dtypes: float64(2), int64(1), object(8)\n",
            "memory usage: 18.6+ MB\n"
          ]
        }
      ]
    },
    {
      "cell_type": "markdown",
      "source": [
        " - Info shows mostly perfect data, but still a few issues seen in displayed data, primarily that we have '?' in gender and credit position for unknowns. This is essentially a substitute for NaN and needs management\n"
      ],
      "metadata": {
        "id": "XOCM4V-R9olB"
      }
    },
    {
      "cell_type": "markdown",
      "source": [
        "##7) Handle Missing Values and '?'"
      ],
      "metadata": {
        "id": "l5WSEM_Yuglm"
      }
    },
    {
      "cell_type": "code",
      "source": [
        "#Missing Data printout\n",
        "print(\"Missing values per column:\")\n",
        "print(dialogue_pairs_with_metadata.isnull().sum())\n",
        "\n",
        "#Question mark check in column values\n",
        "placeholder_counts = (dialogue_pairs_with_metadata == '?').sum()\n",
        "print(\"\\nCount of '?' placeholders per column:\")\n",
        "print(placeholder_counts)"
      ],
      "metadata": {
        "colab": {
          "base_uri": "https://localhost:8080/"
        },
        "id": "Q4H0UtcHuf5p",
        "outputId": "4c7da67f-f73a-4210-ec63-47d5d239f507"
      },
      "execution_count": 23,
      "outputs": [
        {
          "output_type": "stream",
          "name": "stdout",
          "text": [
            "Missing values per column:\n",
            "ID                       0\n",
            "context                  0\n",
            "context_character        0\n",
            "response                 0\n",
            "response_character       0\n",
            "year                  4914\n",
            "rating                   0\n",
            "votes                    0\n",
            "genres                   0\n",
            "gender                   0\n",
            "credit_position          0\n",
            "dtype: int64\n",
            "\n",
            "Count of '?' placeholders per column:\n",
            "ID                        0\n",
            "context                   0\n",
            "context_character         0\n",
            "response                  0\n",
            "response_character        0\n",
            "year                      0\n",
            "rating                    0\n",
            "votes                     0\n",
            "genres                    0\n",
            "gender                43082\n",
            "credit_position       62395\n",
            "dtype: int64\n"
          ]
        }
      ]
    },
    {
      "cell_type": "markdown",
      "source": [
        " - Features 'Year' has missing values, with 'Credit_Position'and 'Gender' having '?' values."
      ],
      "metadata": {
        "id": "62aLXn1oupYE"
      }
    },
    {
      "cell_type": "markdown",
      "source": [
        " - We will handle gender and credit_position first"
      ],
      "metadata": {
        "id": "6MalAusjvyRl"
      }
    },
    {
      "cell_type": "code",
      "source": [
        "#Replace '?' with 'Unknown' in gender instead of NaN\n",
        "dialogue_pairs_with_metadata['gender'].replace('?', 'Unknown', inplace=True)\n",
        "\n",
        "#For credit_position going with a placeholder value of -1 to represent unknown\n",
        "dialogue_pairs_with_metadata['credit_position'].replace('?', -1, inplace=True)"
      ],
      "metadata": {
        "colab": {
          "base_uri": "https://localhost:8080/"
        },
        "id": "FKiAni17v7q5",
        "outputId": "c054502b-ad00-4db6-b1ea-1badc825e82a"
      },
      "execution_count": 24,
      "outputs": [
        {
          "output_type": "stream",
          "name": "stderr",
          "text": [
            "<ipython-input-24-cbe33e858ac5>:2: FutureWarning: A value is trying to be set on a copy of a DataFrame or Series through chained assignment using an inplace method.\n",
            "The behavior will change in pandas 3.0. This inplace method will never work because the intermediate object on which we are setting values always behaves as a copy.\n",
            "\n",
            "For example, when doing 'df[col].method(value, inplace=True)', try using 'df.method({col: value}, inplace=True)' or df[col] = df[col].method(value) instead, to perform the operation inplace on the original object.\n",
            "\n",
            "\n",
            "  dialogue_pairs_with_metadata['gender'].replace('?', 'Unknown', inplace=True)\n",
            "<ipython-input-24-cbe33e858ac5>:5: FutureWarning: A value is trying to be set on a copy of a DataFrame or Series through chained assignment using an inplace method.\n",
            "The behavior will change in pandas 3.0. This inplace method will never work because the intermediate object on which we are setting values always behaves as a copy.\n",
            "\n",
            "For example, when doing 'df[col].method(value, inplace=True)', try using 'df.method({col: value}, inplace=True)' or df[col] = df[col].method(value) instead, to perform the operation inplace on the original object.\n",
            "\n",
            "\n",
            "  dialogue_pairs_with_metadata['credit_position'].replace('?', -1, inplace=True)\n"
          ]
        }
      ]
    },
    {
      "cell_type": "markdown",
      "source": [
        " - Handle missing values of year now"
      ],
      "metadata": {
        "id": "unMdrXgwv-In"
      }
    },
    {
      "cell_type": "code",
      "source": [
        "#Substitute missing values with median values of existing years.\n",
        "median_year = dialogue_pairs_with_metadata['year'].median()\n",
        "dialogue_pairs_with_metadata['year'].fillna(median_year, inplace=True)"
      ],
      "metadata": {
        "colab": {
          "base_uri": "https://localhost:8080/"
        },
        "id": "irYpi5oRwAT8",
        "outputId": "e546d90f-1271-41f2-d4ef-0d66ed60f1df"
      },
      "execution_count": 25,
      "outputs": [
        {
          "output_type": "stream",
          "name": "stderr",
          "text": [
            "<ipython-input-25-808aa0832217>:3: FutureWarning: A value is trying to be set on a copy of a DataFrame or Series through chained assignment using an inplace method.\n",
            "The behavior will change in pandas 3.0. This inplace method will never work because the intermediate object on which we are setting values always behaves as a copy.\n",
            "\n",
            "For example, when doing 'df[col].method(value, inplace=True)', try using 'df.method({col: value}, inplace=True)' or df[col] = df[col].method(value) instead, to perform the operation inplace on the original object.\n",
            "\n",
            "\n",
            "  dialogue_pairs_with_metadata['year'].fillna(median_year, inplace=True)\n"
          ]
        }
      ]
    },
    {
      "cell_type": "markdown",
      "source": [
        " - Double check to see that they've been eliminated"
      ],
      "metadata": {
        "id": "_GMhej0-GCwM"
      }
    },
    {
      "cell_type": "code",
      "source": [
        "print(\"Remaining '?' in `gender`:\", (dialogue_pairs_with_metadata['gender'] == '?').sum())\n",
        "print(\"Remaining '?' in `credit_position`:\", (dialogue_pairs_with_metadata['credit_position'] == '?').sum())\n",
        "print(\"Missing values in `year` after filling:\", dialogue_pairs_with_metadata['year'].isnull().sum())\n"
      ],
      "metadata": {
        "colab": {
          "base_uri": "https://localhost:8080/"
        },
        "id": "PXFg6s4CwEH9",
        "outputId": "81bf86ce-691d-46e9-c303-3143e5130eef"
      },
      "execution_count": 26,
      "outputs": [
        {
          "output_type": "stream",
          "name": "stdout",
          "text": [
            "Remaining '?' in `gender`: 0\n",
            "Remaining '?' in `credit_position`: 0\n",
            "Missing values in `year` after filling: 0\n"
          ]
        }
      ]
    },
    {
      "cell_type": "markdown",
      "source": [
        " - Now we check datatypes to address any issues there"
      ],
      "metadata": {
        "id": "QbRsW871wIFH"
      }
    },
    {
      "cell_type": "code",
      "source": [
        "print(dialogue_pairs_with_metadata.dtypes)"
      ],
      "metadata": {
        "colab": {
          "base_uri": "https://localhost:8080/"
        },
        "id": "UzQ1_C2TwKKh",
        "outputId": "c7d88c82-e584-4cdf-e819-b67b13fda266"
      },
      "execution_count": 27,
      "outputs": [
        {
          "output_type": "stream",
          "name": "stdout",
          "text": [
            "ID                     object\n",
            "context                object\n",
            "context_character      object\n",
            "response               object\n",
            "response_character     object\n",
            "year                  float64\n",
            "rating                float64\n",
            "votes                   int64\n",
            "genres                 object\n",
            "gender                 object\n",
            "credit_position        object\n",
            "dtype: object\n"
          ]
        }
      ]
    },
    {
      "cell_type": "markdown",
      "source": [
        " - Weird that credit_position is an object, let's change that"
      ],
      "metadata": {
        "id": "dDWiU70VwXYz"
      }
    },
    {
      "cell_type": "code",
      "source": [
        "#Convert credit_position to type int\n",
        "dialogue_pairs_with_metadata['credit_position'] = dialogue_pairs_with_metadata['credit_position'].astype(int)\n",
        "print(dialogue_pairs_with_metadata.dtypes)"
      ],
      "metadata": {
        "colab": {
          "base_uri": "https://localhost:8080/"
        },
        "id": "0WEFYsvywI9C",
        "outputId": "8a768beb-b336-4bbd-e3f7-08d0bc6d7f95"
      },
      "execution_count": 28,
      "outputs": [
        {
          "output_type": "stream",
          "name": "stdout",
          "text": [
            "ID                     object\n",
            "context                object\n",
            "context_character      object\n",
            "response               object\n",
            "response_character     object\n",
            "year                  float64\n",
            "rating                float64\n",
            "votes                   int64\n",
            "genres                 object\n",
            "gender                 object\n",
            "credit_position         int64\n",
            "dtype: object\n"
          ]
        }
      ]
    },
    {
      "cell_type": "markdown",
      "source": [
        " - The data is good, needs some more preprocessing (check for class imbalance, etc.) but we can proceed with model and initialization"
      ],
      "metadata": {
        "id": "uEDhKvxEGNj3"
      }
    },
    {
      "cell_type": "code",
      "source": [
        "#Initializing with special tokens\n",
        "#Using smallest GPT model\n",
        "tokenizer = GPT2Tokenizer.from_pretrained('distilgpt2')\n",
        "tokenizer.add_special_tokens({\n",
        "    'pad_token': '[PAD]',\n",
        "    'bos_token': '<SOS>',\n",
        "    'eos_token': '<EOS>'\n",
        "})"
      ],
      "metadata": {
        "colab": {
          "base_uri": "https://localhost:8080/",
          "height": 353,
          "referenced_widgets": [
            "10ef0fcd30a14f6497051dc68ff0d0e4",
            "fdd48661e3034e0db06b9c1acc3f911d",
            "ddc35bfa984048e2b7b2238785bafc80",
            "66c93dd4c43e43649c767482f44bd53f",
            "705655df9c8c4481a6672c914f6fd8e1",
            "54e622bf46314e32bb2f36306adadae2",
            "a72244db80574919bce382ff5520dc72",
            "295661f7260c49e99c577ed9e6118e2c",
            "d2faa2e6db7942fa819c247a27d0d3ea",
            "08e1f9a75d8c4f09bfca89c66ad26d4a",
            "53516b305638406f9531b8cfc8679ad8",
            "c47ace7ba49e4adfbcc2439a84bdcaaa",
            "f155b2e219754f7786717a66f9ae167b",
            "873fc362ef3a4b4c9e38a2e6cdbb5739",
            "fd83c2b75b2241ff8a90848da7ea4618",
            "760624ac7a464c568fc220e956e8ae6e",
            "7e4af0efdf4944e19bd7434b5e5142cf",
            "b8235a134b4a43daadf1f9fb781e16d3",
            "1845fce1636c482db7ace7ae965086d8",
            "1ddb0619e08349b49ada9006027b4be8",
            "6e04df9e0bcd4b98aa13d7923f606c9d",
            "5ea3fcbcce294d8a877d0df368515932",
            "0c903eb27b3f46438a3c90044dc4d9c7",
            "83931619122e42a3a10ad5313a4027b0",
            "a74f4bee4985490aa84669114b7787c7",
            "186114484967403186db0cd7f8aaf6a7",
            "527cf424dced40439c266bc110a6d717",
            "0f827e18b33842e2bb7a8748b0035cb7",
            "f332b35556fb4e6685c4cad819bbd673",
            "e678757d346048bfb7414dbe40b653cc",
            "8b6f0eac17e3467c912606197ead15e6",
            "d74682a10fdc4d1ebfb87f051de489a1",
            "ca21ba03c61a48d3b77e1ddd60a3209b",
            "1373a0ffc11943a89630352ac01638c2",
            "1b5b3fcd42c148af8c74691f1355a734",
            "57ce7a101812415699a00ec14e3743de",
            "5bdfd65e06bf48bd87475bc92e491987",
            "394ca657abeb4d67b306b91344ed2e50",
            "2b059dd9855a4bd0b2067a9a8947fc04",
            "874820cd8bf24e94a47d248df833ea63",
            "dafc585084a6493393e9dc6d7081cb56",
            "1de91255f14445729bd13d20f8f5cd40",
            "36c40dde5c244503928567601ba01e7c",
            "86af364780d94ae29d1b6abb471c6eca",
            "c0f61682a5e04480989b5965422bdb70",
            "a3a52442b7e141aebeb6a8c19860beae",
            "4cbef642dd5d4bdf8a7e49976da84af8",
            "ef7c018ffd9a4befad98c3b0a5da51cb",
            "fbf89f3dde2e4dd092dfef7aa7f4b641",
            "218bfab05c41415199bef6082e860319",
            "82388f6ebc7f46b1882b67351b35f618",
            "a97f0045c4204473872cb27886966eec",
            "991d890a5c674e738c5f78f4de9f78aa",
            "51c447b57aa54aa7ae771818aa819cc7",
            "71588123af2e4429b152f63151ee315b"
          ]
        },
        "id": "iU6rCLjB2vaH",
        "outputId": "dc25275a-20da-4f9a-e06c-aaf77e97b3b5"
      },
      "execution_count": 29,
      "outputs": [
        {
          "output_type": "stream",
          "name": "stderr",
          "text": [
            "/usr/local/lib/python3.10/dist-packages/huggingface_hub/utils/_token.py:89: UserWarning: \n",
            "The secret `HF_TOKEN` does not exist in your Colab secrets.\n",
            "To authenticate with the Hugging Face Hub, create a token in your settings tab (https://huggingface.co/settings/tokens), set it as secret in your Google Colab and restart your session.\n",
            "You will be able to reuse this secret in all of your notebooks.\n",
            "Please note that authentication is recommended but still optional to access public models or datasets.\n",
            "  warnings.warn(\n"
          ]
        },
        {
          "output_type": "display_data",
          "data": {
            "text/plain": [
              "tokenizer_config.json:   0%|          | 0.00/26.0 [00:00<?, ?B/s]"
            ],
            "application/vnd.jupyter.widget-view+json": {
              "version_major": 2,
              "version_minor": 0,
              "model_id": "10ef0fcd30a14f6497051dc68ff0d0e4"
            }
          },
          "metadata": {}
        },
        {
          "output_type": "display_data",
          "data": {
            "text/plain": [
              "vocab.json:   0%|          | 0.00/1.04M [00:00<?, ?B/s]"
            ],
            "application/vnd.jupyter.widget-view+json": {
              "version_major": 2,
              "version_minor": 0,
              "model_id": "c47ace7ba49e4adfbcc2439a84bdcaaa"
            }
          },
          "metadata": {}
        },
        {
          "output_type": "display_data",
          "data": {
            "text/plain": [
              "merges.txt:   0%|          | 0.00/456k [00:00<?, ?B/s]"
            ],
            "application/vnd.jupyter.widget-view+json": {
              "version_major": 2,
              "version_minor": 0,
              "model_id": "0c903eb27b3f46438a3c90044dc4d9c7"
            }
          },
          "metadata": {}
        },
        {
          "output_type": "display_data",
          "data": {
            "text/plain": [
              "tokenizer.json:   0%|          | 0.00/1.36M [00:00<?, ?B/s]"
            ],
            "application/vnd.jupyter.widget-view+json": {
              "version_major": 2,
              "version_minor": 0,
              "model_id": "1373a0ffc11943a89630352ac01638c2"
            }
          },
          "metadata": {}
        },
        {
          "output_type": "display_data",
          "data": {
            "text/plain": [
              "config.json:   0%|          | 0.00/762 [00:00<?, ?B/s]"
            ],
            "application/vnd.jupyter.widget-view+json": {
              "version_major": 2,
              "version_minor": 0,
              "model_id": "c0f61682a5e04480989b5965422bdb70"
            }
          },
          "metadata": {}
        },
        {
          "output_type": "stream",
          "name": "stderr",
          "text": [
            "/usr/local/lib/python3.10/dist-packages/transformers/tokenization_utils_base.py:1601: FutureWarning: `clean_up_tokenization_spaces` was not set. It will be set to `True` by default. This behavior will be depracted in transformers v4.45, and will be then set to `False` by default. For more details check this issue: https://github.com/huggingface/transformers/issues/31884\n",
            "  warnings.warn(\n"
          ]
        },
        {
          "output_type": "execute_result",
          "data": {
            "text/plain": [
              "3"
            ]
          },
          "metadata": {},
          "execution_count": 29
        }
      ]
    },
    {
      "cell_type": "code",
      "source": [
        "#Clean and process some text, including lowercase and removal of special characters\n",
        "def preprocess_text(text):\n",
        "    text = text.lower()\n",
        "    text = re.sub(r'[^a-zA-Z0-9\\s.,!?]', '', text)\n",
        "    return text\n",
        "\n",
        "dialogue_pairs_with_metadata['context'] = dialogue_pairs_with_metadata['context'].apply(preprocess_text)\n",
        "dialogue_pairs_with_metadata['response'] = dialogue_pairs_with_metadata['response'].apply(preprocess_text)\n"
      ],
      "metadata": {
        "id": "VFRbWz5W223G"
      },
      "execution_count": 30,
      "outputs": []
    },
    {
      "cell_type": "code",
      "source": [
        "#Going to utilize batch preprocessing below with specialized tokens.\n",
        "context_texts = dialogue_pairs_with_metadata['context'].tolist()\n",
        "response_texts = dialogue_pairs_with_metadata['response'].tolist()\n",
        "\n",
        "#Tokenize context and response\n",
        "context_tokens = tokenizer(context_texts, padding=True, truncation=True, max_length=50, return_tensors='pt')\n",
        "response_tokens = tokenizer(response_texts, padding=True, truncation=True, max_length=50, return_tensors='pt')\n",
        "\n",
        "#Add the tokenizations to dataframe\n",
        "dialogue_pairs_with_metadata['context_tokens'] = context_tokens['input_ids'].tolist()\n",
        "dialogue_pairs_with_metadata['response_tokens'] = response_tokens['input_ids'].tolist()\n",
        "print(dialogue_pairs_with_metadata[['context', 'context_tokens', 'response', 'response_tokens']].head())\n"
      ],
      "metadata": {
        "colab": {
          "base_uri": "https://localhost:8080/"
        },
        "id": "L94HpcAA24n7",
        "outputId": "1f6fafe7-a8d0-4a59-e21f-5d42fc937b5c"
      },
      "execution_count": 31,
      "outputs": [
        {
          "output_type": "stream",
          "name": "stdout",
          "text": [
            "                                             context  \\\n",
            "0  then why did you go see mr. koehler in the fir...   \n",
            "1                                           hi, joe.   \n",
            "2                    frank  what are you doing here?   \n",
            "3  i need to ask you a question.  what made you g...   \n",
            "4                   you know i cant talk about that.   \n",
            "\n",
            "                                      context_tokens  \\\n",
            "0  [8524, 1521, 750, 345, 467, 766, 285, 81, 13, ...   \n",
            "1  [5303, 11, 2525, 68, 13, 50257, 50257, 50257, ...   \n",
            "2  [8310, 962, 220, 644, 389, 345, 1804, 994, 30,...   \n",
            "3  [72, 761, 284, 1265, 345, 257, 1808, 13, 220, ...   \n",
            "4  [5832, 760, 1312, 18548, 1561, 546, 326, 13, 5...   \n",
            "\n",
            "                                            response  \\\n",
            "0                              because he called me.   \n",
            "1                    frank  what are you doing here?   \n",
            "2  i need to ask you a question.  what made you g...   \n",
            "3                   you know i cant talk about that.   \n",
            "4  im not asking for names or specifics.  i just ...   \n",
            "\n",
            "                                     response_tokens  \n",
            "0  [13893, 339, 1444, 502, 13, 50257, 50257, 5025...  \n",
            "1  [8310, 962, 220, 644, 389, 345, 1804, 994, 30,...  \n",
            "2  [72, 761, 284, 1265, 345, 257, 1808, 13, 220, ...  \n",
            "3  [5832, 760, 1312, 18548, 1561, 546, 326, 13, 5...  \n",
            "4  [320, 407, 4737, 329, 3891, 393, 23514, 13, 22...  \n"
          ]
        }
      ]
    },
    {
      "cell_type": "code",
      "source": [
        "#Model loading\n",
        "model = GPT2LMHeadModel.from_pretrained('distilgpt2')\n",
        "model.resize_token_embeddings(len(tokenizer))\n",
        "\n",
        "#TRaining according to our dataset\n",
        "class GPTDialogueDataset(Dataset):\n",
        "    def __init__(self, df):\n",
        "        self.context_tokens = df['context_tokens'].tolist()\n",
        "        self.response_tokens = df['response_tokens'].tolist()\n",
        "\n",
        "    def __len__(self):\n",
        "        return len(self.context_tokens)\n",
        "\n",
        "    def __getitem__(self, idx):\n",
        "        input_ids = torch.tensor(self.context_tokens[idx])\n",
        "        labels = torch.tensor(self.response_tokens[idx])\n",
        "        return {'input_ids': input_ids, 'labels': labels}\n",
        "\n",
        "train_dataset = GPTDialogueDataset(dialogue_pairs_with_metadata)"
      ],
      "metadata": {
        "colab": {
          "base_uri": "https://localhost:8080/",
          "height": 81,
          "referenced_widgets": [
            "8362d8dd27da4727bccba1703d91e0c9",
            "66b6d9b0024c4962b679057058f143eb",
            "706a21902aa644dea4e80d19bd1077c6",
            "ef9cdb2d497e4ed695430dc85d0b19eb",
            "26f721e312ac4624be6aade622e4d4e2",
            "c68058a2b6f94a0197ed46bc91fc3120",
            "24278fd102634fbe8c3e4c5c9858b9fd",
            "5b972d217d054b9fa15642d945eb1554",
            "5058c4f803db42659bcde52243aa5344",
            "ac1250339dad45d89aa013de94e4b1ea",
            "b0f94a92ddd747419ce2b4ee701a810e",
            "fd1d15ef46864dbf912f55d5f789b1de",
            "ecba8a579d4d4a98a95cbc2941ea671c",
            "26be31e7936b4fe6b449514554c1569e",
            "ca42096eee9449928d00504e8b370c7f",
            "59c3e026956c4d6caf8bbdf7a9b6cd96",
            "bd58b27cfbaf488e86f97d965a049b97",
            "095c5a2889ef476185671cf52c455083",
            "cda45d0d47a443e5a9824be7c0141b8b",
            "7c1d5fa724ca4b2b99aeaa52e6078a19",
            "f28c4eaecc614577af9e344e92c9cfe4",
            "dda53030eed4433197e55d2ebdf24ed1"
          ]
        },
        "id": "B8C9QB9Q2695",
        "outputId": "79bb95c9-151f-481d-f5d7-6ec9ed16324b"
      },
      "execution_count": 32,
      "outputs": [
        {
          "output_type": "display_data",
          "data": {
            "text/plain": [
              "model.safetensors:   0%|          | 0.00/353M [00:00<?, ?B/s]"
            ],
            "application/vnd.jupyter.widget-view+json": {
              "version_major": 2,
              "version_minor": 0,
              "model_id": "8362d8dd27da4727bccba1703d91e0c9"
            }
          },
          "metadata": {}
        },
        {
          "output_type": "display_data",
          "data": {
            "text/plain": [
              "generation_config.json:   0%|          | 0.00/124 [00:00<?, ?B/s]"
            ],
            "application/vnd.jupyter.widget-view+json": {
              "version_major": 2,
              "version_minor": 0,
              "model_id": "fd1d15ef46864dbf912f55d5f789b1de"
            }
          },
          "metadata": {}
        }
      ]
    },
    {
      "cell_type": "code",
      "source": [
        "#Training and testing sets, should probably split earlier in code\n",
        "train_df, eval_df = train_test_split(dialogue_pairs_with_metadata, test_size=0.2, random_state=37)\n",
        "\n",
        "#Split into training and evlauation datasets\n",
        "train_dataset = GPTDialogueDataset(train_df)\n",
        "eval_dataset = GPTDialogueDataset(eval_df)"
      ],
      "metadata": {
        "id": "kteXDruj7vlV"
      },
      "execution_count": 33,
      "outputs": []
    },
    {
      "cell_type": "code",
      "source": [
        "def objective(trial):\n",
        "    #hyperparameters to try\n",
        "    learning_rate = trial.suggest_loguniform('learning_rate', 1e-5, 1e-4)\n",
        "    num_train_epochs = trial.suggest_int('num_train_epochs', 2, 5)\n",
        "    batch_size = trial.suggest_categorical('batch_size', [2, 4, 8])\n",
        "\n",
        "    training_args = TrainingArguments(\n",
        "        output_dir='./gpt2_chatbot',\n",
        "        learning_rate=learning_rate,\n",
        "        num_train_epochs=num_train_epochs,\n",
        "        per_device_train_batch_size=batch_size,\n",
        "    )\n",
        "\n",
        "    trainer = Trainer(model=model, args=training_args, train_dataset=train_dataset, eval_dataset=eval_dataset)\n",
        "    eval_result = trainer.evaluate()\n",
        "    return eval_result['eval_loss']\n",
        "\n",
        "study = optuna.create_study(direction='minimize')\n",
        "study.optimize(objective, n_trials=10)\n",
        "print(\"Best Hyperparameters:\", study.best_params)"
      ],
      "metadata": {
        "colab": {
          "base_uri": "https://localhost:8080/",
          "height": 793
        },
        "id": "IMAHGAdX5uX2",
        "outputId": "83e007f9-62ae-48f8-ffdb-912680b3ec25"
      },
      "execution_count": 34,
      "outputs": [
        {
          "output_type": "stream",
          "name": "stderr",
          "text": [
            "[I 2024-10-06 16:19:37,637] A new study created in memory with name: no-name-7cec7e2c-8015-4fa1-ba67-21dd863a4259\n",
            "<ipython-input-34-55bb045795f6>:3: FutureWarning: suggest_loguniform has been deprecated in v3.0.0. This feature will be removed in v6.0.0. See https://github.com/optuna/optuna/releases/tag/v3.0.0. Use suggest_float(..., log=True) instead.\n",
            "  learning_rate = trial.suggest_loguniform('learning_rate', 1e-5, 1e-4)\n"
          ]
        },
        {
          "output_type": "display_data",
          "data": {
            "text/plain": [
              "<IPython.core.display.HTML object>"
            ],
            "text/html": [
              "\n",
              "    <div>\n",
              "      \n",
              "      <progress value='5541' max='5541' style='width:300px; height:20px; vertical-align: middle;'></progress>\n",
              "      [5541/5541 00:37]\n",
              "    </div>\n",
              "    "
            ]
          },
          "metadata": {}
        },
        {
          "output_type": "stream",
          "name": "stderr",
          "text": [
            "[I 2024-10-06 16:20:17,849] Trial 0 finished with value: 15.632522583007812 and parameters: {'learning_rate': 1.1380662628871282e-05, 'num_train_epochs': 2, 'batch_size': 4}. Best is trial 0 with value: 15.632522583007812.\n",
            "<ipython-input-34-55bb045795f6>:3: FutureWarning: suggest_loguniform has been deprecated in v3.0.0. This feature will be removed in v6.0.0. See https://github.com/optuna/optuna/releases/tag/v3.0.0. Use suggest_float(..., log=True) instead.\n",
            "  learning_rate = trial.suggest_loguniform('learning_rate', 1e-5, 1e-4)\n"
          ]
        },
        {
          "output_type": "display_data",
          "data": {
            "text/plain": [
              "<IPython.core.display.HTML object>"
            ],
            "text/html": [
              "\n",
              "    <div>\n",
              "      \n",
              "      <progress value='5541' max='5541' style='width:300px; height:20px; vertical-align: middle;'></progress>\n",
              "      [5541/5541 00:37]\n",
              "    </div>\n",
              "    "
            ]
          },
          "metadata": {}
        },
        {
          "output_type": "stream",
          "name": "stderr",
          "text": [
            "[I 2024-10-06 16:20:55,789] Trial 1 finished with value: 15.632522583007812 and parameters: {'learning_rate': 3.959204387092146e-05, 'num_train_epochs': 3, 'batch_size': 8}. Best is trial 0 with value: 15.632522583007812.\n",
            "<ipython-input-34-55bb045795f6>:3: FutureWarning: suggest_loguniform has been deprecated in v3.0.0. This feature will be removed in v6.0.0. See https://github.com/optuna/optuna/releases/tag/v3.0.0. Use suggest_float(..., log=True) instead.\n",
            "  learning_rate = trial.suggest_loguniform('learning_rate', 1e-5, 1e-4)\n"
          ]
        },
        {
          "output_type": "display_data",
          "data": {
            "text/plain": [
              "<IPython.core.display.HTML object>"
            ],
            "text/html": [
              "\n",
              "    <div>\n",
              "      \n",
              "      <progress value='5541' max='5541' style='width:300px; height:20px; vertical-align: middle;'></progress>\n",
              "      [5541/5541 00:37]\n",
              "    </div>\n",
              "    "
            ]
          },
          "metadata": {}
        },
        {
          "output_type": "stream",
          "name": "stderr",
          "text": [
            "[I 2024-10-06 16:21:33,657] Trial 2 finished with value: 15.632522583007812 and parameters: {'learning_rate': 3.443925183486824e-05, 'num_train_epochs': 3, 'batch_size': 4}. Best is trial 0 with value: 15.632522583007812.\n",
            "<ipython-input-34-55bb045795f6>:3: FutureWarning: suggest_loguniform has been deprecated in v3.0.0. This feature will be removed in v6.0.0. See https://github.com/optuna/optuna/releases/tag/v3.0.0. Use suggest_float(..., log=True) instead.\n",
            "  learning_rate = trial.suggest_loguniform('learning_rate', 1e-5, 1e-4)\n"
          ]
        },
        {
          "output_type": "display_data",
          "data": {
            "text/plain": [
              "<IPython.core.display.HTML object>"
            ],
            "text/html": [
              "\n",
              "    <div>\n",
              "      \n",
              "      <progress value='5541' max='5541' style='width:300px; height:20px; vertical-align: middle;'></progress>\n",
              "      [5541/5541 00:37]\n",
              "    </div>\n",
              "    "
            ]
          },
          "metadata": {}
        },
        {
          "output_type": "stream",
          "name": "stderr",
          "text": [
            "[I 2024-10-06 16:22:11,496] Trial 3 finished with value: 15.632522583007812 and parameters: {'learning_rate': 1.3940918626159624e-05, 'num_train_epochs': 2, 'batch_size': 4}. Best is trial 0 with value: 15.632522583007812.\n",
            "<ipython-input-34-55bb045795f6>:3: FutureWarning: suggest_loguniform has been deprecated in v3.0.0. This feature will be removed in v6.0.0. See https://github.com/optuna/optuna/releases/tag/v3.0.0. Use suggest_float(..., log=True) instead.\n",
            "  learning_rate = trial.suggest_loguniform('learning_rate', 1e-5, 1e-4)\n"
          ]
        },
        {
          "output_type": "display_data",
          "data": {
            "text/plain": [
              "<IPython.core.display.HTML object>"
            ],
            "text/html": [
              "\n",
              "    <div>\n",
              "      \n",
              "      <progress value='5541' max='5541' style='width:300px; height:20px; vertical-align: middle;'></progress>\n",
              "      [5541/5541 00:37]\n",
              "    </div>\n",
              "    "
            ]
          },
          "metadata": {}
        },
        {
          "output_type": "stream",
          "name": "stderr",
          "text": [
            "[I 2024-10-06 16:22:49,298] Trial 4 finished with value: 15.632522583007812 and parameters: {'learning_rate': 9.668780193253278e-05, 'num_train_epochs': 5, 'batch_size': 8}. Best is trial 0 with value: 15.632522583007812.\n",
            "<ipython-input-34-55bb045795f6>:3: FutureWarning: suggest_loguniform has been deprecated in v3.0.0. This feature will be removed in v6.0.0. See https://github.com/optuna/optuna/releases/tag/v3.0.0. Use suggest_float(..., log=True) instead.\n",
            "  learning_rate = trial.suggest_loguniform('learning_rate', 1e-5, 1e-4)\n"
          ]
        },
        {
          "output_type": "display_data",
          "data": {
            "text/plain": [
              "<IPython.core.display.HTML object>"
            ],
            "text/html": [
              "\n",
              "    <div>\n",
              "      \n",
              "      <progress value='5541' max='5541' style='width:300px; height:20px; vertical-align: middle;'></progress>\n",
              "      [5541/5541 00:37]\n",
              "    </div>\n",
              "    "
            ]
          },
          "metadata": {}
        },
        {
          "output_type": "stream",
          "name": "stderr",
          "text": [
            "[I 2024-10-06 16:23:27,057] Trial 5 finished with value: 15.632522583007812 and parameters: {'learning_rate': 1.1953059357845418e-05, 'num_train_epochs': 4, 'batch_size': 8}. Best is trial 0 with value: 15.632522583007812.\n",
            "<ipython-input-34-55bb045795f6>:3: FutureWarning: suggest_loguniform has been deprecated in v3.0.0. This feature will be removed in v6.0.0. See https://github.com/optuna/optuna/releases/tag/v3.0.0. Use suggest_float(..., log=True) instead.\n",
            "  learning_rate = trial.suggest_loguniform('learning_rate', 1e-5, 1e-4)\n"
          ]
        },
        {
          "output_type": "display_data",
          "data": {
            "text/plain": [
              "<IPython.core.display.HTML object>"
            ],
            "text/html": [
              "\n",
              "    <div>\n",
              "      \n",
              "      <progress value='5541' max='5541' style='width:300px; height:20px; vertical-align: middle;'></progress>\n",
              "      [5541/5541 00:37]\n",
              "    </div>\n",
              "    "
            ]
          },
          "metadata": {}
        },
        {
          "output_type": "stream",
          "name": "stderr",
          "text": [
            "[I 2024-10-06 16:24:04,817] Trial 6 finished with value: 15.632522583007812 and parameters: {'learning_rate': 9.781656911845137e-05, 'num_train_epochs': 3, 'batch_size': 8}. Best is trial 0 with value: 15.632522583007812.\n",
            "<ipython-input-34-55bb045795f6>:3: FutureWarning: suggest_loguniform has been deprecated in v3.0.0. This feature will be removed in v6.0.0. See https://github.com/optuna/optuna/releases/tag/v3.0.0. Use suggest_float(..., log=True) instead.\n",
            "  learning_rate = trial.suggest_loguniform('learning_rate', 1e-5, 1e-4)\n"
          ]
        },
        {
          "output_type": "display_data",
          "data": {
            "text/plain": [
              "<IPython.core.display.HTML object>"
            ],
            "text/html": [
              "\n",
              "    <div>\n",
              "      \n",
              "      <progress value='5541' max='5541' style='width:300px; height:20px; vertical-align: middle;'></progress>\n",
              "      [5541/5541 00:38]\n",
              "    </div>\n",
              "    "
            ]
          },
          "metadata": {}
        },
        {
          "output_type": "stream",
          "name": "stderr",
          "text": [
            "[I 2024-10-06 16:24:42,964] Trial 7 finished with value: 15.632522583007812 and parameters: {'learning_rate': 6.477382534448103e-05, 'num_train_epochs': 3, 'batch_size': 4}. Best is trial 0 with value: 15.632522583007812.\n",
            "<ipython-input-34-55bb045795f6>:3: FutureWarning: suggest_loguniform has been deprecated in v3.0.0. This feature will be removed in v6.0.0. See https://github.com/optuna/optuna/releases/tag/v3.0.0. Use suggest_float(..., log=True) instead.\n",
            "  learning_rate = trial.suggest_loguniform('learning_rate', 1e-5, 1e-4)\n"
          ]
        },
        {
          "output_type": "display_data",
          "data": {
            "text/plain": [
              "<IPython.core.display.HTML object>"
            ],
            "text/html": [
              "\n",
              "    <div>\n",
              "      \n",
              "      <progress value='5541' max='5541' style='width:300px; height:20px; vertical-align: middle;'></progress>\n",
              "      [5541/5541 00:38]\n",
              "    </div>\n",
              "    "
            ]
          },
          "metadata": {}
        },
        {
          "output_type": "stream",
          "name": "stderr",
          "text": [
            "[I 2024-10-06 16:25:21,051] Trial 8 finished with value: 15.632522583007812 and parameters: {'learning_rate': 4.6894663268345854e-05, 'num_train_epochs': 3, 'batch_size': 8}. Best is trial 0 with value: 15.632522583007812.\n",
            "<ipython-input-34-55bb045795f6>:3: FutureWarning: suggest_loguniform has been deprecated in v3.0.0. This feature will be removed in v6.0.0. See https://github.com/optuna/optuna/releases/tag/v3.0.0. Use suggest_float(..., log=True) instead.\n",
            "  learning_rate = trial.suggest_loguniform('learning_rate', 1e-5, 1e-4)\n"
          ]
        },
        {
          "output_type": "display_data",
          "data": {
            "text/plain": [
              "<IPython.core.display.HTML object>"
            ],
            "text/html": [
              "\n",
              "    <div>\n",
              "      \n",
              "      <progress value='5541' max='5541' style='width:300px; height:20px; vertical-align: middle;'></progress>\n",
              "      [5541/5541 00:37]\n",
              "    </div>\n",
              "    "
            ]
          },
          "metadata": {}
        },
        {
          "output_type": "stream",
          "name": "stderr",
          "text": [
            "[I 2024-10-06 16:25:59,023] Trial 9 finished with value: 15.632522583007812 and parameters: {'learning_rate': 9.194349216218714e-05, 'num_train_epochs': 3, 'batch_size': 2}. Best is trial 0 with value: 15.632522583007812.\n"
          ]
        },
        {
          "output_type": "stream",
          "name": "stdout",
          "text": [
            "Best Hyperparameters: {'learning_rate': 1.1380662628871282e-05, 'num_train_epochs': 2, 'batch_size': 4}\n"
          ]
        }
      ]
    },
    {
      "cell_type": "markdown",
      "source": [
        " - All return the same finished value with different parameters, need to investigate further"
      ],
      "metadata": {
        "id": "47414N2wHLO6"
      }
    },
    {
      "cell_type": "code",
      "source": [
        "#Check the best hyperparameters\n",
        "print(\"Best Hyperparameters:\", study.best_params)\n",
        "print(\"/n Best Trial:\")\n",
        "print(f\"  Number: {study.best_trial.number}\")\n",
        "print(f\"  Value: {study.best_trial.value}\")\n",
        "print(f\"  Params: {study.best_trial.params}\")"
      ],
      "metadata": {
        "colab": {
          "base_uri": "https://localhost:8080/"
        },
        "id": "GoTWE8AHIHBi",
        "outputId": "1f6a76f8-fd60-4832-d95f-7d94a2a51857"
      },
      "execution_count": 35,
      "outputs": [
        {
          "output_type": "stream",
          "name": "stdout",
          "text": [
            "Best Hyperparameters: {'learning_rate': 1.1380662628871282e-05, 'num_train_epochs': 2, 'batch_size': 4}\n",
            "/n Best Trial:\n",
            "  Number: 0\n",
            "  Value: 15.632522583007812\n",
            "  Params: {'learning_rate': 1.1380662628871282e-05, 'num_train_epochs': 2, 'batch_size': 4}\n"
          ]
        }
      ]
    },
    {
      "cell_type": "code",
      "source": [
        "#Define the training arguments with hyperparameters from above\n",
        "training_args = TrainingArguments(\n",
        "    output_dir='./gpt2_chatbot',\n",
        "    learning_rate=study.best_params['learning_rate'],\n",
        "    num_train_epochs=study.best_params['num_train_epochs'],\n",
        "    per_device_train_batch_size=study.best_params['batch_size'],\n",
        "    gradient_accumulation_steps=8,\n",
        "    save_steps=2000,\n",
        "    evaluation_strategy=\"steps\",\n",
        "    eval_steps=2000,\n",
        "    warmup_steps=500,\n",
        "    #Change to mixed precision training\n",
        "    fp16=True,\n",
        "    #Load in best model at end of training loss\n",
        "    load_best_model_at_end=True,\n",
        "    #Possible early stopping\n",
        "    metric_for_best_model='eval_loss',\n",
        "    #Want lowest eval loss\n",
        "    greater_is_better=False\n",
        ")\n",
        "\n",
        "#Trainer with early stopping and scheduler\n",
        "trainer = Trainer(\n",
        "    model=model,\n",
        "    args=training_args,\n",
        "    train_dataset=train_dataset,\n",
        "    eval_dataset=eval_dataset,\n",
        "    callbacks=[EarlyStoppingCallback(early_stopping_patience=3)]\n",
        ")\n",
        "\n",
        "trainer.train()"
      ],
      "metadata": {
        "colab": {
          "base_uri": "https://localhost:8080/",
          "height": 391
        },
        "id": "dyNJ9sSF5ytM",
        "outputId": "e8441af0-0fea-4de1-8c91-eebbc96bb541"
      },
      "execution_count": 36,
      "outputs": [
        {
          "output_type": "stream",
          "name": "stderr",
          "text": [
            "/usr/local/lib/python3.10/dist-packages/transformers/training_args.py:1525: FutureWarning: `evaluation_strategy` is deprecated and will be removed in version 4.46 of 🤗 Transformers. Use `eval_strategy` instead\n",
            "  warnings.warn(\n",
            "/usr/local/lib/python3.10/dist-packages/accelerate/accelerator.py:494: FutureWarning: `torch.cuda.amp.GradScaler(args...)` is deprecated. Please use `torch.amp.GradScaler('cuda', args...)` instead.\n",
            "  self.scaler = torch.cuda.amp.GradScaler(**kwargs)\n"
          ]
        },
        {
          "output_type": "display_data",
          "data": {
            "text/plain": [
              "<IPython.core.display.HTML object>"
            ],
            "text/html": [
              "\n",
              "    <div>\n",
              "      \n",
              "      <progress value='11080' max='11080' style='width:300px; height:20px; vertical-align: middle;'></progress>\n",
              "      [11080/11080 31:31, Epoch 1/2]\n",
              "    </div>\n",
              "    <table border=\"1\" class=\"dataframe\">\n",
              "  <thead>\n",
              " <tr style=\"text-align: left;\">\n",
              "      <th>Step</th>\n",
              "      <th>Training Loss</th>\n",
              "      <th>Validation Loss</th>\n",
              "    </tr>\n",
              "  </thead>\n",
              "  <tbody>\n",
              "    <tr>\n",
              "      <td>2000</td>\n",
              "      <td>2.009600</td>\n",
              "      <td>1.977448</td>\n",
              "    </tr>\n",
              "    <tr>\n",
              "      <td>4000</td>\n",
              "      <td>2.000600</td>\n",
              "      <td>1.970572</td>\n",
              "    </tr>\n",
              "    <tr>\n",
              "      <td>6000</td>\n",
              "      <td>1.987200</td>\n",
              "      <td>1.962473</td>\n",
              "    </tr>\n",
              "    <tr>\n",
              "      <td>8000</td>\n",
              "      <td>1.970900</td>\n",
              "      <td>1.961637</td>\n",
              "    </tr>\n",
              "    <tr>\n",
              "      <td>10000</td>\n",
              "      <td>1.983900</td>\n",
              "      <td>1.960658</td>\n",
              "    </tr>\n",
              "  </tbody>\n",
              "</table><p>"
            ]
          },
          "metadata": {}
        },
        {
          "output_type": "stream",
          "name": "stderr",
          "text": [
            "There were missing keys in the checkpoint model loaded: ['lm_head.weight'].\n"
          ]
        },
        {
          "output_type": "execute_result",
          "data": {
            "text/plain": [
              "TrainOutput(global_step=11080, training_loss=2.143164110700146, metrics={'train_runtime': 1892.2449, 'train_samples_per_second': 187.388, 'train_steps_per_second': 5.855, 'total_flos': 4523699994624000.0, 'train_loss': 2.143164110700146, 'epoch': 1.999864630101753})"
            ]
          },
          "metadata": {},
          "execution_count": 36
        }
      ]
    },
    {
      "cell_type": "markdown",
      "source": [
        " - On A100, Took 1 hour, costing about 15 credits."
      ],
      "metadata": {
        "id": "HHxgBQ5vIf-1"
      }
    },
    {
      "cell_type": "markdown",
      "source": [
        "##Evaluations"
      ],
      "metadata": {
        "id": "p-mJJSeLI3eC"
      }
    },
    {
      "cell_type": "code",
      "source": [
        "#Calculate metrics before evaluation\n",
        "def calculate_metrics(predictions, labels, tokenizer):\n",
        "    #Flatten token list\n",
        "    preds_flat = [token for pred in predictions for token in pred]\n",
        "    labels_flat = [token for label in labels for token in label]\n",
        "    #Filter out padding tokens\n",
        "    pad_token_id = tokenizer.pad_token_id\n",
        "    preds_flat = [token for token in preds_flat if token != pad_token_id]\n",
        "    labels_flat = [token for token in labels_flat if token != pad_token_id]\n",
        "    #Calculate accuracy, recall, and F1 score\n",
        "    accuracy = accuracy_score(labels_flat, preds_flat)\n",
        "    recall = recall_score(labels_flat, preds_flat, average='weighted')\n",
        "    f1 = f1_score(labels_flat, preds_flat, average='weighted')\n",
        "    return accuracy, recall, f1"
      ],
      "metadata": {
        "id": "xm-mV9rhI21y"
      },
      "execution_count": 37,
      "outputs": []
    },
    {
      "cell_type": "code",
      "source": [
        "#Evaluation of model function\n",
        "def evaluate_model(dataset, model, tokenizer):\n",
        "    #Need to move model to GPU\n",
        "    device = torch.device(\"cuda\" if torch.cuda.is_available() else \"cpu\")\n",
        "    model.to(device)\n",
        "\n",
        "    model.eval()\n",
        "    predictions = []\n",
        "    labels = []\n",
        "\n",
        "    for sample in dataset:\n",
        "        #Need to place input tensors to same location as model\n",
        "        input_ids = sample['input_ids'].unsqueeze(0).to(device)\n",
        "        label_ids = sample['labels'].tolist()\n",
        "\n",
        "        #Attention mask for input id's, avoid issue\n",
        "        attention_mask = (input_ids != tokenizer.pad_token_id).long()\n",
        "        with torch.no_grad():\n",
        "            #Output with attention mask\n",
        "            output = model.generate(\n",
        "                input_ids,\n",
        "                attention_mask=attention_mask,\n",
        "                max_length=50,\n",
        "                num_beams=2,\n",
        "                early_stopping=True,\n",
        "                pad_token_id=tokenizer.pad_token_id\n",
        "            )\n",
        "            predictions.append(output[0].tolist())\n",
        "            labels.append(label_ids)\n",
        "    accuracy, recall, f1 = calculate_metrics(predictions, labels, tokenizer)\n",
        "    print(f\"Accuracy: {accuracy}, Recall: {recall}, F1 Score: {f1}\")\n",
        "\n",
        "evaluate_model(train_dataset, model, tokenizer)"
      ],
      "metadata": {
        "colab": {
          "base_uri": "https://localhost:8080/",
          "height": 339
        },
        "collapsed": true,
        "id": "t5vT5FqF53JE",
        "outputId": "f110c4ba-1234-4d7d-d84e-28b1a26267e1"
      },
      "execution_count": 38,
      "outputs": [
        {
          "output_type": "error",
          "ename": "ValueError",
          "evalue": "Found input variables with inconsistent numbers of samples: [2401822, 2347497]",
          "traceback": [
            "\u001b[0;31m---------------------------------------------------------------------------\u001b[0m",
            "\u001b[0;31mValueError\u001b[0m                                Traceback (most recent call last)",
            "\u001b[0;32m<ipython-input-38-364c8f35f069>\u001b[0m in \u001b[0;36m<cell line: 33>\u001b[0;34m()\u001b[0m\n\u001b[1;32m     31\u001b[0m     \u001b[0mprint\u001b[0m\u001b[0;34m(\u001b[0m\u001b[0;34mf\"Accuracy: {accuracy}, Recall: {recall}, F1 Score: {f1}\"\u001b[0m\u001b[0;34m)\u001b[0m\u001b[0;34m\u001b[0m\u001b[0;34m\u001b[0m\u001b[0m\n\u001b[1;32m     32\u001b[0m \u001b[0;34m\u001b[0m\u001b[0m\n\u001b[0;32m---> 33\u001b[0;31m \u001b[0mevaluate_model\u001b[0m\u001b[0;34m(\u001b[0m\u001b[0mtrain_dataset\u001b[0m\u001b[0;34m,\u001b[0m \u001b[0mmodel\u001b[0m\u001b[0;34m,\u001b[0m \u001b[0mtokenizer\u001b[0m\u001b[0;34m)\u001b[0m\u001b[0;34m\u001b[0m\u001b[0;34m\u001b[0m\u001b[0m\n\u001b[0m",
            "\u001b[0;32m<ipython-input-38-364c8f35f069>\u001b[0m in \u001b[0;36mevaluate_model\u001b[0;34m(dataset, model, tokenizer)\u001b[0m\n\u001b[1;32m     28\u001b[0m             \u001b[0mpredictions\u001b[0m\u001b[0;34m.\u001b[0m\u001b[0mappend\u001b[0m\u001b[0;34m(\u001b[0m\u001b[0moutput\u001b[0m\u001b[0;34m[\u001b[0m\u001b[0;36m0\u001b[0m\u001b[0;34m]\u001b[0m\u001b[0;34m.\u001b[0m\u001b[0mtolist\u001b[0m\u001b[0;34m(\u001b[0m\u001b[0;34m)\u001b[0m\u001b[0;34m)\u001b[0m\u001b[0;34m\u001b[0m\u001b[0;34m\u001b[0m\u001b[0m\n\u001b[1;32m     29\u001b[0m             \u001b[0mlabels\u001b[0m\u001b[0;34m.\u001b[0m\u001b[0mappend\u001b[0m\u001b[0;34m(\u001b[0m\u001b[0mlabel_ids\u001b[0m\u001b[0;34m)\u001b[0m\u001b[0;34m\u001b[0m\u001b[0;34m\u001b[0m\u001b[0m\n\u001b[0;32m---> 30\u001b[0;31m     \u001b[0maccuracy\u001b[0m\u001b[0;34m,\u001b[0m \u001b[0mrecall\u001b[0m\u001b[0;34m,\u001b[0m \u001b[0mf1\u001b[0m \u001b[0;34m=\u001b[0m \u001b[0mcalculate_metrics\u001b[0m\u001b[0;34m(\u001b[0m\u001b[0mpredictions\u001b[0m\u001b[0;34m,\u001b[0m \u001b[0mlabels\u001b[0m\u001b[0;34m,\u001b[0m \u001b[0mtokenizer\u001b[0m\u001b[0;34m)\u001b[0m\u001b[0;34m\u001b[0m\u001b[0;34m\u001b[0m\u001b[0m\n\u001b[0m\u001b[1;32m     31\u001b[0m     \u001b[0mprint\u001b[0m\u001b[0;34m(\u001b[0m\u001b[0;34mf\"Accuracy: {accuracy}, Recall: {recall}, F1 Score: {f1}\"\u001b[0m\u001b[0;34m)\u001b[0m\u001b[0;34m\u001b[0m\u001b[0;34m\u001b[0m\u001b[0m\n\u001b[1;32m     32\u001b[0m \u001b[0;34m\u001b[0m\u001b[0m\n",
            "\u001b[0;32m<ipython-input-37-e17ade968131>\u001b[0m in \u001b[0;36mcalculate_metrics\u001b[0;34m(predictions, labels, tokenizer)\u001b[0m\n\u001b[1;32m      9\u001b[0m     \u001b[0mlabels_flat\u001b[0m \u001b[0;34m=\u001b[0m \u001b[0;34m[\u001b[0m\u001b[0mtoken\u001b[0m \u001b[0;32mfor\u001b[0m \u001b[0mtoken\u001b[0m \u001b[0;32min\u001b[0m \u001b[0mlabels_flat\u001b[0m \u001b[0;32mif\u001b[0m \u001b[0mtoken\u001b[0m \u001b[0;34m!=\u001b[0m \u001b[0mpad_token_id\u001b[0m\u001b[0;34m]\u001b[0m\u001b[0;34m\u001b[0m\u001b[0;34m\u001b[0m\u001b[0m\n\u001b[1;32m     10\u001b[0m     \u001b[0;31m#Calculate accuracy, recall, and F1 score\u001b[0m\u001b[0;34m\u001b[0m\u001b[0;34m\u001b[0m\u001b[0m\n\u001b[0;32m---> 11\u001b[0;31m     \u001b[0maccuracy\u001b[0m \u001b[0;34m=\u001b[0m \u001b[0maccuracy_score\u001b[0m\u001b[0;34m(\u001b[0m\u001b[0mlabels_flat\u001b[0m\u001b[0;34m,\u001b[0m \u001b[0mpreds_flat\u001b[0m\u001b[0;34m)\u001b[0m\u001b[0;34m\u001b[0m\u001b[0;34m\u001b[0m\u001b[0m\n\u001b[0m\u001b[1;32m     12\u001b[0m     \u001b[0mrecall\u001b[0m \u001b[0;34m=\u001b[0m \u001b[0mrecall_score\u001b[0m\u001b[0;34m(\u001b[0m\u001b[0mlabels_flat\u001b[0m\u001b[0;34m,\u001b[0m \u001b[0mpreds_flat\u001b[0m\u001b[0;34m,\u001b[0m \u001b[0maverage\u001b[0m\u001b[0;34m=\u001b[0m\u001b[0;34m'weighted'\u001b[0m\u001b[0;34m)\u001b[0m\u001b[0;34m\u001b[0m\u001b[0;34m\u001b[0m\u001b[0m\n\u001b[1;32m     13\u001b[0m     \u001b[0mf1\u001b[0m \u001b[0;34m=\u001b[0m \u001b[0mf1_score\u001b[0m\u001b[0;34m(\u001b[0m\u001b[0mlabels_flat\u001b[0m\u001b[0;34m,\u001b[0m \u001b[0mpreds_flat\u001b[0m\u001b[0;34m,\u001b[0m \u001b[0maverage\u001b[0m\u001b[0;34m=\u001b[0m\u001b[0;34m'weighted'\u001b[0m\u001b[0;34m)\u001b[0m\u001b[0;34m\u001b[0m\u001b[0;34m\u001b[0m\u001b[0m\n",
            "\u001b[0;32m/usr/local/lib/python3.10/dist-packages/sklearn/utils/_param_validation.py\u001b[0m in \u001b[0;36mwrapper\u001b[0;34m(*args, **kwargs)\u001b[0m\n\u001b[1;32m    211\u001b[0m                     )\n\u001b[1;32m    212\u001b[0m                 ):\n\u001b[0;32m--> 213\u001b[0;31m                     \u001b[0;32mreturn\u001b[0m \u001b[0mfunc\u001b[0m\u001b[0;34m(\u001b[0m\u001b[0;34m*\u001b[0m\u001b[0margs\u001b[0m\u001b[0;34m,\u001b[0m \u001b[0;34m**\u001b[0m\u001b[0mkwargs\u001b[0m\u001b[0;34m)\u001b[0m\u001b[0;34m\u001b[0m\u001b[0;34m\u001b[0m\u001b[0m\n\u001b[0m\u001b[1;32m    214\u001b[0m             \u001b[0;32mexcept\u001b[0m \u001b[0mInvalidParameterError\u001b[0m \u001b[0;32mas\u001b[0m \u001b[0me\u001b[0m\u001b[0;34m:\u001b[0m\u001b[0;34m\u001b[0m\u001b[0;34m\u001b[0m\u001b[0m\n\u001b[1;32m    215\u001b[0m                 \u001b[0;31m# When the function is just a wrapper around an estimator, we allow\u001b[0m\u001b[0;34m\u001b[0m\u001b[0;34m\u001b[0m\u001b[0m\n",
            "\u001b[0;32m/usr/local/lib/python3.10/dist-packages/sklearn/metrics/_classification.py\u001b[0m in \u001b[0;36maccuracy_score\u001b[0;34m(y_true, y_pred, normalize, sample_weight)\u001b[0m\n\u001b[1;32m    229\u001b[0m     \u001b[0mxp\u001b[0m\u001b[0;34m,\u001b[0m \u001b[0m_\u001b[0m\u001b[0;34m,\u001b[0m \u001b[0mdevice\u001b[0m \u001b[0;34m=\u001b[0m \u001b[0mget_namespace_and_device\u001b[0m\u001b[0;34m(\u001b[0m\u001b[0my_true\u001b[0m\u001b[0;34m,\u001b[0m \u001b[0my_pred\u001b[0m\u001b[0;34m,\u001b[0m \u001b[0msample_weight\u001b[0m\u001b[0;34m)\u001b[0m\u001b[0;34m\u001b[0m\u001b[0;34m\u001b[0m\u001b[0m\n\u001b[1;32m    230\u001b[0m     \u001b[0;31m# Compute accuracy for each possible representation\u001b[0m\u001b[0;34m\u001b[0m\u001b[0;34m\u001b[0m\u001b[0m\n\u001b[0;32m--> 231\u001b[0;31m     \u001b[0my_type\u001b[0m\u001b[0;34m,\u001b[0m \u001b[0my_true\u001b[0m\u001b[0;34m,\u001b[0m \u001b[0my_pred\u001b[0m \u001b[0;34m=\u001b[0m \u001b[0m_check_targets\u001b[0m\u001b[0;34m(\u001b[0m\u001b[0my_true\u001b[0m\u001b[0;34m,\u001b[0m \u001b[0my_pred\u001b[0m\u001b[0;34m)\u001b[0m\u001b[0;34m\u001b[0m\u001b[0;34m\u001b[0m\u001b[0m\n\u001b[0m\u001b[1;32m    232\u001b[0m     \u001b[0mcheck_consistent_length\u001b[0m\u001b[0;34m(\u001b[0m\u001b[0my_true\u001b[0m\u001b[0;34m,\u001b[0m \u001b[0my_pred\u001b[0m\u001b[0;34m,\u001b[0m \u001b[0msample_weight\u001b[0m\u001b[0;34m)\u001b[0m\u001b[0;34m\u001b[0m\u001b[0;34m\u001b[0m\u001b[0m\n\u001b[1;32m    233\u001b[0m     \u001b[0;32mif\u001b[0m \u001b[0my_type\u001b[0m\u001b[0;34m.\u001b[0m\u001b[0mstartswith\u001b[0m\u001b[0;34m(\u001b[0m\u001b[0;34m\"multilabel\"\u001b[0m\u001b[0;34m)\u001b[0m\u001b[0;34m:\u001b[0m\u001b[0;34m\u001b[0m\u001b[0;34m\u001b[0m\u001b[0m\n",
            "\u001b[0;32m/usr/local/lib/python3.10/dist-packages/sklearn/metrics/_classification.py\u001b[0m in \u001b[0;36m_check_targets\u001b[0;34m(y_true, y_pred)\u001b[0m\n\u001b[1;32m    101\u001b[0m     \"\"\"\n\u001b[1;32m    102\u001b[0m     \u001b[0mxp\u001b[0m\u001b[0;34m,\u001b[0m \u001b[0m_\u001b[0m \u001b[0;34m=\u001b[0m \u001b[0mget_namespace\u001b[0m\u001b[0;34m(\u001b[0m\u001b[0my_true\u001b[0m\u001b[0;34m,\u001b[0m \u001b[0my_pred\u001b[0m\u001b[0;34m)\u001b[0m\u001b[0;34m\u001b[0m\u001b[0;34m\u001b[0m\u001b[0m\n\u001b[0;32m--> 103\u001b[0;31m     \u001b[0mcheck_consistent_length\u001b[0m\u001b[0;34m(\u001b[0m\u001b[0my_true\u001b[0m\u001b[0;34m,\u001b[0m \u001b[0my_pred\u001b[0m\u001b[0;34m)\u001b[0m\u001b[0;34m\u001b[0m\u001b[0;34m\u001b[0m\u001b[0m\n\u001b[0m\u001b[1;32m    104\u001b[0m     \u001b[0mtype_true\u001b[0m \u001b[0;34m=\u001b[0m \u001b[0mtype_of_target\u001b[0m\u001b[0;34m(\u001b[0m\u001b[0my_true\u001b[0m\u001b[0;34m,\u001b[0m \u001b[0minput_name\u001b[0m\u001b[0;34m=\u001b[0m\u001b[0;34m\"y_true\"\u001b[0m\u001b[0;34m)\u001b[0m\u001b[0;34m\u001b[0m\u001b[0;34m\u001b[0m\u001b[0m\n\u001b[1;32m    105\u001b[0m     \u001b[0mtype_pred\u001b[0m \u001b[0;34m=\u001b[0m \u001b[0mtype_of_target\u001b[0m\u001b[0;34m(\u001b[0m\u001b[0my_pred\u001b[0m\u001b[0;34m,\u001b[0m \u001b[0minput_name\u001b[0m\u001b[0;34m=\u001b[0m\u001b[0;34m\"y_pred\"\u001b[0m\u001b[0;34m)\u001b[0m\u001b[0;34m\u001b[0m\u001b[0;34m\u001b[0m\u001b[0m\n",
            "\u001b[0;32m/usr/local/lib/python3.10/dist-packages/sklearn/utils/validation.py\u001b[0m in \u001b[0;36mcheck_consistent_length\u001b[0;34m(*arrays)\u001b[0m\n\u001b[1;32m    455\u001b[0m     \u001b[0muniques\u001b[0m \u001b[0;34m=\u001b[0m \u001b[0mnp\u001b[0m\u001b[0;34m.\u001b[0m\u001b[0munique\u001b[0m\u001b[0;34m(\u001b[0m\u001b[0mlengths\u001b[0m\u001b[0;34m)\u001b[0m\u001b[0;34m\u001b[0m\u001b[0;34m\u001b[0m\u001b[0m\n\u001b[1;32m    456\u001b[0m     \u001b[0;32mif\u001b[0m \u001b[0mlen\u001b[0m\u001b[0;34m(\u001b[0m\u001b[0muniques\u001b[0m\u001b[0;34m)\u001b[0m \u001b[0;34m>\u001b[0m \u001b[0;36m1\u001b[0m\u001b[0;34m:\u001b[0m\u001b[0;34m\u001b[0m\u001b[0;34m\u001b[0m\u001b[0m\n\u001b[0;32m--> 457\u001b[0;31m         raise ValueError(\n\u001b[0m\u001b[1;32m    458\u001b[0m             \u001b[0;34m\"Found input variables with inconsistent numbers of samples: %r\"\u001b[0m\u001b[0;34m\u001b[0m\u001b[0;34m\u001b[0m\u001b[0m\n\u001b[1;32m    459\u001b[0m             \u001b[0;34m%\u001b[0m \u001b[0;34m[\u001b[0m\u001b[0mint\u001b[0m\u001b[0;34m(\u001b[0m\u001b[0ml\u001b[0m\u001b[0;34m)\u001b[0m \u001b[0;32mfor\u001b[0m \u001b[0ml\u001b[0m \u001b[0;32min\u001b[0m \u001b[0mlengths\u001b[0m\u001b[0;34m]\u001b[0m\u001b[0;34m\u001b[0m\u001b[0;34m\u001b[0m\u001b[0m\n",
            "\u001b[0;31mValueError\u001b[0m: Found input variables with inconsistent numbers of samples: [2401822, 2347497]"
          ]
        }
      ]
    },
    {
      "cell_type": "markdown",
      "source": [
        " - Should include batching in above for time speed up"
      ],
      "metadata": {
        "id": "puLE0bR6d5GB"
      }
    },
    {
      "cell_type": "code",
      "source": [
        "def multi_turn_conversation(prompt, model, tokenizer, max_turns=5, max_length=50):\n",
        "    conversation_history = f\"{tokenizer.bos_token} {prompt}\"\n",
        "    print(f\"User: {prompt}\")\n",
        "\n",
        "    for _ in range(max_turns):\n",
        "        input_ids = tokenizer.encode(conversation_history, return_tensors='pt')\n",
        "        with torch.no_grad():\n",
        "            output = model.generate(input_ids, max_length=max_length, num_beams=2, no_repeat_ngram_size=2, early_stopping=True)\n",
        "        response = tokenizer.decode(output[0], skip_special_tokens=True).strip()\n",
        "\n",
        "        print(f\"Bot: {response}\")\n",
        "\n",
        "        user_input = input(\"User: \")\n",
        "        conversation_history += f\" {tokenizer.sep_token} {user_input}\"\n",
        "\n",
        "prompt = \"Do you think you are lucky? Do ya punk?\"\n",
        "multi_turn_conversation(prompt, model, tokenizer)"
      ],
      "metadata": {
        "id": "SLZCQOxW55JT"
      },
      "execution_count": null,
      "outputs": []
    },
    {
      "cell_type": "markdown",
      "source": [
        "**SAVE MODEL CONFIG AFTER TRAINING**"
      ],
      "metadata": {
        "id": "vUlPeg7B7Ffx"
      }
    },
    {
      "cell_type": "code",
      "source": [
        "#Save the model and tokenizer in a file\n",
        "save_path = './trained_model_gpt2'\n",
        "model.save_pretrained(save_path)\n",
        "tokenizer.save_pretrained(save_path)"
      ],
      "metadata": {
        "id": "IahdoNUm7F-Y"
      },
      "execution_count": null,
      "outputs": []
    },
    {
      "cell_type": "markdown",
      "source": [
        " - When done, download model by going to \"File\" in top left bar, and selecting \"Download\" on file."
      ],
      "metadata": {
        "id": "WKcbt7pQnfOC"
      }
    },
    {
      "cell_type": "markdown",
      "source": [
        "*Do Not Run Below Just Yet*"
      ],
      "metadata": {
        "id": "dS7JDsdj7Qa3"
      }
    },
    {
      "cell_type": "code",
      "source": [
        "'''\n",
        "#Call in model for future use\n",
        "model = GPT2LMHeadModel.from_pretrained(save_path)\n",
        "tokenizer = GPT2Tokenizer.from_pretrained(save_path)\n",
        "'''"
      ],
      "metadata": {
        "id": "49S2UVFz7KMg"
      },
      "execution_count": null,
      "outputs": []
    },
    {
      "cell_type": "markdown",
      "source": [
        " - General setup for FastAPI, but will check later"
      ],
      "metadata": {
        "id": "lg32OQuz7YAa"
      }
    },
    {
      "cell_type": "code",
      "source": [
        "'''\n",
        "app = FastAPI()\n",
        "\n",
        "@app.post(\"/generate\")\n",
        "async def generate_response(request: dict):\n",
        "    prompt = request['prompt']\n",
        "    response = generate_response_beam_search(prompt)\n",
        "    return {\"response\": response}\n",
        "\n",
        "if __name__ == \"__main__\":\n",
        "    uvicorn.run(app, host=\"0.0.0.0\", port=8000)\n",
        "'''"
      ],
      "metadata": {
        "id": "hjNYSme-568_"
      },
      "execution_count": null,
      "outputs": []
    }
  ],
  "metadata": {
    "accelerator": "GPU",
    "colab": {
      "gpuType": "A100",
      "provenance": [],
      "machine_shape": "hm"
    },
    "kernelspec": {
      "display_name": "Python 3",
      "name": "python3"
    },
    "language_info": {
      "codemirror_mode": {
        "name": "ipython",
        "version": 3
      },
      "file_extension": ".py",
      "mimetype": "text/x-python",
      "name": "python",
      "nbconvert_exporter": "python",
      "pygments_lexer": "ipython3",
      "version": "3.11.7"
    },
    "widgets": {
      "application/vnd.jupyter.widget-state+json": {
        "10ef0fcd30a14f6497051dc68ff0d0e4": {
          "model_module": "@jupyter-widgets/controls",
          "model_name": "HBoxModel",
          "model_module_version": "1.5.0",
          "state": {
            "_dom_classes": [],
            "_model_module": "@jupyter-widgets/controls",
            "_model_module_version": "1.5.0",
            "_model_name": "HBoxModel",
            "_view_count": null,
            "_view_module": "@jupyter-widgets/controls",
            "_view_module_version": "1.5.0",
            "_view_name": "HBoxView",
            "box_style": "",
            "children": [
              "IPY_MODEL_fdd48661e3034e0db06b9c1acc3f911d",
              "IPY_MODEL_ddc35bfa984048e2b7b2238785bafc80",
              "IPY_MODEL_66c93dd4c43e43649c767482f44bd53f"
            ],
            "layout": "IPY_MODEL_705655df9c8c4481a6672c914f6fd8e1"
          }
        },
        "fdd48661e3034e0db06b9c1acc3f911d": {
          "model_module": "@jupyter-widgets/controls",
          "model_name": "HTMLModel",
          "model_module_version": "1.5.0",
          "state": {
            "_dom_classes": [],
            "_model_module": "@jupyter-widgets/controls",
            "_model_module_version": "1.5.0",
            "_model_name": "HTMLModel",
            "_view_count": null,
            "_view_module": "@jupyter-widgets/controls",
            "_view_module_version": "1.5.0",
            "_view_name": "HTMLView",
            "description": "",
            "description_tooltip": null,
            "layout": "IPY_MODEL_54e622bf46314e32bb2f36306adadae2",
            "placeholder": "​",
            "style": "IPY_MODEL_a72244db80574919bce382ff5520dc72",
            "value": "tokenizer_config.json: 100%"
          }
        },
        "ddc35bfa984048e2b7b2238785bafc80": {
          "model_module": "@jupyter-widgets/controls",
          "model_name": "FloatProgressModel",
          "model_module_version": "1.5.0",
          "state": {
            "_dom_classes": [],
            "_model_module": "@jupyter-widgets/controls",
            "_model_module_version": "1.5.0",
            "_model_name": "FloatProgressModel",
            "_view_count": null,
            "_view_module": "@jupyter-widgets/controls",
            "_view_module_version": "1.5.0",
            "_view_name": "ProgressView",
            "bar_style": "success",
            "description": "",
            "description_tooltip": null,
            "layout": "IPY_MODEL_295661f7260c49e99c577ed9e6118e2c",
            "max": 26,
            "min": 0,
            "orientation": "horizontal",
            "style": "IPY_MODEL_d2faa2e6db7942fa819c247a27d0d3ea",
            "value": 26
          }
        },
        "66c93dd4c43e43649c767482f44bd53f": {
          "model_module": "@jupyter-widgets/controls",
          "model_name": "HTMLModel",
          "model_module_version": "1.5.0",
          "state": {
            "_dom_classes": [],
            "_model_module": "@jupyter-widgets/controls",
            "_model_module_version": "1.5.0",
            "_model_name": "HTMLModel",
            "_view_count": null,
            "_view_module": "@jupyter-widgets/controls",
            "_view_module_version": "1.5.0",
            "_view_name": "HTMLView",
            "description": "",
            "description_tooltip": null,
            "layout": "IPY_MODEL_08e1f9a75d8c4f09bfca89c66ad26d4a",
            "placeholder": "​",
            "style": "IPY_MODEL_53516b305638406f9531b8cfc8679ad8",
            "value": " 26.0/26.0 [00:00&lt;00:00, 1.92kB/s]"
          }
        },
        "705655df9c8c4481a6672c914f6fd8e1": {
          "model_module": "@jupyter-widgets/base",
          "model_name": "LayoutModel",
          "model_module_version": "1.2.0",
          "state": {
            "_model_module": "@jupyter-widgets/base",
            "_model_module_version": "1.2.0",
            "_model_name": "LayoutModel",
            "_view_count": null,
            "_view_module": "@jupyter-widgets/base",
            "_view_module_version": "1.2.0",
            "_view_name": "LayoutView",
            "align_content": null,
            "align_items": null,
            "align_self": null,
            "border": null,
            "bottom": null,
            "display": null,
            "flex": null,
            "flex_flow": null,
            "grid_area": null,
            "grid_auto_columns": null,
            "grid_auto_flow": null,
            "grid_auto_rows": null,
            "grid_column": null,
            "grid_gap": null,
            "grid_row": null,
            "grid_template_areas": null,
            "grid_template_columns": null,
            "grid_template_rows": null,
            "height": null,
            "justify_content": null,
            "justify_items": null,
            "left": null,
            "margin": null,
            "max_height": null,
            "max_width": null,
            "min_height": null,
            "min_width": null,
            "object_fit": null,
            "object_position": null,
            "order": null,
            "overflow": null,
            "overflow_x": null,
            "overflow_y": null,
            "padding": null,
            "right": null,
            "top": null,
            "visibility": null,
            "width": null
          }
        },
        "54e622bf46314e32bb2f36306adadae2": {
          "model_module": "@jupyter-widgets/base",
          "model_name": "LayoutModel",
          "model_module_version": "1.2.0",
          "state": {
            "_model_module": "@jupyter-widgets/base",
            "_model_module_version": "1.2.0",
            "_model_name": "LayoutModel",
            "_view_count": null,
            "_view_module": "@jupyter-widgets/base",
            "_view_module_version": "1.2.0",
            "_view_name": "LayoutView",
            "align_content": null,
            "align_items": null,
            "align_self": null,
            "border": null,
            "bottom": null,
            "display": null,
            "flex": null,
            "flex_flow": null,
            "grid_area": null,
            "grid_auto_columns": null,
            "grid_auto_flow": null,
            "grid_auto_rows": null,
            "grid_column": null,
            "grid_gap": null,
            "grid_row": null,
            "grid_template_areas": null,
            "grid_template_columns": null,
            "grid_template_rows": null,
            "height": null,
            "justify_content": null,
            "justify_items": null,
            "left": null,
            "margin": null,
            "max_height": null,
            "max_width": null,
            "min_height": null,
            "min_width": null,
            "object_fit": null,
            "object_position": null,
            "order": null,
            "overflow": null,
            "overflow_x": null,
            "overflow_y": null,
            "padding": null,
            "right": null,
            "top": null,
            "visibility": null,
            "width": null
          }
        },
        "a72244db80574919bce382ff5520dc72": {
          "model_module": "@jupyter-widgets/controls",
          "model_name": "DescriptionStyleModel",
          "model_module_version": "1.5.0",
          "state": {
            "_model_module": "@jupyter-widgets/controls",
            "_model_module_version": "1.5.0",
            "_model_name": "DescriptionStyleModel",
            "_view_count": null,
            "_view_module": "@jupyter-widgets/base",
            "_view_module_version": "1.2.0",
            "_view_name": "StyleView",
            "description_width": ""
          }
        },
        "295661f7260c49e99c577ed9e6118e2c": {
          "model_module": "@jupyter-widgets/base",
          "model_name": "LayoutModel",
          "model_module_version": "1.2.0",
          "state": {
            "_model_module": "@jupyter-widgets/base",
            "_model_module_version": "1.2.0",
            "_model_name": "LayoutModel",
            "_view_count": null,
            "_view_module": "@jupyter-widgets/base",
            "_view_module_version": "1.2.0",
            "_view_name": "LayoutView",
            "align_content": null,
            "align_items": null,
            "align_self": null,
            "border": null,
            "bottom": null,
            "display": null,
            "flex": null,
            "flex_flow": null,
            "grid_area": null,
            "grid_auto_columns": null,
            "grid_auto_flow": null,
            "grid_auto_rows": null,
            "grid_column": null,
            "grid_gap": null,
            "grid_row": null,
            "grid_template_areas": null,
            "grid_template_columns": null,
            "grid_template_rows": null,
            "height": null,
            "justify_content": null,
            "justify_items": null,
            "left": null,
            "margin": null,
            "max_height": null,
            "max_width": null,
            "min_height": null,
            "min_width": null,
            "object_fit": null,
            "object_position": null,
            "order": null,
            "overflow": null,
            "overflow_x": null,
            "overflow_y": null,
            "padding": null,
            "right": null,
            "top": null,
            "visibility": null,
            "width": null
          }
        },
        "d2faa2e6db7942fa819c247a27d0d3ea": {
          "model_module": "@jupyter-widgets/controls",
          "model_name": "ProgressStyleModel",
          "model_module_version": "1.5.0",
          "state": {
            "_model_module": "@jupyter-widgets/controls",
            "_model_module_version": "1.5.0",
            "_model_name": "ProgressStyleModel",
            "_view_count": null,
            "_view_module": "@jupyter-widgets/base",
            "_view_module_version": "1.2.0",
            "_view_name": "StyleView",
            "bar_color": null,
            "description_width": ""
          }
        },
        "08e1f9a75d8c4f09bfca89c66ad26d4a": {
          "model_module": "@jupyter-widgets/base",
          "model_name": "LayoutModel",
          "model_module_version": "1.2.0",
          "state": {
            "_model_module": "@jupyter-widgets/base",
            "_model_module_version": "1.2.0",
            "_model_name": "LayoutModel",
            "_view_count": null,
            "_view_module": "@jupyter-widgets/base",
            "_view_module_version": "1.2.0",
            "_view_name": "LayoutView",
            "align_content": null,
            "align_items": null,
            "align_self": null,
            "border": null,
            "bottom": null,
            "display": null,
            "flex": null,
            "flex_flow": null,
            "grid_area": null,
            "grid_auto_columns": null,
            "grid_auto_flow": null,
            "grid_auto_rows": null,
            "grid_column": null,
            "grid_gap": null,
            "grid_row": null,
            "grid_template_areas": null,
            "grid_template_columns": null,
            "grid_template_rows": null,
            "height": null,
            "justify_content": null,
            "justify_items": null,
            "left": null,
            "margin": null,
            "max_height": null,
            "max_width": null,
            "min_height": null,
            "min_width": null,
            "object_fit": null,
            "object_position": null,
            "order": null,
            "overflow": null,
            "overflow_x": null,
            "overflow_y": null,
            "padding": null,
            "right": null,
            "top": null,
            "visibility": null,
            "width": null
          }
        },
        "53516b305638406f9531b8cfc8679ad8": {
          "model_module": "@jupyter-widgets/controls",
          "model_name": "DescriptionStyleModel",
          "model_module_version": "1.5.0",
          "state": {
            "_model_module": "@jupyter-widgets/controls",
            "_model_module_version": "1.5.0",
            "_model_name": "DescriptionStyleModel",
            "_view_count": null,
            "_view_module": "@jupyter-widgets/base",
            "_view_module_version": "1.2.0",
            "_view_name": "StyleView",
            "description_width": ""
          }
        },
        "c47ace7ba49e4adfbcc2439a84bdcaaa": {
          "model_module": "@jupyter-widgets/controls",
          "model_name": "HBoxModel",
          "model_module_version": "1.5.0",
          "state": {
            "_dom_classes": [],
            "_model_module": "@jupyter-widgets/controls",
            "_model_module_version": "1.5.0",
            "_model_name": "HBoxModel",
            "_view_count": null,
            "_view_module": "@jupyter-widgets/controls",
            "_view_module_version": "1.5.0",
            "_view_name": "HBoxView",
            "box_style": "",
            "children": [
              "IPY_MODEL_f155b2e219754f7786717a66f9ae167b",
              "IPY_MODEL_873fc362ef3a4b4c9e38a2e6cdbb5739",
              "IPY_MODEL_fd83c2b75b2241ff8a90848da7ea4618"
            ],
            "layout": "IPY_MODEL_760624ac7a464c568fc220e956e8ae6e"
          }
        },
        "f155b2e219754f7786717a66f9ae167b": {
          "model_module": "@jupyter-widgets/controls",
          "model_name": "HTMLModel",
          "model_module_version": "1.5.0",
          "state": {
            "_dom_classes": [],
            "_model_module": "@jupyter-widgets/controls",
            "_model_module_version": "1.5.0",
            "_model_name": "HTMLModel",
            "_view_count": null,
            "_view_module": "@jupyter-widgets/controls",
            "_view_module_version": "1.5.0",
            "_view_name": "HTMLView",
            "description": "",
            "description_tooltip": null,
            "layout": "IPY_MODEL_7e4af0efdf4944e19bd7434b5e5142cf",
            "placeholder": "​",
            "style": "IPY_MODEL_b8235a134b4a43daadf1f9fb781e16d3",
            "value": "vocab.json: 100%"
          }
        },
        "873fc362ef3a4b4c9e38a2e6cdbb5739": {
          "model_module": "@jupyter-widgets/controls",
          "model_name": "FloatProgressModel",
          "model_module_version": "1.5.0",
          "state": {
            "_dom_classes": [],
            "_model_module": "@jupyter-widgets/controls",
            "_model_module_version": "1.5.0",
            "_model_name": "FloatProgressModel",
            "_view_count": null,
            "_view_module": "@jupyter-widgets/controls",
            "_view_module_version": "1.5.0",
            "_view_name": "ProgressView",
            "bar_style": "success",
            "description": "",
            "description_tooltip": null,
            "layout": "IPY_MODEL_1845fce1636c482db7ace7ae965086d8",
            "max": 1042301,
            "min": 0,
            "orientation": "horizontal",
            "style": "IPY_MODEL_1ddb0619e08349b49ada9006027b4be8",
            "value": 1042301
          }
        },
        "fd83c2b75b2241ff8a90848da7ea4618": {
          "model_module": "@jupyter-widgets/controls",
          "model_name": "HTMLModel",
          "model_module_version": "1.5.0",
          "state": {
            "_dom_classes": [],
            "_model_module": "@jupyter-widgets/controls",
            "_model_module_version": "1.5.0",
            "_model_name": "HTMLModel",
            "_view_count": null,
            "_view_module": "@jupyter-widgets/controls",
            "_view_module_version": "1.5.0",
            "_view_name": "HTMLView",
            "description": "",
            "description_tooltip": null,
            "layout": "IPY_MODEL_6e04df9e0bcd4b98aa13d7923f606c9d",
            "placeholder": "​",
            "style": "IPY_MODEL_5ea3fcbcce294d8a877d0df368515932",
            "value": " 1.04M/1.04M [00:00&lt;00:00, 14.3MB/s]"
          }
        },
        "760624ac7a464c568fc220e956e8ae6e": {
          "model_module": "@jupyter-widgets/base",
          "model_name": "LayoutModel",
          "model_module_version": "1.2.0",
          "state": {
            "_model_module": "@jupyter-widgets/base",
            "_model_module_version": "1.2.0",
            "_model_name": "LayoutModel",
            "_view_count": null,
            "_view_module": "@jupyter-widgets/base",
            "_view_module_version": "1.2.0",
            "_view_name": "LayoutView",
            "align_content": null,
            "align_items": null,
            "align_self": null,
            "border": null,
            "bottom": null,
            "display": null,
            "flex": null,
            "flex_flow": null,
            "grid_area": null,
            "grid_auto_columns": null,
            "grid_auto_flow": null,
            "grid_auto_rows": null,
            "grid_column": null,
            "grid_gap": null,
            "grid_row": null,
            "grid_template_areas": null,
            "grid_template_columns": null,
            "grid_template_rows": null,
            "height": null,
            "justify_content": null,
            "justify_items": null,
            "left": null,
            "margin": null,
            "max_height": null,
            "max_width": null,
            "min_height": null,
            "min_width": null,
            "object_fit": null,
            "object_position": null,
            "order": null,
            "overflow": null,
            "overflow_x": null,
            "overflow_y": null,
            "padding": null,
            "right": null,
            "top": null,
            "visibility": null,
            "width": null
          }
        },
        "7e4af0efdf4944e19bd7434b5e5142cf": {
          "model_module": "@jupyter-widgets/base",
          "model_name": "LayoutModel",
          "model_module_version": "1.2.0",
          "state": {
            "_model_module": "@jupyter-widgets/base",
            "_model_module_version": "1.2.0",
            "_model_name": "LayoutModel",
            "_view_count": null,
            "_view_module": "@jupyter-widgets/base",
            "_view_module_version": "1.2.0",
            "_view_name": "LayoutView",
            "align_content": null,
            "align_items": null,
            "align_self": null,
            "border": null,
            "bottom": null,
            "display": null,
            "flex": null,
            "flex_flow": null,
            "grid_area": null,
            "grid_auto_columns": null,
            "grid_auto_flow": null,
            "grid_auto_rows": null,
            "grid_column": null,
            "grid_gap": null,
            "grid_row": null,
            "grid_template_areas": null,
            "grid_template_columns": null,
            "grid_template_rows": null,
            "height": null,
            "justify_content": null,
            "justify_items": null,
            "left": null,
            "margin": null,
            "max_height": null,
            "max_width": null,
            "min_height": null,
            "min_width": null,
            "object_fit": null,
            "object_position": null,
            "order": null,
            "overflow": null,
            "overflow_x": null,
            "overflow_y": null,
            "padding": null,
            "right": null,
            "top": null,
            "visibility": null,
            "width": null
          }
        },
        "b8235a134b4a43daadf1f9fb781e16d3": {
          "model_module": "@jupyter-widgets/controls",
          "model_name": "DescriptionStyleModel",
          "model_module_version": "1.5.0",
          "state": {
            "_model_module": "@jupyter-widgets/controls",
            "_model_module_version": "1.5.0",
            "_model_name": "DescriptionStyleModel",
            "_view_count": null,
            "_view_module": "@jupyter-widgets/base",
            "_view_module_version": "1.2.0",
            "_view_name": "StyleView",
            "description_width": ""
          }
        },
        "1845fce1636c482db7ace7ae965086d8": {
          "model_module": "@jupyter-widgets/base",
          "model_name": "LayoutModel",
          "model_module_version": "1.2.0",
          "state": {
            "_model_module": "@jupyter-widgets/base",
            "_model_module_version": "1.2.0",
            "_model_name": "LayoutModel",
            "_view_count": null,
            "_view_module": "@jupyter-widgets/base",
            "_view_module_version": "1.2.0",
            "_view_name": "LayoutView",
            "align_content": null,
            "align_items": null,
            "align_self": null,
            "border": null,
            "bottom": null,
            "display": null,
            "flex": null,
            "flex_flow": null,
            "grid_area": null,
            "grid_auto_columns": null,
            "grid_auto_flow": null,
            "grid_auto_rows": null,
            "grid_column": null,
            "grid_gap": null,
            "grid_row": null,
            "grid_template_areas": null,
            "grid_template_columns": null,
            "grid_template_rows": null,
            "height": null,
            "justify_content": null,
            "justify_items": null,
            "left": null,
            "margin": null,
            "max_height": null,
            "max_width": null,
            "min_height": null,
            "min_width": null,
            "object_fit": null,
            "object_position": null,
            "order": null,
            "overflow": null,
            "overflow_x": null,
            "overflow_y": null,
            "padding": null,
            "right": null,
            "top": null,
            "visibility": null,
            "width": null
          }
        },
        "1ddb0619e08349b49ada9006027b4be8": {
          "model_module": "@jupyter-widgets/controls",
          "model_name": "ProgressStyleModel",
          "model_module_version": "1.5.0",
          "state": {
            "_model_module": "@jupyter-widgets/controls",
            "_model_module_version": "1.5.0",
            "_model_name": "ProgressStyleModel",
            "_view_count": null,
            "_view_module": "@jupyter-widgets/base",
            "_view_module_version": "1.2.0",
            "_view_name": "StyleView",
            "bar_color": null,
            "description_width": ""
          }
        },
        "6e04df9e0bcd4b98aa13d7923f606c9d": {
          "model_module": "@jupyter-widgets/base",
          "model_name": "LayoutModel",
          "model_module_version": "1.2.0",
          "state": {
            "_model_module": "@jupyter-widgets/base",
            "_model_module_version": "1.2.0",
            "_model_name": "LayoutModel",
            "_view_count": null,
            "_view_module": "@jupyter-widgets/base",
            "_view_module_version": "1.2.0",
            "_view_name": "LayoutView",
            "align_content": null,
            "align_items": null,
            "align_self": null,
            "border": null,
            "bottom": null,
            "display": null,
            "flex": null,
            "flex_flow": null,
            "grid_area": null,
            "grid_auto_columns": null,
            "grid_auto_flow": null,
            "grid_auto_rows": null,
            "grid_column": null,
            "grid_gap": null,
            "grid_row": null,
            "grid_template_areas": null,
            "grid_template_columns": null,
            "grid_template_rows": null,
            "height": null,
            "justify_content": null,
            "justify_items": null,
            "left": null,
            "margin": null,
            "max_height": null,
            "max_width": null,
            "min_height": null,
            "min_width": null,
            "object_fit": null,
            "object_position": null,
            "order": null,
            "overflow": null,
            "overflow_x": null,
            "overflow_y": null,
            "padding": null,
            "right": null,
            "top": null,
            "visibility": null,
            "width": null
          }
        },
        "5ea3fcbcce294d8a877d0df368515932": {
          "model_module": "@jupyter-widgets/controls",
          "model_name": "DescriptionStyleModel",
          "model_module_version": "1.5.0",
          "state": {
            "_model_module": "@jupyter-widgets/controls",
            "_model_module_version": "1.5.0",
            "_model_name": "DescriptionStyleModel",
            "_view_count": null,
            "_view_module": "@jupyter-widgets/base",
            "_view_module_version": "1.2.0",
            "_view_name": "StyleView",
            "description_width": ""
          }
        },
        "0c903eb27b3f46438a3c90044dc4d9c7": {
          "model_module": "@jupyter-widgets/controls",
          "model_name": "HBoxModel",
          "model_module_version": "1.5.0",
          "state": {
            "_dom_classes": [],
            "_model_module": "@jupyter-widgets/controls",
            "_model_module_version": "1.5.0",
            "_model_name": "HBoxModel",
            "_view_count": null,
            "_view_module": "@jupyter-widgets/controls",
            "_view_module_version": "1.5.0",
            "_view_name": "HBoxView",
            "box_style": "",
            "children": [
              "IPY_MODEL_83931619122e42a3a10ad5313a4027b0",
              "IPY_MODEL_a74f4bee4985490aa84669114b7787c7",
              "IPY_MODEL_186114484967403186db0cd7f8aaf6a7"
            ],
            "layout": "IPY_MODEL_527cf424dced40439c266bc110a6d717"
          }
        },
        "83931619122e42a3a10ad5313a4027b0": {
          "model_module": "@jupyter-widgets/controls",
          "model_name": "HTMLModel",
          "model_module_version": "1.5.0",
          "state": {
            "_dom_classes": [],
            "_model_module": "@jupyter-widgets/controls",
            "_model_module_version": "1.5.0",
            "_model_name": "HTMLModel",
            "_view_count": null,
            "_view_module": "@jupyter-widgets/controls",
            "_view_module_version": "1.5.0",
            "_view_name": "HTMLView",
            "description": "",
            "description_tooltip": null,
            "layout": "IPY_MODEL_0f827e18b33842e2bb7a8748b0035cb7",
            "placeholder": "​",
            "style": "IPY_MODEL_f332b35556fb4e6685c4cad819bbd673",
            "value": "merges.txt: 100%"
          }
        },
        "a74f4bee4985490aa84669114b7787c7": {
          "model_module": "@jupyter-widgets/controls",
          "model_name": "FloatProgressModel",
          "model_module_version": "1.5.0",
          "state": {
            "_dom_classes": [],
            "_model_module": "@jupyter-widgets/controls",
            "_model_module_version": "1.5.0",
            "_model_name": "FloatProgressModel",
            "_view_count": null,
            "_view_module": "@jupyter-widgets/controls",
            "_view_module_version": "1.5.0",
            "_view_name": "ProgressView",
            "bar_style": "success",
            "description": "",
            "description_tooltip": null,
            "layout": "IPY_MODEL_e678757d346048bfb7414dbe40b653cc",
            "max": 456318,
            "min": 0,
            "orientation": "horizontal",
            "style": "IPY_MODEL_8b6f0eac17e3467c912606197ead15e6",
            "value": 456318
          }
        },
        "186114484967403186db0cd7f8aaf6a7": {
          "model_module": "@jupyter-widgets/controls",
          "model_name": "HTMLModel",
          "model_module_version": "1.5.0",
          "state": {
            "_dom_classes": [],
            "_model_module": "@jupyter-widgets/controls",
            "_model_module_version": "1.5.0",
            "_model_name": "HTMLModel",
            "_view_count": null,
            "_view_module": "@jupyter-widgets/controls",
            "_view_module_version": "1.5.0",
            "_view_name": "HTMLView",
            "description": "",
            "description_tooltip": null,
            "layout": "IPY_MODEL_d74682a10fdc4d1ebfb87f051de489a1",
            "placeholder": "​",
            "style": "IPY_MODEL_ca21ba03c61a48d3b77e1ddd60a3209b",
            "value": " 456k/456k [00:00&lt;00:00, 6.44MB/s]"
          }
        },
        "527cf424dced40439c266bc110a6d717": {
          "model_module": "@jupyter-widgets/base",
          "model_name": "LayoutModel",
          "model_module_version": "1.2.0",
          "state": {
            "_model_module": "@jupyter-widgets/base",
            "_model_module_version": "1.2.0",
            "_model_name": "LayoutModel",
            "_view_count": null,
            "_view_module": "@jupyter-widgets/base",
            "_view_module_version": "1.2.0",
            "_view_name": "LayoutView",
            "align_content": null,
            "align_items": null,
            "align_self": null,
            "border": null,
            "bottom": null,
            "display": null,
            "flex": null,
            "flex_flow": null,
            "grid_area": null,
            "grid_auto_columns": null,
            "grid_auto_flow": null,
            "grid_auto_rows": null,
            "grid_column": null,
            "grid_gap": null,
            "grid_row": null,
            "grid_template_areas": null,
            "grid_template_columns": null,
            "grid_template_rows": null,
            "height": null,
            "justify_content": null,
            "justify_items": null,
            "left": null,
            "margin": null,
            "max_height": null,
            "max_width": null,
            "min_height": null,
            "min_width": null,
            "object_fit": null,
            "object_position": null,
            "order": null,
            "overflow": null,
            "overflow_x": null,
            "overflow_y": null,
            "padding": null,
            "right": null,
            "top": null,
            "visibility": null,
            "width": null
          }
        },
        "0f827e18b33842e2bb7a8748b0035cb7": {
          "model_module": "@jupyter-widgets/base",
          "model_name": "LayoutModel",
          "model_module_version": "1.2.0",
          "state": {
            "_model_module": "@jupyter-widgets/base",
            "_model_module_version": "1.2.0",
            "_model_name": "LayoutModel",
            "_view_count": null,
            "_view_module": "@jupyter-widgets/base",
            "_view_module_version": "1.2.0",
            "_view_name": "LayoutView",
            "align_content": null,
            "align_items": null,
            "align_self": null,
            "border": null,
            "bottom": null,
            "display": null,
            "flex": null,
            "flex_flow": null,
            "grid_area": null,
            "grid_auto_columns": null,
            "grid_auto_flow": null,
            "grid_auto_rows": null,
            "grid_column": null,
            "grid_gap": null,
            "grid_row": null,
            "grid_template_areas": null,
            "grid_template_columns": null,
            "grid_template_rows": null,
            "height": null,
            "justify_content": null,
            "justify_items": null,
            "left": null,
            "margin": null,
            "max_height": null,
            "max_width": null,
            "min_height": null,
            "min_width": null,
            "object_fit": null,
            "object_position": null,
            "order": null,
            "overflow": null,
            "overflow_x": null,
            "overflow_y": null,
            "padding": null,
            "right": null,
            "top": null,
            "visibility": null,
            "width": null
          }
        },
        "f332b35556fb4e6685c4cad819bbd673": {
          "model_module": "@jupyter-widgets/controls",
          "model_name": "DescriptionStyleModel",
          "model_module_version": "1.5.0",
          "state": {
            "_model_module": "@jupyter-widgets/controls",
            "_model_module_version": "1.5.0",
            "_model_name": "DescriptionStyleModel",
            "_view_count": null,
            "_view_module": "@jupyter-widgets/base",
            "_view_module_version": "1.2.0",
            "_view_name": "StyleView",
            "description_width": ""
          }
        },
        "e678757d346048bfb7414dbe40b653cc": {
          "model_module": "@jupyter-widgets/base",
          "model_name": "LayoutModel",
          "model_module_version": "1.2.0",
          "state": {
            "_model_module": "@jupyter-widgets/base",
            "_model_module_version": "1.2.0",
            "_model_name": "LayoutModel",
            "_view_count": null,
            "_view_module": "@jupyter-widgets/base",
            "_view_module_version": "1.2.0",
            "_view_name": "LayoutView",
            "align_content": null,
            "align_items": null,
            "align_self": null,
            "border": null,
            "bottom": null,
            "display": null,
            "flex": null,
            "flex_flow": null,
            "grid_area": null,
            "grid_auto_columns": null,
            "grid_auto_flow": null,
            "grid_auto_rows": null,
            "grid_column": null,
            "grid_gap": null,
            "grid_row": null,
            "grid_template_areas": null,
            "grid_template_columns": null,
            "grid_template_rows": null,
            "height": null,
            "justify_content": null,
            "justify_items": null,
            "left": null,
            "margin": null,
            "max_height": null,
            "max_width": null,
            "min_height": null,
            "min_width": null,
            "object_fit": null,
            "object_position": null,
            "order": null,
            "overflow": null,
            "overflow_x": null,
            "overflow_y": null,
            "padding": null,
            "right": null,
            "top": null,
            "visibility": null,
            "width": null
          }
        },
        "8b6f0eac17e3467c912606197ead15e6": {
          "model_module": "@jupyter-widgets/controls",
          "model_name": "ProgressStyleModel",
          "model_module_version": "1.5.0",
          "state": {
            "_model_module": "@jupyter-widgets/controls",
            "_model_module_version": "1.5.0",
            "_model_name": "ProgressStyleModel",
            "_view_count": null,
            "_view_module": "@jupyter-widgets/base",
            "_view_module_version": "1.2.0",
            "_view_name": "StyleView",
            "bar_color": null,
            "description_width": ""
          }
        },
        "d74682a10fdc4d1ebfb87f051de489a1": {
          "model_module": "@jupyter-widgets/base",
          "model_name": "LayoutModel",
          "model_module_version": "1.2.0",
          "state": {
            "_model_module": "@jupyter-widgets/base",
            "_model_module_version": "1.2.0",
            "_model_name": "LayoutModel",
            "_view_count": null,
            "_view_module": "@jupyter-widgets/base",
            "_view_module_version": "1.2.0",
            "_view_name": "LayoutView",
            "align_content": null,
            "align_items": null,
            "align_self": null,
            "border": null,
            "bottom": null,
            "display": null,
            "flex": null,
            "flex_flow": null,
            "grid_area": null,
            "grid_auto_columns": null,
            "grid_auto_flow": null,
            "grid_auto_rows": null,
            "grid_column": null,
            "grid_gap": null,
            "grid_row": null,
            "grid_template_areas": null,
            "grid_template_columns": null,
            "grid_template_rows": null,
            "height": null,
            "justify_content": null,
            "justify_items": null,
            "left": null,
            "margin": null,
            "max_height": null,
            "max_width": null,
            "min_height": null,
            "min_width": null,
            "object_fit": null,
            "object_position": null,
            "order": null,
            "overflow": null,
            "overflow_x": null,
            "overflow_y": null,
            "padding": null,
            "right": null,
            "top": null,
            "visibility": null,
            "width": null
          }
        },
        "ca21ba03c61a48d3b77e1ddd60a3209b": {
          "model_module": "@jupyter-widgets/controls",
          "model_name": "DescriptionStyleModel",
          "model_module_version": "1.5.0",
          "state": {
            "_model_module": "@jupyter-widgets/controls",
            "_model_module_version": "1.5.0",
            "_model_name": "DescriptionStyleModel",
            "_view_count": null,
            "_view_module": "@jupyter-widgets/base",
            "_view_module_version": "1.2.0",
            "_view_name": "StyleView",
            "description_width": ""
          }
        },
        "1373a0ffc11943a89630352ac01638c2": {
          "model_module": "@jupyter-widgets/controls",
          "model_name": "HBoxModel",
          "model_module_version": "1.5.0",
          "state": {
            "_dom_classes": [],
            "_model_module": "@jupyter-widgets/controls",
            "_model_module_version": "1.5.0",
            "_model_name": "HBoxModel",
            "_view_count": null,
            "_view_module": "@jupyter-widgets/controls",
            "_view_module_version": "1.5.0",
            "_view_name": "HBoxView",
            "box_style": "",
            "children": [
              "IPY_MODEL_1b5b3fcd42c148af8c74691f1355a734",
              "IPY_MODEL_57ce7a101812415699a00ec14e3743de",
              "IPY_MODEL_5bdfd65e06bf48bd87475bc92e491987"
            ],
            "layout": "IPY_MODEL_394ca657abeb4d67b306b91344ed2e50"
          }
        },
        "1b5b3fcd42c148af8c74691f1355a734": {
          "model_module": "@jupyter-widgets/controls",
          "model_name": "HTMLModel",
          "model_module_version": "1.5.0",
          "state": {
            "_dom_classes": [],
            "_model_module": "@jupyter-widgets/controls",
            "_model_module_version": "1.5.0",
            "_model_name": "HTMLModel",
            "_view_count": null,
            "_view_module": "@jupyter-widgets/controls",
            "_view_module_version": "1.5.0",
            "_view_name": "HTMLView",
            "description": "",
            "description_tooltip": null,
            "layout": "IPY_MODEL_2b059dd9855a4bd0b2067a9a8947fc04",
            "placeholder": "​",
            "style": "IPY_MODEL_874820cd8bf24e94a47d248df833ea63",
            "value": "tokenizer.json: 100%"
          }
        },
        "57ce7a101812415699a00ec14e3743de": {
          "model_module": "@jupyter-widgets/controls",
          "model_name": "FloatProgressModel",
          "model_module_version": "1.5.0",
          "state": {
            "_dom_classes": [],
            "_model_module": "@jupyter-widgets/controls",
            "_model_module_version": "1.5.0",
            "_model_name": "FloatProgressModel",
            "_view_count": null,
            "_view_module": "@jupyter-widgets/controls",
            "_view_module_version": "1.5.0",
            "_view_name": "ProgressView",
            "bar_style": "success",
            "description": "",
            "description_tooltip": null,
            "layout": "IPY_MODEL_dafc585084a6493393e9dc6d7081cb56",
            "max": 1355256,
            "min": 0,
            "orientation": "horizontal",
            "style": "IPY_MODEL_1de91255f14445729bd13d20f8f5cd40",
            "value": 1355256
          }
        },
        "5bdfd65e06bf48bd87475bc92e491987": {
          "model_module": "@jupyter-widgets/controls",
          "model_name": "HTMLModel",
          "model_module_version": "1.5.0",
          "state": {
            "_dom_classes": [],
            "_model_module": "@jupyter-widgets/controls",
            "_model_module_version": "1.5.0",
            "_model_name": "HTMLModel",
            "_view_count": null,
            "_view_module": "@jupyter-widgets/controls",
            "_view_module_version": "1.5.0",
            "_view_name": "HTMLView",
            "description": "",
            "description_tooltip": null,
            "layout": "IPY_MODEL_36c40dde5c244503928567601ba01e7c",
            "placeholder": "​",
            "style": "IPY_MODEL_86af364780d94ae29d1b6abb471c6eca",
            "value": " 1.36M/1.36M [00:00&lt;00:00, 43.2MB/s]"
          }
        },
        "394ca657abeb4d67b306b91344ed2e50": {
          "model_module": "@jupyter-widgets/base",
          "model_name": "LayoutModel",
          "model_module_version": "1.2.0",
          "state": {
            "_model_module": "@jupyter-widgets/base",
            "_model_module_version": "1.2.0",
            "_model_name": "LayoutModel",
            "_view_count": null,
            "_view_module": "@jupyter-widgets/base",
            "_view_module_version": "1.2.0",
            "_view_name": "LayoutView",
            "align_content": null,
            "align_items": null,
            "align_self": null,
            "border": null,
            "bottom": null,
            "display": null,
            "flex": null,
            "flex_flow": null,
            "grid_area": null,
            "grid_auto_columns": null,
            "grid_auto_flow": null,
            "grid_auto_rows": null,
            "grid_column": null,
            "grid_gap": null,
            "grid_row": null,
            "grid_template_areas": null,
            "grid_template_columns": null,
            "grid_template_rows": null,
            "height": null,
            "justify_content": null,
            "justify_items": null,
            "left": null,
            "margin": null,
            "max_height": null,
            "max_width": null,
            "min_height": null,
            "min_width": null,
            "object_fit": null,
            "object_position": null,
            "order": null,
            "overflow": null,
            "overflow_x": null,
            "overflow_y": null,
            "padding": null,
            "right": null,
            "top": null,
            "visibility": null,
            "width": null
          }
        },
        "2b059dd9855a4bd0b2067a9a8947fc04": {
          "model_module": "@jupyter-widgets/base",
          "model_name": "LayoutModel",
          "model_module_version": "1.2.0",
          "state": {
            "_model_module": "@jupyter-widgets/base",
            "_model_module_version": "1.2.0",
            "_model_name": "LayoutModel",
            "_view_count": null,
            "_view_module": "@jupyter-widgets/base",
            "_view_module_version": "1.2.0",
            "_view_name": "LayoutView",
            "align_content": null,
            "align_items": null,
            "align_self": null,
            "border": null,
            "bottom": null,
            "display": null,
            "flex": null,
            "flex_flow": null,
            "grid_area": null,
            "grid_auto_columns": null,
            "grid_auto_flow": null,
            "grid_auto_rows": null,
            "grid_column": null,
            "grid_gap": null,
            "grid_row": null,
            "grid_template_areas": null,
            "grid_template_columns": null,
            "grid_template_rows": null,
            "height": null,
            "justify_content": null,
            "justify_items": null,
            "left": null,
            "margin": null,
            "max_height": null,
            "max_width": null,
            "min_height": null,
            "min_width": null,
            "object_fit": null,
            "object_position": null,
            "order": null,
            "overflow": null,
            "overflow_x": null,
            "overflow_y": null,
            "padding": null,
            "right": null,
            "top": null,
            "visibility": null,
            "width": null
          }
        },
        "874820cd8bf24e94a47d248df833ea63": {
          "model_module": "@jupyter-widgets/controls",
          "model_name": "DescriptionStyleModel",
          "model_module_version": "1.5.0",
          "state": {
            "_model_module": "@jupyter-widgets/controls",
            "_model_module_version": "1.5.0",
            "_model_name": "DescriptionStyleModel",
            "_view_count": null,
            "_view_module": "@jupyter-widgets/base",
            "_view_module_version": "1.2.0",
            "_view_name": "StyleView",
            "description_width": ""
          }
        },
        "dafc585084a6493393e9dc6d7081cb56": {
          "model_module": "@jupyter-widgets/base",
          "model_name": "LayoutModel",
          "model_module_version": "1.2.0",
          "state": {
            "_model_module": "@jupyter-widgets/base",
            "_model_module_version": "1.2.0",
            "_model_name": "LayoutModel",
            "_view_count": null,
            "_view_module": "@jupyter-widgets/base",
            "_view_module_version": "1.2.0",
            "_view_name": "LayoutView",
            "align_content": null,
            "align_items": null,
            "align_self": null,
            "border": null,
            "bottom": null,
            "display": null,
            "flex": null,
            "flex_flow": null,
            "grid_area": null,
            "grid_auto_columns": null,
            "grid_auto_flow": null,
            "grid_auto_rows": null,
            "grid_column": null,
            "grid_gap": null,
            "grid_row": null,
            "grid_template_areas": null,
            "grid_template_columns": null,
            "grid_template_rows": null,
            "height": null,
            "justify_content": null,
            "justify_items": null,
            "left": null,
            "margin": null,
            "max_height": null,
            "max_width": null,
            "min_height": null,
            "min_width": null,
            "object_fit": null,
            "object_position": null,
            "order": null,
            "overflow": null,
            "overflow_x": null,
            "overflow_y": null,
            "padding": null,
            "right": null,
            "top": null,
            "visibility": null,
            "width": null
          }
        },
        "1de91255f14445729bd13d20f8f5cd40": {
          "model_module": "@jupyter-widgets/controls",
          "model_name": "ProgressStyleModel",
          "model_module_version": "1.5.0",
          "state": {
            "_model_module": "@jupyter-widgets/controls",
            "_model_module_version": "1.5.0",
            "_model_name": "ProgressStyleModel",
            "_view_count": null,
            "_view_module": "@jupyter-widgets/base",
            "_view_module_version": "1.2.0",
            "_view_name": "StyleView",
            "bar_color": null,
            "description_width": ""
          }
        },
        "36c40dde5c244503928567601ba01e7c": {
          "model_module": "@jupyter-widgets/base",
          "model_name": "LayoutModel",
          "model_module_version": "1.2.0",
          "state": {
            "_model_module": "@jupyter-widgets/base",
            "_model_module_version": "1.2.0",
            "_model_name": "LayoutModel",
            "_view_count": null,
            "_view_module": "@jupyter-widgets/base",
            "_view_module_version": "1.2.0",
            "_view_name": "LayoutView",
            "align_content": null,
            "align_items": null,
            "align_self": null,
            "border": null,
            "bottom": null,
            "display": null,
            "flex": null,
            "flex_flow": null,
            "grid_area": null,
            "grid_auto_columns": null,
            "grid_auto_flow": null,
            "grid_auto_rows": null,
            "grid_column": null,
            "grid_gap": null,
            "grid_row": null,
            "grid_template_areas": null,
            "grid_template_columns": null,
            "grid_template_rows": null,
            "height": null,
            "justify_content": null,
            "justify_items": null,
            "left": null,
            "margin": null,
            "max_height": null,
            "max_width": null,
            "min_height": null,
            "min_width": null,
            "object_fit": null,
            "object_position": null,
            "order": null,
            "overflow": null,
            "overflow_x": null,
            "overflow_y": null,
            "padding": null,
            "right": null,
            "top": null,
            "visibility": null,
            "width": null
          }
        },
        "86af364780d94ae29d1b6abb471c6eca": {
          "model_module": "@jupyter-widgets/controls",
          "model_name": "DescriptionStyleModel",
          "model_module_version": "1.5.0",
          "state": {
            "_model_module": "@jupyter-widgets/controls",
            "_model_module_version": "1.5.0",
            "_model_name": "DescriptionStyleModel",
            "_view_count": null,
            "_view_module": "@jupyter-widgets/base",
            "_view_module_version": "1.2.0",
            "_view_name": "StyleView",
            "description_width": ""
          }
        },
        "c0f61682a5e04480989b5965422bdb70": {
          "model_module": "@jupyter-widgets/controls",
          "model_name": "HBoxModel",
          "model_module_version": "1.5.0",
          "state": {
            "_dom_classes": [],
            "_model_module": "@jupyter-widgets/controls",
            "_model_module_version": "1.5.0",
            "_model_name": "HBoxModel",
            "_view_count": null,
            "_view_module": "@jupyter-widgets/controls",
            "_view_module_version": "1.5.0",
            "_view_name": "HBoxView",
            "box_style": "",
            "children": [
              "IPY_MODEL_a3a52442b7e141aebeb6a8c19860beae",
              "IPY_MODEL_4cbef642dd5d4bdf8a7e49976da84af8",
              "IPY_MODEL_ef7c018ffd9a4befad98c3b0a5da51cb"
            ],
            "layout": "IPY_MODEL_fbf89f3dde2e4dd092dfef7aa7f4b641"
          }
        },
        "a3a52442b7e141aebeb6a8c19860beae": {
          "model_module": "@jupyter-widgets/controls",
          "model_name": "HTMLModel",
          "model_module_version": "1.5.0",
          "state": {
            "_dom_classes": [],
            "_model_module": "@jupyter-widgets/controls",
            "_model_module_version": "1.5.0",
            "_model_name": "HTMLModel",
            "_view_count": null,
            "_view_module": "@jupyter-widgets/controls",
            "_view_module_version": "1.5.0",
            "_view_name": "HTMLView",
            "description": "",
            "description_tooltip": null,
            "layout": "IPY_MODEL_218bfab05c41415199bef6082e860319",
            "placeholder": "​",
            "style": "IPY_MODEL_82388f6ebc7f46b1882b67351b35f618",
            "value": "config.json: 100%"
          }
        },
        "4cbef642dd5d4bdf8a7e49976da84af8": {
          "model_module": "@jupyter-widgets/controls",
          "model_name": "FloatProgressModel",
          "model_module_version": "1.5.0",
          "state": {
            "_dom_classes": [],
            "_model_module": "@jupyter-widgets/controls",
            "_model_module_version": "1.5.0",
            "_model_name": "FloatProgressModel",
            "_view_count": null,
            "_view_module": "@jupyter-widgets/controls",
            "_view_module_version": "1.5.0",
            "_view_name": "ProgressView",
            "bar_style": "success",
            "description": "",
            "description_tooltip": null,
            "layout": "IPY_MODEL_a97f0045c4204473872cb27886966eec",
            "max": 762,
            "min": 0,
            "orientation": "horizontal",
            "style": "IPY_MODEL_991d890a5c674e738c5f78f4de9f78aa",
            "value": 762
          }
        },
        "ef7c018ffd9a4befad98c3b0a5da51cb": {
          "model_module": "@jupyter-widgets/controls",
          "model_name": "HTMLModel",
          "model_module_version": "1.5.0",
          "state": {
            "_dom_classes": [],
            "_model_module": "@jupyter-widgets/controls",
            "_model_module_version": "1.5.0",
            "_model_name": "HTMLModel",
            "_view_count": null,
            "_view_module": "@jupyter-widgets/controls",
            "_view_module_version": "1.5.0",
            "_view_name": "HTMLView",
            "description": "",
            "description_tooltip": null,
            "layout": "IPY_MODEL_51c447b57aa54aa7ae771818aa819cc7",
            "placeholder": "​",
            "style": "IPY_MODEL_71588123af2e4429b152f63151ee315b",
            "value": " 762/762 [00:00&lt;00:00, 64.5kB/s]"
          }
        },
        "fbf89f3dde2e4dd092dfef7aa7f4b641": {
          "model_module": "@jupyter-widgets/base",
          "model_name": "LayoutModel",
          "model_module_version": "1.2.0",
          "state": {
            "_model_module": "@jupyter-widgets/base",
            "_model_module_version": "1.2.0",
            "_model_name": "LayoutModel",
            "_view_count": null,
            "_view_module": "@jupyter-widgets/base",
            "_view_module_version": "1.2.0",
            "_view_name": "LayoutView",
            "align_content": null,
            "align_items": null,
            "align_self": null,
            "border": null,
            "bottom": null,
            "display": null,
            "flex": null,
            "flex_flow": null,
            "grid_area": null,
            "grid_auto_columns": null,
            "grid_auto_flow": null,
            "grid_auto_rows": null,
            "grid_column": null,
            "grid_gap": null,
            "grid_row": null,
            "grid_template_areas": null,
            "grid_template_columns": null,
            "grid_template_rows": null,
            "height": null,
            "justify_content": null,
            "justify_items": null,
            "left": null,
            "margin": null,
            "max_height": null,
            "max_width": null,
            "min_height": null,
            "min_width": null,
            "object_fit": null,
            "object_position": null,
            "order": null,
            "overflow": null,
            "overflow_x": null,
            "overflow_y": null,
            "padding": null,
            "right": null,
            "top": null,
            "visibility": null,
            "width": null
          }
        },
        "218bfab05c41415199bef6082e860319": {
          "model_module": "@jupyter-widgets/base",
          "model_name": "LayoutModel",
          "model_module_version": "1.2.0",
          "state": {
            "_model_module": "@jupyter-widgets/base",
            "_model_module_version": "1.2.0",
            "_model_name": "LayoutModel",
            "_view_count": null,
            "_view_module": "@jupyter-widgets/base",
            "_view_module_version": "1.2.0",
            "_view_name": "LayoutView",
            "align_content": null,
            "align_items": null,
            "align_self": null,
            "border": null,
            "bottom": null,
            "display": null,
            "flex": null,
            "flex_flow": null,
            "grid_area": null,
            "grid_auto_columns": null,
            "grid_auto_flow": null,
            "grid_auto_rows": null,
            "grid_column": null,
            "grid_gap": null,
            "grid_row": null,
            "grid_template_areas": null,
            "grid_template_columns": null,
            "grid_template_rows": null,
            "height": null,
            "justify_content": null,
            "justify_items": null,
            "left": null,
            "margin": null,
            "max_height": null,
            "max_width": null,
            "min_height": null,
            "min_width": null,
            "object_fit": null,
            "object_position": null,
            "order": null,
            "overflow": null,
            "overflow_x": null,
            "overflow_y": null,
            "padding": null,
            "right": null,
            "top": null,
            "visibility": null,
            "width": null
          }
        },
        "82388f6ebc7f46b1882b67351b35f618": {
          "model_module": "@jupyter-widgets/controls",
          "model_name": "DescriptionStyleModel",
          "model_module_version": "1.5.0",
          "state": {
            "_model_module": "@jupyter-widgets/controls",
            "_model_module_version": "1.5.0",
            "_model_name": "DescriptionStyleModel",
            "_view_count": null,
            "_view_module": "@jupyter-widgets/base",
            "_view_module_version": "1.2.0",
            "_view_name": "StyleView",
            "description_width": ""
          }
        },
        "a97f0045c4204473872cb27886966eec": {
          "model_module": "@jupyter-widgets/base",
          "model_name": "LayoutModel",
          "model_module_version": "1.2.0",
          "state": {
            "_model_module": "@jupyter-widgets/base",
            "_model_module_version": "1.2.0",
            "_model_name": "LayoutModel",
            "_view_count": null,
            "_view_module": "@jupyter-widgets/base",
            "_view_module_version": "1.2.0",
            "_view_name": "LayoutView",
            "align_content": null,
            "align_items": null,
            "align_self": null,
            "border": null,
            "bottom": null,
            "display": null,
            "flex": null,
            "flex_flow": null,
            "grid_area": null,
            "grid_auto_columns": null,
            "grid_auto_flow": null,
            "grid_auto_rows": null,
            "grid_column": null,
            "grid_gap": null,
            "grid_row": null,
            "grid_template_areas": null,
            "grid_template_columns": null,
            "grid_template_rows": null,
            "height": null,
            "justify_content": null,
            "justify_items": null,
            "left": null,
            "margin": null,
            "max_height": null,
            "max_width": null,
            "min_height": null,
            "min_width": null,
            "object_fit": null,
            "object_position": null,
            "order": null,
            "overflow": null,
            "overflow_x": null,
            "overflow_y": null,
            "padding": null,
            "right": null,
            "top": null,
            "visibility": null,
            "width": null
          }
        },
        "991d890a5c674e738c5f78f4de9f78aa": {
          "model_module": "@jupyter-widgets/controls",
          "model_name": "ProgressStyleModel",
          "model_module_version": "1.5.0",
          "state": {
            "_model_module": "@jupyter-widgets/controls",
            "_model_module_version": "1.5.0",
            "_model_name": "ProgressStyleModel",
            "_view_count": null,
            "_view_module": "@jupyter-widgets/base",
            "_view_module_version": "1.2.0",
            "_view_name": "StyleView",
            "bar_color": null,
            "description_width": ""
          }
        },
        "51c447b57aa54aa7ae771818aa819cc7": {
          "model_module": "@jupyter-widgets/base",
          "model_name": "LayoutModel",
          "model_module_version": "1.2.0",
          "state": {
            "_model_module": "@jupyter-widgets/base",
            "_model_module_version": "1.2.0",
            "_model_name": "LayoutModel",
            "_view_count": null,
            "_view_module": "@jupyter-widgets/base",
            "_view_module_version": "1.2.0",
            "_view_name": "LayoutView",
            "align_content": null,
            "align_items": null,
            "align_self": null,
            "border": null,
            "bottom": null,
            "display": null,
            "flex": null,
            "flex_flow": null,
            "grid_area": null,
            "grid_auto_columns": null,
            "grid_auto_flow": null,
            "grid_auto_rows": null,
            "grid_column": null,
            "grid_gap": null,
            "grid_row": null,
            "grid_template_areas": null,
            "grid_template_columns": null,
            "grid_template_rows": null,
            "height": null,
            "justify_content": null,
            "justify_items": null,
            "left": null,
            "margin": null,
            "max_height": null,
            "max_width": null,
            "min_height": null,
            "min_width": null,
            "object_fit": null,
            "object_position": null,
            "order": null,
            "overflow": null,
            "overflow_x": null,
            "overflow_y": null,
            "padding": null,
            "right": null,
            "top": null,
            "visibility": null,
            "width": null
          }
        },
        "71588123af2e4429b152f63151ee315b": {
          "model_module": "@jupyter-widgets/controls",
          "model_name": "DescriptionStyleModel",
          "model_module_version": "1.5.0",
          "state": {
            "_model_module": "@jupyter-widgets/controls",
            "_model_module_version": "1.5.0",
            "_model_name": "DescriptionStyleModel",
            "_view_count": null,
            "_view_module": "@jupyter-widgets/base",
            "_view_module_version": "1.2.0",
            "_view_name": "StyleView",
            "description_width": ""
          }
        },
        "8362d8dd27da4727bccba1703d91e0c9": {
          "model_module": "@jupyter-widgets/controls",
          "model_name": "HBoxModel",
          "model_module_version": "1.5.0",
          "state": {
            "_dom_classes": [],
            "_model_module": "@jupyter-widgets/controls",
            "_model_module_version": "1.5.0",
            "_model_name": "HBoxModel",
            "_view_count": null,
            "_view_module": "@jupyter-widgets/controls",
            "_view_module_version": "1.5.0",
            "_view_name": "HBoxView",
            "box_style": "",
            "children": [
              "IPY_MODEL_66b6d9b0024c4962b679057058f143eb",
              "IPY_MODEL_706a21902aa644dea4e80d19bd1077c6",
              "IPY_MODEL_ef9cdb2d497e4ed695430dc85d0b19eb"
            ],
            "layout": "IPY_MODEL_26f721e312ac4624be6aade622e4d4e2"
          }
        },
        "66b6d9b0024c4962b679057058f143eb": {
          "model_module": "@jupyter-widgets/controls",
          "model_name": "HTMLModel",
          "model_module_version": "1.5.0",
          "state": {
            "_dom_classes": [],
            "_model_module": "@jupyter-widgets/controls",
            "_model_module_version": "1.5.0",
            "_model_name": "HTMLModel",
            "_view_count": null,
            "_view_module": "@jupyter-widgets/controls",
            "_view_module_version": "1.5.0",
            "_view_name": "HTMLView",
            "description": "",
            "description_tooltip": null,
            "layout": "IPY_MODEL_c68058a2b6f94a0197ed46bc91fc3120",
            "placeholder": "​",
            "style": "IPY_MODEL_24278fd102634fbe8c3e4c5c9858b9fd",
            "value": "model.safetensors: 100%"
          }
        },
        "706a21902aa644dea4e80d19bd1077c6": {
          "model_module": "@jupyter-widgets/controls",
          "model_name": "FloatProgressModel",
          "model_module_version": "1.5.0",
          "state": {
            "_dom_classes": [],
            "_model_module": "@jupyter-widgets/controls",
            "_model_module_version": "1.5.0",
            "_model_name": "FloatProgressModel",
            "_view_count": null,
            "_view_module": "@jupyter-widgets/controls",
            "_view_module_version": "1.5.0",
            "_view_name": "ProgressView",
            "bar_style": "success",
            "description": "",
            "description_tooltip": null,
            "layout": "IPY_MODEL_5b972d217d054b9fa15642d945eb1554",
            "max": 352824413,
            "min": 0,
            "orientation": "horizontal",
            "style": "IPY_MODEL_5058c4f803db42659bcde52243aa5344",
            "value": 352824413
          }
        },
        "ef9cdb2d497e4ed695430dc85d0b19eb": {
          "model_module": "@jupyter-widgets/controls",
          "model_name": "HTMLModel",
          "model_module_version": "1.5.0",
          "state": {
            "_dom_classes": [],
            "_model_module": "@jupyter-widgets/controls",
            "_model_module_version": "1.5.0",
            "_model_name": "HTMLModel",
            "_view_count": null,
            "_view_module": "@jupyter-widgets/controls",
            "_view_module_version": "1.5.0",
            "_view_name": "HTMLView",
            "description": "",
            "description_tooltip": null,
            "layout": "IPY_MODEL_ac1250339dad45d89aa013de94e4b1ea",
            "placeholder": "​",
            "style": "IPY_MODEL_b0f94a92ddd747419ce2b4ee701a810e",
            "value": " 353M/353M [00:02&lt;00:00, 200MB/s]"
          }
        },
        "26f721e312ac4624be6aade622e4d4e2": {
          "model_module": "@jupyter-widgets/base",
          "model_name": "LayoutModel",
          "model_module_version": "1.2.0",
          "state": {
            "_model_module": "@jupyter-widgets/base",
            "_model_module_version": "1.2.0",
            "_model_name": "LayoutModel",
            "_view_count": null,
            "_view_module": "@jupyter-widgets/base",
            "_view_module_version": "1.2.0",
            "_view_name": "LayoutView",
            "align_content": null,
            "align_items": null,
            "align_self": null,
            "border": null,
            "bottom": null,
            "display": null,
            "flex": null,
            "flex_flow": null,
            "grid_area": null,
            "grid_auto_columns": null,
            "grid_auto_flow": null,
            "grid_auto_rows": null,
            "grid_column": null,
            "grid_gap": null,
            "grid_row": null,
            "grid_template_areas": null,
            "grid_template_columns": null,
            "grid_template_rows": null,
            "height": null,
            "justify_content": null,
            "justify_items": null,
            "left": null,
            "margin": null,
            "max_height": null,
            "max_width": null,
            "min_height": null,
            "min_width": null,
            "object_fit": null,
            "object_position": null,
            "order": null,
            "overflow": null,
            "overflow_x": null,
            "overflow_y": null,
            "padding": null,
            "right": null,
            "top": null,
            "visibility": null,
            "width": null
          }
        },
        "c68058a2b6f94a0197ed46bc91fc3120": {
          "model_module": "@jupyter-widgets/base",
          "model_name": "LayoutModel",
          "model_module_version": "1.2.0",
          "state": {
            "_model_module": "@jupyter-widgets/base",
            "_model_module_version": "1.2.0",
            "_model_name": "LayoutModel",
            "_view_count": null,
            "_view_module": "@jupyter-widgets/base",
            "_view_module_version": "1.2.0",
            "_view_name": "LayoutView",
            "align_content": null,
            "align_items": null,
            "align_self": null,
            "border": null,
            "bottom": null,
            "display": null,
            "flex": null,
            "flex_flow": null,
            "grid_area": null,
            "grid_auto_columns": null,
            "grid_auto_flow": null,
            "grid_auto_rows": null,
            "grid_column": null,
            "grid_gap": null,
            "grid_row": null,
            "grid_template_areas": null,
            "grid_template_columns": null,
            "grid_template_rows": null,
            "height": null,
            "justify_content": null,
            "justify_items": null,
            "left": null,
            "margin": null,
            "max_height": null,
            "max_width": null,
            "min_height": null,
            "min_width": null,
            "object_fit": null,
            "object_position": null,
            "order": null,
            "overflow": null,
            "overflow_x": null,
            "overflow_y": null,
            "padding": null,
            "right": null,
            "top": null,
            "visibility": null,
            "width": null
          }
        },
        "24278fd102634fbe8c3e4c5c9858b9fd": {
          "model_module": "@jupyter-widgets/controls",
          "model_name": "DescriptionStyleModel",
          "model_module_version": "1.5.0",
          "state": {
            "_model_module": "@jupyter-widgets/controls",
            "_model_module_version": "1.5.0",
            "_model_name": "DescriptionStyleModel",
            "_view_count": null,
            "_view_module": "@jupyter-widgets/base",
            "_view_module_version": "1.2.0",
            "_view_name": "StyleView",
            "description_width": ""
          }
        },
        "5b972d217d054b9fa15642d945eb1554": {
          "model_module": "@jupyter-widgets/base",
          "model_name": "LayoutModel",
          "model_module_version": "1.2.0",
          "state": {
            "_model_module": "@jupyter-widgets/base",
            "_model_module_version": "1.2.0",
            "_model_name": "LayoutModel",
            "_view_count": null,
            "_view_module": "@jupyter-widgets/base",
            "_view_module_version": "1.2.0",
            "_view_name": "LayoutView",
            "align_content": null,
            "align_items": null,
            "align_self": null,
            "border": null,
            "bottom": null,
            "display": null,
            "flex": null,
            "flex_flow": null,
            "grid_area": null,
            "grid_auto_columns": null,
            "grid_auto_flow": null,
            "grid_auto_rows": null,
            "grid_column": null,
            "grid_gap": null,
            "grid_row": null,
            "grid_template_areas": null,
            "grid_template_columns": null,
            "grid_template_rows": null,
            "height": null,
            "justify_content": null,
            "justify_items": null,
            "left": null,
            "margin": null,
            "max_height": null,
            "max_width": null,
            "min_height": null,
            "min_width": null,
            "object_fit": null,
            "object_position": null,
            "order": null,
            "overflow": null,
            "overflow_x": null,
            "overflow_y": null,
            "padding": null,
            "right": null,
            "top": null,
            "visibility": null,
            "width": null
          }
        },
        "5058c4f803db42659bcde52243aa5344": {
          "model_module": "@jupyter-widgets/controls",
          "model_name": "ProgressStyleModel",
          "model_module_version": "1.5.0",
          "state": {
            "_model_module": "@jupyter-widgets/controls",
            "_model_module_version": "1.5.0",
            "_model_name": "ProgressStyleModel",
            "_view_count": null,
            "_view_module": "@jupyter-widgets/base",
            "_view_module_version": "1.2.0",
            "_view_name": "StyleView",
            "bar_color": null,
            "description_width": ""
          }
        },
        "ac1250339dad45d89aa013de94e4b1ea": {
          "model_module": "@jupyter-widgets/base",
          "model_name": "LayoutModel",
          "model_module_version": "1.2.0",
          "state": {
            "_model_module": "@jupyter-widgets/base",
            "_model_module_version": "1.2.0",
            "_model_name": "LayoutModel",
            "_view_count": null,
            "_view_module": "@jupyter-widgets/base",
            "_view_module_version": "1.2.0",
            "_view_name": "LayoutView",
            "align_content": null,
            "align_items": null,
            "align_self": null,
            "border": null,
            "bottom": null,
            "display": null,
            "flex": null,
            "flex_flow": null,
            "grid_area": null,
            "grid_auto_columns": null,
            "grid_auto_flow": null,
            "grid_auto_rows": null,
            "grid_column": null,
            "grid_gap": null,
            "grid_row": null,
            "grid_template_areas": null,
            "grid_template_columns": null,
            "grid_template_rows": null,
            "height": null,
            "justify_content": null,
            "justify_items": null,
            "left": null,
            "margin": null,
            "max_height": null,
            "max_width": null,
            "min_height": null,
            "min_width": null,
            "object_fit": null,
            "object_position": null,
            "order": null,
            "overflow": null,
            "overflow_x": null,
            "overflow_y": null,
            "padding": null,
            "right": null,
            "top": null,
            "visibility": null,
            "width": null
          }
        },
        "b0f94a92ddd747419ce2b4ee701a810e": {
          "model_module": "@jupyter-widgets/controls",
          "model_name": "DescriptionStyleModel",
          "model_module_version": "1.5.0",
          "state": {
            "_model_module": "@jupyter-widgets/controls",
            "_model_module_version": "1.5.0",
            "_model_name": "DescriptionStyleModel",
            "_view_count": null,
            "_view_module": "@jupyter-widgets/base",
            "_view_module_version": "1.2.0",
            "_view_name": "StyleView",
            "description_width": ""
          }
        },
        "fd1d15ef46864dbf912f55d5f789b1de": {
          "model_module": "@jupyter-widgets/controls",
          "model_name": "HBoxModel",
          "model_module_version": "1.5.0",
          "state": {
            "_dom_classes": [],
            "_model_module": "@jupyter-widgets/controls",
            "_model_module_version": "1.5.0",
            "_model_name": "HBoxModel",
            "_view_count": null,
            "_view_module": "@jupyter-widgets/controls",
            "_view_module_version": "1.5.0",
            "_view_name": "HBoxView",
            "box_style": "",
            "children": [
              "IPY_MODEL_ecba8a579d4d4a98a95cbc2941ea671c",
              "IPY_MODEL_26be31e7936b4fe6b449514554c1569e",
              "IPY_MODEL_ca42096eee9449928d00504e8b370c7f"
            ],
            "layout": "IPY_MODEL_59c3e026956c4d6caf8bbdf7a9b6cd96"
          }
        },
        "ecba8a579d4d4a98a95cbc2941ea671c": {
          "model_module": "@jupyter-widgets/controls",
          "model_name": "HTMLModel",
          "model_module_version": "1.5.0",
          "state": {
            "_dom_classes": [],
            "_model_module": "@jupyter-widgets/controls",
            "_model_module_version": "1.5.0",
            "_model_name": "HTMLModel",
            "_view_count": null,
            "_view_module": "@jupyter-widgets/controls",
            "_view_module_version": "1.5.0",
            "_view_name": "HTMLView",
            "description": "",
            "description_tooltip": null,
            "layout": "IPY_MODEL_bd58b27cfbaf488e86f97d965a049b97",
            "placeholder": "​",
            "style": "IPY_MODEL_095c5a2889ef476185671cf52c455083",
            "value": "generation_config.json: 100%"
          }
        },
        "26be31e7936b4fe6b449514554c1569e": {
          "model_module": "@jupyter-widgets/controls",
          "model_name": "FloatProgressModel",
          "model_module_version": "1.5.0",
          "state": {
            "_dom_classes": [],
            "_model_module": "@jupyter-widgets/controls",
            "_model_module_version": "1.5.0",
            "_model_name": "FloatProgressModel",
            "_view_count": null,
            "_view_module": "@jupyter-widgets/controls",
            "_view_module_version": "1.5.0",
            "_view_name": "ProgressView",
            "bar_style": "success",
            "description": "",
            "description_tooltip": null,
            "layout": "IPY_MODEL_cda45d0d47a443e5a9824be7c0141b8b",
            "max": 124,
            "min": 0,
            "orientation": "horizontal",
            "style": "IPY_MODEL_7c1d5fa724ca4b2b99aeaa52e6078a19",
            "value": 124
          }
        },
        "ca42096eee9449928d00504e8b370c7f": {
          "model_module": "@jupyter-widgets/controls",
          "model_name": "HTMLModel",
          "model_module_version": "1.5.0",
          "state": {
            "_dom_classes": [],
            "_model_module": "@jupyter-widgets/controls",
            "_model_module_version": "1.5.0",
            "_model_name": "HTMLModel",
            "_view_count": null,
            "_view_module": "@jupyter-widgets/controls",
            "_view_module_version": "1.5.0",
            "_view_name": "HTMLView",
            "description": "",
            "description_tooltip": null,
            "layout": "IPY_MODEL_f28c4eaecc614577af9e344e92c9cfe4",
            "placeholder": "​",
            "style": "IPY_MODEL_dda53030eed4433197e55d2ebdf24ed1",
            "value": " 124/124 [00:00&lt;00:00, 11.1kB/s]"
          }
        },
        "59c3e026956c4d6caf8bbdf7a9b6cd96": {
          "model_module": "@jupyter-widgets/base",
          "model_name": "LayoutModel",
          "model_module_version": "1.2.0",
          "state": {
            "_model_module": "@jupyter-widgets/base",
            "_model_module_version": "1.2.0",
            "_model_name": "LayoutModel",
            "_view_count": null,
            "_view_module": "@jupyter-widgets/base",
            "_view_module_version": "1.2.0",
            "_view_name": "LayoutView",
            "align_content": null,
            "align_items": null,
            "align_self": null,
            "border": null,
            "bottom": null,
            "display": null,
            "flex": null,
            "flex_flow": null,
            "grid_area": null,
            "grid_auto_columns": null,
            "grid_auto_flow": null,
            "grid_auto_rows": null,
            "grid_column": null,
            "grid_gap": null,
            "grid_row": null,
            "grid_template_areas": null,
            "grid_template_columns": null,
            "grid_template_rows": null,
            "height": null,
            "justify_content": null,
            "justify_items": null,
            "left": null,
            "margin": null,
            "max_height": null,
            "max_width": null,
            "min_height": null,
            "min_width": null,
            "object_fit": null,
            "object_position": null,
            "order": null,
            "overflow": null,
            "overflow_x": null,
            "overflow_y": null,
            "padding": null,
            "right": null,
            "top": null,
            "visibility": null,
            "width": null
          }
        },
        "bd58b27cfbaf488e86f97d965a049b97": {
          "model_module": "@jupyter-widgets/base",
          "model_name": "LayoutModel",
          "model_module_version": "1.2.0",
          "state": {
            "_model_module": "@jupyter-widgets/base",
            "_model_module_version": "1.2.0",
            "_model_name": "LayoutModel",
            "_view_count": null,
            "_view_module": "@jupyter-widgets/base",
            "_view_module_version": "1.2.0",
            "_view_name": "LayoutView",
            "align_content": null,
            "align_items": null,
            "align_self": null,
            "border": null,
            "bottom": null,
            "display": null,
            "flex": null,
            "flex_flow": null,
            "grid_area": null,
            "grid_auto_columns": null,
            "grid_auto_flow": null,
            "grid_auto_rows": null,
            "grid_column": null,
            "grid_gap": null,
            "grid_row": null,
            "grid_template_areas": null,
            "grid_template_columns": null,
            "grid_template_rows": null,
            "height": null,
            "justify_content": null,
            "justify_items": null,
            "left": null,
            "margin": null,
            "max_height": null,
            "max_width": null,
            "min_height": null,
            "min_width": null,
            "object_fit": null,
            "object_position": null,
            "order": null,
            "overflow": null,
            "overflow_x": null,
            "overflow_y": null,
            "padding": null,
            "right": null,
            "top": null,
            "visibility": null,
            "width": null
          }
        },
        "095c5a2889ef476185671cf52c455083": {
          "model_module": "@jupyter-widgets/controls",
          "model_name": "DescriptionStyleModel",
          "model_module_version": "1.5.0",
          "state": {
            "_model_module": "@jupyter-widgets/controls",
            "_model_module_version": "1.5.0",
            "_model_name": "DescriptionStyleModel",
            "_view_count": null,
            "_view_module": "@jupyter-widgets/base",
            "_view_module_version": "1.2.0",
            "_view_name": "StyleView",
            "description_width": ""
          }
        },
        "cda45d0d47a443e5a9824be7c0141b8b": {
          "model_module": "@jupyter-widgets/base",
          "model_name": "LayoutModel",
          "model_module_version": "1.2.0",
          "state": {
            "_model_module": "@jupyter-widgets/base",
            "_model_module_version": "1.2.0",
            "_model_name": "LayoutModel",
            "_view_count": null,
            "_view_module": "@jupyter-widgets/base",
            "_view_module_version": "1.2.0",
            "_view_name": "LayoutView",
            "align_content": null,
            "align_items": null,
            "align_self": null,
            "border": null,
            "bottom": null,
            "display": null,
            "flex": null,
            "flex_flow": null,
            "grid_area": null,
            "grid_auto_columns": null,
            "grid_auto_flow": null,
            "grid_auto_rows": null,
            "grid_column": null,
            "grid_gap": null,
            "grid_row": null,
            "grid_template_areas": null,
            "grid_template_columns": null,
            "grid_template_rows": null,
            "height": null,
            "justify_content": null,
            "justify_items": null,
            "left": null,
            "margin": null,
            "max_height": null,
            "max_width": null,
            "min_height": null,
            "min_width": null,
            "object_fit": null,
            "object_position": null,
            "order": null,
            "overflow": null,
            "overflow_x": null,
            "overflow_y": null,
            "padding": null,
            "right": null,
            "top": null,
            "visibility": null,
            "width": null
          }
        },
        "7c1d5fa724ca4b2b99aeaa52e6078a19": {
          "model_module": "@jupyter-widgets/controls",
          "model_name": "ProgressStyleModel",
          "model_module_version": "1.5.0",
          "state": {
            "_model_module": "@jupyter-widgets/controls",
            "_model_module_version": "1.5.0",
            "_model_name": "ProgressStyleModel",
            "_view_count": null,
            "_view_module": "@jupyter-widgets/base",
            "_view_module_version": "1.2.0",
            "_view_name": "StyleView",
            "bar_color": null,
            "description_width": ""
          }
        },
        "f28c4eaecc614577af9e344e92c9cfe4": {
          "model_module": "@jupyter-widgets/base",
          "model_name": "LayoutModel",
          "model_module_version": "1.2.0",
          "state": {
            "_model_module": "@jupyter-widgets/base",
            "_model_module_version": "1.2.0",
            "_model_name": "LayoutModel",
            "_view_count": null,
            "_view_module": "@jupyter-widgets/base",
            "_view_module_version": "1.2.0",
            "_view_name": "LayoutView",
            "align_content": null,
            "align_items": null,
            "align_self": null,
            "border": null,
            "bottom": null,
            "display": null,
            "flex": null,
            "flex_flow": null,
            "grid_area": null,
            "grid_auto_columns": null,
            "grid_auto_flow": null,
            "grid_auto_rows": null,
            "grid_column": null,
            "grid_gap": null,
            "grid_row": null,
            "grid_template_areas": null,
            "grid_template_columns": null,
            "grid_template_rows": null,
            "height": null,
            "justify_content": null,
            "justify_items": null,
            "left": null,
            "margin": null,
            "max_height": null,
            "max_width": null,
            "min_height": null,
            "min_width": null,
            "object_fit": null,
            "object_position": null,
            "order": null,
            "overflow": null,
            "overflow_x": null,
            "overflow_y": null,
            "padding": null,
            "right": null,
            "top": null,
            "visibility": null,
            "width": null
          }
        },
        "dda53030eed4433197e55d2ebdf24ed1": {
          "model_module": "@jupyter-widgets/controls",
          "model_name": "DescriptionStyleModel",
          "model_module_version": "1.5.0",
          "state": {
            "_model_module": "@jupyter-widgets/controls",
            "_model_module_version": "1.5.0",
            "_model_name": "DescriptionStyleModel",
            "_view_count": null,
            "_view_module": "@jupyter-widgets/base",
            "_view_module_version": "1.2.0",
            "_view_name": "StyleView",
            "description_width": ""
          }
        }
      }
    }
  },
  "nbformat": 4,
  "nbformat_minor": 0
}